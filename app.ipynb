{
  "nbformat": 4,
  "nbformat_minor": 0,
  "metadata": {
    "colab": {
      "provenance": [],
      "authorship_tag": "ABX9TyO6ZSB4q/SFqdbX4aMY3MEI",
      "include_colab_link": true
    },
    "kernelspec": {
      "name": "python3",
      "display_name": "Python 3"
    },
    "language_info": {
      "name": "python"
    }
  },
  "cells": [
    {
      "cell_type": "markdown",
      "metadata": {
        "id": "view-in-github",
        "colab_type": "text"
      },
      "source": [
        "<a href=\"https://colab.research.google.com/github/HowardHNguyen/Data_Science_for_Healthcare/blob/main/app.ipynb\" target=\"_parent\"><img src=\"https://colab.research.google.com/assets/colab-badge.svg\" alt=\"Open In Colab\"/></a>"
      ]
    },
    {
      "cell_type": "markdown",
      "source": [
        "Let's verify the models are trained correctly and interpret the results more closely. Here's what you can do to ensure the models are working as expected:\n",
        "\n",
        "1. Verify the Training Process:\n",
        "Ensure that the models have been trained properly and that the training data is representative.\n",
        "\n",
        "2. Check Feature Importance:\n",
        "Review the feature importances to understand which features the model is prioritizing.\n",
        "\n",
        "3. Cross-Validate the Models:\n",
        "Use cross-validation to ensure the models are not overfitting or underfitting.\n",
        "\n",
        "4. Review Probability Calibration:\n",
        "Ensure the probabilities are calibrated correctly. Sometimes, models can be miscalibrated and not reflect true probabilities accurately."
      ],
      "metadata": {
        "id": "t3_Hbp8MB0lp"
      }
    },
    {
      "cell_type": "markdown",
      "source": [
        "## Step-by-Step Verification\n",
        "**1. Verify the Training Process:**\n",
        "\n",
        "First, ensure that you have handled the NaN values correctly and that the models have been trained with a representative dataset."
      ],
      "metadata": {
        "id": "xroZlla0B9Oy"
      }
    },
    {
      "cell_type": "code",
      "source": [
        "import pandas as pd\n",
        "import numpy as np\n",
        "from sklearn.ensemble import RandomForestClassifier, GradientBoostingClassifier\n",
        "from sklearn.model_selection import train_test_split\n",
        "from sklearn.metrics import accuracy_score, roc_auc_score\n",
        "import joblib\n",
        "\n",
        "# Load dataset from GitHub\n",
        "data_url = 'https://github.com/HowardHNguyen/cvd/raw/master/frmgham2.csv'\n",
        "data = pd.read_csv(data_url)\n",
        "\n",
        "# Handle missing or infinite values\n",
        "data.replace([np.inf, -np.inf], np.nan, inplace=True)\n",
        "data.fillna(data.mean(), inplace=True)\n",
        "\n",
        "# Define features and target variable\n",
        "X = data[['AGE', 'TOTCHOL', 'SYSBP', 'DIABP', 'BMI', 'CURSMOKE', 'GLUCOSE', 'DIABETES', 'HEARTRTE', 'CIGPDAY', 'BPMEDS', 'STROKE', 'HYPERTEN']]\n",
        "y = data['CVD']\n",
        "\n",
        "# Split the dataset for training and testing\n",
        "X_train, X_test, y_train, y_test = train_test_split(X, y, test_size=0.2, random_state=42)\n",
        "\n",
        "# Train the Random Forest model\n",
        "rf_model = RandomForestClassifier(random_state=42)\n",
        "rf_model.fit(X_train, y_train)\n",
        "\n",
        "# Train the Gradient Boosting Machine model\n",
        "gbm_model = GradientBoostingClassifier(random_state=42)\n",
        "gbm_model.fit(X_train, y_train)\n",
        "\n",
        "# Save the trained models to .pkl files\n",
        "joblib.dump(rf_model, 'rf_model.pkl')\n",
        "joblib.dump(gbm_model, 'gbm_model.pkl')\n",
        "\n",
        "# Evaluate models on test set\n",
        "rf_accuracy = accuracy_score(y_test, rf_model.predict(X_test))\n",
        "rf_roc_auc = roc_auc_score(y_test, rf_model.predict_proba(X_test)[:, 1])\n",
        "gbm_accuracy = accuracy_score(y_test, gbm_model.predict(X_test))\n",
        "gbm_roc_auc = roc_auc_score(y_test, gbm_model.predict_proba(X_test)[:, 1])\n",
        "\n",
        "print(f\"Random Forest Accuracy: {rf_accuracy}\")\n",
        "print(f\"Random Forest ROC AUC: {rf_roc_auc}\")\n",
        "print(f\"Gradient Boosting Machine Accuracy: {gbm_accuracy}\")\n",
        "print(f\"Gradient Boosting Machine ROC AUC: {gbm_roc_auc}\")\n"
      ],
      "metadata": {
        "colab": {
          "base_uri": "https://localhost:8080/"
        },
        "id": "VmIUB8CCCDfo",
        "outputId": "d6993383-f1fc-4781-83e0-bec5bbd4d02b"
      },
      "execution_count": 3,
      "outputs": [
        {
          "output_type": "stream",
          "name": "stdout",
          "text": [
            "Random Forest Accuracy: 0.8400687876182287\n",
            "Random Forest ROC AUC: 0.7839592257686491\n",
            "Gradient Boosting Machine Accuracy: 0.8413585554600171\n",
            "Gradient Boosting Machine ROC AUC: 0.8075219925094819\n"
          ]
        }
      ]
    },
    {
      "cell_type": "markdown",
      "source": [
        "**2. Check Feature Importance:**\n",
        "\n",
        "Review the feature importances to ensure that the model is using the correct features."
      ],
      "metadata": {
        "id": "he0HSewYCS6V"
      }
    },
    {
      "cell_type": "code",
      "source": [
        "import matplotlib.pyplot as plt\n",
        "\n",
        "# Feature importances for Random Forest\n",
        "rf_importances = rf_model.feature_importances_\n",
        "feature_names = ['AGE', 'TOTCHOL', 'SYSBP', 'DIABP', 'BMI', 'CURSMOKE', 'GLUCOSE', 'DIABETES', 'HEARTRTE', 'CIGPDAY', 'BPMEDS', 'STROKE', 'HYPERTEN']\n",
        "importance_df = pd.DataFrame({'Feature': feature_names, 'Importance': rf_importances})\n",
        "importance_df = importance_df.sort_values(by='Importance', ascending=False)\n",
        "\n",
        "fig, ax = plt.subplots()\n",
        "ax.barh(importance_df['Feature'], importance_df['Importance'], color='blue')\n",
        "ax.set_xlabel('Importance')\n",
        "ax.set_title('Feature Importances')\n",
        "plt.show()"
      ],
      "metadata": {
        "colab": {
          "base_uri": "https://localhost:8080/",
          "height": 472
        },
        "id": "wQK0FqXsCE6k",
        "outputId": "0590169e-9888-4d42-efa7-7af604cdba74"
      },
      "execution_count": 4,
      "outputs": [
        {
          "output_type": "display_data",
          "data": {
            "text/plain": [
              "<Figure size 640x480 with 1 Axes>"
            ],
            "image/png": "[encoded data removed]"
          },
          "metadata": {}
        }
      ]
    },
    {
      "cell_type": "markdown",
      "source": [
        "**3. Cross-Validate the Models:**\n",
        "\n",
        "Use cross-validation to ensure the models are not overfitting or underfitting."
      ],
      "metadata": {
        "id": "hpftPTwnCnrM"
      }
    },
    {
      "cell_type": "code",
      "source": [
        "from sklearn.model_selection import cross_val_score\n",
        "\n",
        "rf_cv_scores = cross_val_score(rf_model, X, y, cv=5, scoring='roc_auc')\n",
        "gbm_cv_scores = cross_val_score(gbm_model, X, y, cv=5, scoring='roc_auc')\n",
        "\n",
        "print(f\"Random Forest CV ROC AUC: {rf_cv_scores.mean()} (+/- {rf_cv_scores.std() * 2})\")\n",
        "print(f\"Gradient Boosting Machine CV ROC AUC: {gbm_cv_scores.mean()} (+/- {gbm_cv_scores.std() * 2})\")"
      ],
      "metadata": {
        "colab": {
          "base_uri": "https://localhost:8080/"
        },
        "id": "xsH_gf2mCE3F",
        "outputId": "cb69c1bb-69ca-4332-c033-ef34ed59d369"
      },
      "execution_count": 5,
      "outputs": [
        {
          "output_type": "stream",
          "name": "stdout",
          "text": [
            "Random Forest CV ROC AUC: 0.7766324142723569 (+/- 0.02315951463575755)\n",
            "Gradient Boosting Machine CV ROC AUC: 0.7939482981074264 (+/- 0.03056142004477584)\n"
          ]
        }
      ]
    },
    {
      "cell_type": "markdown",
      "source": [
        "**4. Review Probability Calibration:**\n",
        "\n",
        "Ensure the probabilities are calibrated correctly."
      ],
      "metadata": {
        "id": "TXZ7aF2dDBYK"
      }
    },
    {
      "cell_type": "code",
      "source": [
        "from sklearn.calibration import CalibratedClassifierCV, calibration_curve\n",
        "\n",
        "rf_model_calibrated = CalibratedClassifierCV(rf_model, method='sigmoid')\n",
        "rf_model_calibrated.fit(X_train, y_train)\n",
        "\n",
        "gbm_model_calibrated = CalibratedClassifierCV(gbm_model, method='sigmoid')\n",
        "gbm_model_calibrated.fit(X_train, y_train)\n",
        "\n",
        "# Save calibrated models\n",
        "joblib.dump(rf_model_calibrated, 'rf_model_calibrated.pkl')\n",
        "joblib.dump(gbm_model_calibrated, 'gbm_model_calibrated.pkl')\n",
        "\n",
        "# Calibration curves\n",
        "prob_true_rf, prob_pred_rf = calibration_curve(y_test, rf_model_calibrated.predict_proba(X_test)[:, 1], n_bins=10)\n",
        "prob_true_gbm, prob_pred_gbm = calibration_curve(y_test, gbm_model_calibrated.predict_proba(X_test)[:, 1], n_bins=10)\n",
        "\n",
        "fig, ax = plt.subplots()\n",
        "ax.plot(prob_pred_rf, prob_true_rf, marker='o', label='Random Forest')\n",
        "ax.plot(prob_pred_gbm, prob_true_gbm, marker='o', label='Gradient Boosting Machine')\n",
        "ax.plot([0, 1], [0, 1], linestyle='--', color='gray')\n",
        "ax.set_xlabel('Predicted Probability')\n",
        "ax.set_ylabel('True Probability')\n",
        "ax.set_title('Calibration Curves')\n",
        "ax.legend()\n",
        "plt.show()"
      ],
      "metadata": {
        "colab": {
          "base_uri": "https://localhost:8080/",
          "height": 472
        },
        "id": "cn-Pjvf3CE0U",
        "outputId": "21f97fee-fa3d-475d-a296-5f1b7cf9b0f5"
      },
      "execution_count": 6,
      "outputs": [
        {
          "output_type": "display_data",
          "data": {
            "text/plain": [
              "<Figure size 640x480 with 1 Axes>"
            ],
            "image/png": "[encoded data removed]"
          },
          "metadata": {}
        }
      ]
    },
    {
      "cell_type": "markdown",
      "source": [
        "**Streamlit App Code**\n",
        "\n",
        "Code for Streamlit app and save as app.py, we will implement these above calibrated models saved as rf_model_calibrated.pkl and gbm_model_calibrated.pkl:"
      ],
      "metadata": {
        "id": "tpklYu7CDWsk"
      }
    },
    {
      "cell_type": "code",
      "source": [
        "import streamlit as st\n",
        "import pandas as pd\n",
        "import joblib\n",
        "import numpy as np\n",
        "import matplotlib.pyplot as plt\n",
        "from sklearn.calibration import calibration_curve\n",
        "from sklearn.metrics import roc_curve, roc_auc_score\n",
        "import os\n",
        "import urllib.request\n",
        "\n",
        "# Function to download the file\n",
        "def download_file(url, dest):\n",
        "    try:\n",
        "        urllib.request.urlretrieve(url, dest)\n",
        "        return True\n",
        "    except Exception as e:\n",
        "        st.error(f\"Error downloading {url}: {e}\")\n",
        "        return False\n",
        "\n",
        "# URLs for the model files\n",
        "rf_model_url = 'https://raw.githubusercontent.com/HowardHNguyen/cvd/master/rf_model_calibrated.pkl'\n",
        "gbm_model_url = 'https://raw.githubusercontent.com/HowardHNguyen/cvd/master/gbm_model_calibrated.pkl'\n",
        "\n",
        "# Local paths for the model files\n",
        "rf_model_path = 'rf_model_calibrated.pkl'\n",
        "gbm_model_path = 'gbm_model_calibrated.pkl'\n",
        "\n",
        "# Download the models if not already present\n",
        "if not os.path.exists(rf_model_path):\n",
        "    st.info(f\"Downloading {rf_model_path}...\")\n",
        "    download_file(rf_model_url, rf_model_path)\n",
        "\n",
        "if not os.path.exists(gbm_model_path):\n",
        "    st.info(f\"Downloading {gbm_model_path}...\")\n",
        "    download_file(gbm_model_url, gbm_model_path)\n",
        "\n",
        "# Load the calibrated models\n",
        "try:\n",
        "    rf_model_calibrated = joblib.load(rf_model_path)\n",
        "    gbm_model_calibrated = joblib.load(gbm_model_path)\n",
        "except Exception as e:\n",
        "    st.error(f\"Error loading models: {e}\")\n",
        "\n",
        "# Load the dataset\n",
        "data_url = 'https://raw.githubusercontent.com/HowardHNguyen/cvd/master/frmgham2.csv'\n",
        "try:\n",
        "    data = pd.read_csv(data_url)\n",
        "except Exception as e:\n",
        "    st.error(f\"Error loading data: {e}\")\n",
        "\n",
        "# Handle missing values by replacing them with the mean of the respective columns\n",
        "if 'data' in locals():\n",
        "    data.fillna(data.mean(), inplace=True)\n",
        "\n",
        "# Define the feature columns\n",
        "feature_columns = ['AGE', 'TOTCHOL', 'SYSBP', 'DIABP', 'BMI', 'CURSMOKE',\n",
        "                   'GLUCOSE', 'DIABETES', 'HEARTRTE', 'CIGPDAY', 'BPMEDS',\n",
        "                   'STROKE', 'HYPERTEN']\n",
        "\n",
        "# Sidebar for input parameters\n",
        "st.sidebar.header('Enter your parameters')\n",
        "\n",
        "def user_input_features():\n",
        "    age = st.sidebar.slider('Enter your age:', 32, 81, 54)\n",
        "    totchol = st.sidebar.slider('Total Cholesterol:', 107, 696, 200)\n",
        "    sysbp = st.sidebar.slider('Systolic Blood Pressure:', 83, 295, 151)\n",
        "    diabp = st.sidebar.slider('Diastolic Blood Pressure:', 30, 150, 89)\n",
        "    bmi = st.sidebar.slider('BMI:', 14.43, 56.80, 26.77)\n",
        "    cursmoke = st.sidebar.selectbox('Current Smoker:', (0, 1))\n",
        "    glucose = st.sidebar.slider('Glucose:', 39, 478, 117)\n",
        "    diabetes = st.sidebar.selectbox('Diabetes:', (0, 1))\n",
        "    heartrate = st.sidebar.slider('Heart Rate:', 37, 220, 91)\n",
        "    cigpday = st.sidebar.slider('Cigarettes Per Day:', 0, 90, 20)\n",
        "    bpmeds = st.sidebar.selectbox('On BP Meds:', (0, 1))\n",
        "    stroke = st.sidebar.selectbox('Stroke:', (0, 1))\n",
        "    hyperten = st.sidebar.selectbox('Hypertension:', (0, 1))\n",
        "\n",
        "    data = {\n",
        "        'AGE': age,\n",
        "        'TOTCHOL': totchol,\n",
        "        'SYSBP': sysbp,\n",
        "        'DIABP': diabp,\n",
        "        'BMI': bmi,\n",
        "        'CURSMOKE': cursmoke,\n",
        "        'GLUCOSE': glucose,\n",
        "        'DIABETES': diabetes,\n",
        "        'HEARTRTE': heartrate,\n",
        "        'CIGPDAY': cigpday,\n",
        "        'BPMEDS': bpmeds,\n",
        "        'STROKE': stroke,\n",
        "        'HYPERTEN': hyperten\n",
        "    }\n",
        "    features = pd.DataFrame(data, index=[0])\n",
        "    return features\n",
        "\n",
        "input_df = user_input_features()\n",
        "\n",
        "# Apply the model to make predictions\n",
        "if st.sidebar.button('Predict'):\n",
        "    try:\n",
        "        rf_proba_calibrated = rf_model_calibrated.predict_proba(input_df)[:, 1]\n",
        "        gbm_proba_calibrated = gbm_model_calibrated.predict_proba(input_df)[:, 1]\n",
        "    except Exception as e:\n",
        "        st.error(f\"Error making predictions: {e}\")\n",
        "\n",
        "    st.write(\"\"\"\n",
        "    # CVD Prediction App by Howard Nguyen\n",
        "    This app predicts the probability of cardiovascular disease (CVD) using user inputs.\n",
        "    \"\"\")\n",
        "\n",
        "    st.subheader('Predictions')\n",
        "    try:\n",
        "        st.write(f\"- Random Forest model: Your CVD with probability prediction is {rf_proba_calibrated[0]:.2f}\")\n",
        "        st.write(f\"- Gradient Boosting Machine model: Your CVD with probability prediction is {gbm_proba_calibrated[0]:.2f}\")\n",
        "    except:\n",
        "        pass\n",
        "\n",
        "    # Plot the prediction probability distribution\n",
        "    st.subheader('Prediction Probability Distribution')\n",
        "    try:\n",
        "        fig, ax = plt.subplots()\n",
        "        bars = ax.bar(['Random Forest', 'Gradient Boosting Machine'], [rf_proba_calibrated[0], gbm_proba_calibrated[0]], color=['blue', 'orange'])\n",
        "        ax.set_ylim(0, 1)\n",
        "        ax.set_ylabel('Probability')\n",
        "        for bar in bars:\n",
        "            yval = bar.get_height()\n",
        "            ax.text(bar.get_x() + bar.get_width()/2.0, yval, f'{yval:.2f}', va='bottom')  # va: vertical alignment\n",
        "        st.pyplot(fig)\n",
        "    except:\n",
        "        pass\n",
        "\n",
        "    # Plot feature importances for Random Forest\n",
        "    st.subheader('Feature Importances (Random Forest)')\n",
        "    try:\n",
        "        rf_base_model = rf_model_calibrated.estimator  # Access the base estimator\n",
        "        fig, ax = plt.subplots()\n",
        "        importances = rf_base_model.feature_importances_\n",
        "        indices = np.argsort(importances)\n",
        "        ax.barh(range(len(indices)), importances[indices], color='blue', align='center')\n",
        "        ax.set_yticks(range(len(indices)))\n",
        "        ax.set_yticklabels([feature_columns[i] for i in indices])\n",
        "        ax.set_xlabel('Importance')\n",
        "        st.pyplot(fig)\n",
        "    except Exception as e:\n",
        "        st.error(f\"Error plotting feature importances: {e}\")\n",
        "\n",
        "    # Plot ROC curve for both models\n",
        "    st.subheader('Model Performance')\n",
        "    try:\n",
        "        fig, ax = plt.subplots()\n",
        "        fpr_rf, tpr_rf, _ = roc_curve(data['CVD'], rf_model_calibrated.predict_proba(data[feature_columns])[:, 1])\n",
        "        fpr_gbm, tpr_gbm, _ = roc_curve(data['CVD'], gbm_model_calibrated.predict_proba(data[feature_columns])[:, 1])\n",
        "        ax.plot(fpr_rf, tpr_rf, label=f'Random Forest (AUC = {roc_auc_score(data[\"CVD\"], rf_model_calibrated.predict_proba(data[feature_columns])[:, 1]):.2f})')\n",
        "        ax.plot(fpr_gbm, tpr_gbm, label=f'Gradient Boosting Machine (AUC = {roc_auc_score(data[\"CVD\"], gbm_model_calibrated.predict_proba(data[feature_columns])[:, 1]):.2f})')\n",
        "        ax.plot([0, 1], [0, 1], 'k--')\n",
        "        ax.set_xlabel('False Positive Rate')\n",
        "        ax.set_ylabel('True Positive Rate')\n",
        "        ax.set_title('ROC Curve')\n",
        "        ax.legend(loc='best')\n",
        "        st.pyplot(fig)\n",
        "    except Exception as e:\n",
        "        st.error(f\"Error plotting ROC curve: {e}\")\n",
        "else:\n",
        "    st.write(\"## Cardiovascular Disease Prediction App\")\n",
        "    st.write(\"### Enter your parameters and click Predict to get the results.\")\n"
      ],
      "metadata": {
        "id": "vDibkPROCExL"
      },
      "execution_count": null,
      "outputs": []
    },
    {
      "cell_type": "code",
      "source": [],
      "metadata": {
        "id": "Jr-Bhc8KCEuE"
      },
      "execution_count": null,
      "outputs": []
    },
    {
      "cell_type": "code",
      "source": [],
      "metadata": {
        "id": "vh2o3MDYCEq8"
      },
      "execution_count": null,
      "outputs": []
    },
    {
      "cell_type": "code",
      "source": [],
      "metadata": {
        "id": "ubNvUUd0CEni"
      },
      "execution_count": null,
      "outputs": []
    },
    {
      "cell_type": "markdown",
      "source": [
        "## OLD code to backup Re-Generate the top two models"
      ],
      "metadata": {
        "id": "3Bym014_-aei"
      }
    },
    {
      "cell_type": "code",
      "source": [
        "import pandas as pd\n",
        "import numpy as np\n",
        "from sklearn.ensemble import RandomForestClassifier, GradientBoostingClassifier\n",
        "from sklearn.model_selection import train_test_split\n",
        "import joblib\n",
        "\n",
        "# Load dataset from GitHub\n",
        "data_url = 'https://github.com/HowardHNguyen/cvd/raw/master/frmgham2.csv'\n",
        "data = pd.read_csv(data_url)\n",
        "\n",
        "# Handle missing or infinite values\n",
        "data.replace([np.inf, -np.inf], np.nan, inplace=True)\n",
        "data.fillna(data.mean(), inplace=True)\n",
        "\n",
        "# Define features and target variable\n",
        "X = data[['AGE', 'TOTCHOL', 'SYSBP', 'DIABP', 'BMI', 'CURSMOKE', 'GLUCOSE', 'DIABETES', 'HEARTRTE', 'CIGPDAY', 'BPMEDS', 'STROKE', 'HYPERTEN']]\n",
        "y = data['CVD']\n",
        "\n",
        "# Split the dataset for training and testing\n",
        "X_train, X_test, y_train, y_test = train_test_split(X, y, test_size=0.2, random_state=42)\n",
        "\n",
        "# Train the Random Forest model\n",
        "rf_model = RandomForestClassifier(random_state=42)\n",
        "rf_model.fit(X_train, y_train)\n",
        "\n",
        "# Train the Gradient Boosting Machine model\n",
        "gbm_model = GradientBoostingClassifier(random_state=42)\n",
        "gbm_model.fit(X_train, y_train)\n",
        "\n",
        "# Save the trained models to .pkl files\n",
        "joblib.dump(rf_model, 'rf_model.pkl')\n",
        "joblib.dump(gbm_model, 'gbm_model.pkl')\n",
        "\n",
        "# Print the accuracy of the models on the test set\n",
        "print(f\"Random Forest Accuracy: {rf_model.score(X_test, y_test)}\")\n",
        "print(f\"Gradient Boosting Machine Accuracy: {gbm_model.score(X_test, y_test)}\")\n"
      ],
      "metadata": {
        "colab": {
          "base_uri": "https://localhost:8080/"
        },
        "id": "VSYeMEqK6_5a",
        "outputId": "2215070c-b1f1-4754-ac1f-2ee29b9aa215"
      },
      "execution_count": 2,
      "outputs": [
        {
          "output_type": "stream",
          "name": "stdout",
          "text": [
            "Random Forest Accuracy: 0.8400687876182287\n",
            "Gradient Boosting Machine Accuracy: 0.8413585554600171\n"
          ]
        }
      ]
    },
    {
      "cell_type": "markdown",
      "source": [
        "### Backup Streamlit App\n",
        "Ensure the Streamlit app loads the newly trained models:"
      ],
      "metadata": {
        "id": "I6prSjkW7Utq"
      }
    },
    {
      "cell_type": "code",
      "source": [
        "import streamlit as st\n",
        "import pandas as pd\n",
        "import numpy as np\n",
        "import joblib\n",
        "import requests\n",
        "import io\n",
        "import matplotlib.pyplot as plt\n",
        "from sklearn.metrics import roc_curve, roc_auc_score\n",
        "from sklearn.model_selection import train_test_split\n",
        "\n",
        "# Load models from local files\n",
        "rf_model = joblib.load('rf_model.pkl')\n",
        "gbm_model = joblib.load('gbm_model.pkl')\n",
        "\n",
        "# Load dataset from GitHub\n",
        "data_url = 'https://github.com/HowardHNguyen/cvd/raw/master/frmgham2.csv'\n",
        "data = pd.read_csv(data_url)\n",
        "\n",
        "# Handle missing or infinite values\n",
        "data.replace([np.inf, -np.inf], np.nan, inplace=True)\n",
        "data.fillna(data.mean(), inplace=True)\n",
        "\n",
        "# Split the dataset for training and validation\n",
        "X = data[['AGE', 'TOTCHOL', 'SYSBP', 'DIABP', 'BMI', 'CURSMOKE', 'GLUCOSE', 'DIABETES', 'HEARTRTE', 'CIGPDAY', 'BPMEDS', 'STROKE', 'HYPERTEN']]\n",
        "y = data['CVD']\n",
        "X_train, X_val, y_train, y_val = train_test_split(X, y, test_size=0.2, random_state=42)\n",
        "\n",
        "# Set up the Streamlit app layout\n",
        "st.title(\"Cardiovascular Disease Prediction\")\n",
        "st.write(\"Select normal values for * marked fields if you don't know the exact values\")\n",
        "\n",
        "# Input features in the left column\n",
        "col1, col2 = st.columns([1, 2], gap=\"large\")\n",
        "\n",
        "with col1:\n",
        "    age = st.slider('Enter your age:', min_value=32, max_value=81, value=54)\n",
        "    tot_chol = st.slider('Total Cholesterol:', min_value=107, max_value=696, value=200)\n",
        "    sysbp = st.slider('Systolic Blood Pressure:', min_value=83, max_value=295, value=151)\n",
        "    diabp = st.slider('Diastolic Blood Pressure:', min_value=30, max_value=150, value=89)\n",
        "    bmi = st.slider('BMI:', min_value=14.43, max_value=56.80, value=26.77)\n",
        "    cur_smoker = st.selectbox('Current Smoker:', [0, 1])\n",
        "    glucose = st.slider('Glucose:', min_value=39, max_value=478, value=117)\n",
        "    diabetes = st.selectbox('Diabetes:', [0, 1])\n",
        "    heartrate = st.slider('Heart Rate:', min_value=37, max_value=220, value=91)\n",
        "    cigs_per_day = st.slider('Cigarettes Per Day:', min_value=0, max_value=90, value=20)\n",
        "    bp_meds = st.selectbox('On BP Meds:', [0, 1])\n",
        "    prev_strk = st.selectbox('Stroke:', [0, 1])\n",
        "    hypertension = st.selectbox('Hypertension:', [0, 1])\n",
        "\n",
        "# Collect input features\n",
        "features = [age, tot_chol, sysbp, diabp, bmi, cur_smoker, glucose, diabetes, heartrate, cigs_per_day, bp_meds, prev_strk, hypertension]\n",
        "input_data = np.array(features).reshape(1, -1)\n",
        "\n",
        "# Predict and display results in the right column\n",
        "with col2:\n",
        "    if st.button('Predict'):\n",
        "        # Make predictions\n",
        "        rf_proba = rf_model.predict_proba(input_data)[0][1]  # Probability of CVD for Random Forest\n",
        "        gbm_proba = gbm_model.predict_proba(input_data)[0][1]  # Probability of CVD for Gradient Boosting Machine\n",
        "\n",
        "        # Display predictions\n",
        "        st.write(f\"Random Forest Prediction: CVD with probability {rf_proba:.2f}\")\n",
        "        st.write(f\"Gradient Boosting Machine Prediction: CVD with probability {gbm_proba:.2f}\")\n",
        "\n",
        "        # Plot Prediction Probability Distribution\n",
        "        fig, ax = plt.subplots()\n",
        "        ax.bar(['Random Forest', 'Gradient Boosting Machine'], [rf_proba, gbm_proba], color=['blue', 'orange'])\n",
        "        ax.set_ylim(0, 1)\n",
        "        ax.set_ylabel('Probability')\n",
        "        ax.set_title('Prediction Probability Distribution')\n",
        "        st.pyplot(fig)\n",
        "\n",
        "        # Feature importances for Random Forest\n",
        "        st.subheader(\"Feature Importances (Random Forest)\")\n",
        "        rf_importances = rf_model.feature_importances_\n",
        "        feature_names = ['AGE', 'TOTCHOL', 'SYSBP', 'DIABP', 'BMI', 'CURSMOKE', 'GLUCOSE', 'DIABETES', 'HEARTRTE', 'CIGPDAY', 'BPMEDS', 'STROKE', 'HYPERTEN']\n",
        "        importance_df = pd.DataFrame({'Feature': feature_names, 'Importance': rf_importances})\n",
        "        importance_df = importance_df.sort_values(by='Importance', ascending=False)\n",
        "\n",
        "        fig, ax = plt.subplots()\n",
        "        ax.barh(importance_df['Feature'], importance_df['Importance'], color='blue')\n",
        "        ax.set_xlabel('Importance')\n",
        "        ax.set_title('Feature Importances')\n",
        "        st.pyplot(fig)\n",
        "\n",
        "        # ROC Curve and AUC\n",
        "        st.subheader(\"Model Performance\")\n",
        "\n",
        "        # Generate ROC curve data from the validation set\n",
        "        rf_probas_val = rf_model.predict_proba(X_val)[:, 1]\n",
        "        gbm_probas_val = gbm_model.predict_proba(X_val)[:, 1]\n",
        "\n",
        "        fpr_rf, tpr_rf, _ = roc_curve(y_val, rf_probas_val)\n",
        "        fpr_gbm, tpr_gbm, _ = roc_curve(y_val, gbm_probas_val)\n",
        "\n",
        "        fig, ax = plt.subplots()\n",
        "        ax.plot(fpr_rf, tpr_rf, label=f'Random Forest (AUC = {roc_auc_score(y_val, rf_probas_val):.2f})')\n",
        "        ax.plot(fpr_gbm, tpr_gbm, label=f'Gradient Boosting Machine (AUC = {roc_auc_score(y_val, gbm_probas_val):.2f})')\n",
        "        ax.plot([0, 1], [0, 1], linestyle='--', color='gray')\n",
        "        ax.set_xlabel('False Positive Rate')\n",
        "        ax.set_ylabel('True Positive Rate')\n",
        "        ax.set_title('ROC Curve')\n",
        "        ax.legend()\n",
        "        st.pyplot(fig)\n"
      ],
      "metadata": {
        "id": "StEMEufd6_0T"
      },
      "execution_count": null,
      "outputs": []
    },
    {
      "cell_type": "code",
      "source": [],
      "metadata": {
        "id": "YZycyXmN6_wU"
      },
      "execution_count": null,
      "outputs": []
    },
    {
      "cell_type": "code",
      "source": [
        "from google.colab import drive\n",
        "drive.mount('/content/drive')"
      ],
      "metadata": {
        "colab": {
          "base_uri": "https://localhost:8080/"
        },
        "id": "fSAbb-rZpGI4",
        "outputId": "278c4a1c-190d-4df6-c309-3a4f1f880dc2"
      },
      "execution_count": 1,
      "outputs": [
        {
          "output_type": "stream",
          "name": "stdout",
          "text": [
            "Mounted at /content/drive\n"
          ]
        }
      ]
    },
    {
      "cell_type": "code",
      "execution_count": null,
      "metadata": {
        "id": "5KjORL9LDz0x"
      },
      "outputs": [],
      "source": [
        "import streamlit as st\n",
        "import pandas as pd\n",
        "import joblib\n",
        "import matplotlib.pyplot as plt\n",
        "import numpy as np\n",
        "from sklearn.metrics import roc_curve, roc_auc_score\n",
        "from sklearn.model_selection import train_test_split\n",
        "\n",
        "# Load models\n",
        "rf_model = joblib.load('rf_model.pkl')\n",
        "gbm_model = joblib.load('gbm_model.pkl')\n",
        "\n",
        "# Load data\n",
        "data = pd.read_csv('/content/drive/MyDrive/data/frmgham2.csv')\n",
        "\n",
        "# Split data into features and labels\n",
        "X = data[['AGE', 'TOTCHOL', 'SYSBP', 'DIABP', 'BMI', 'CURSMOKE',\n",
        "          'GLUCOSE', 'DIABETES', 'HEARTRTE', 'CIGPDAY', 'BPMEDS', 'STROKE', 'HYPERTEN']]\n",
        "y = data['CVD']\n",
        "\n",
        "# Split the data into training and validation sets\n",
        "X_train, X_val, y_train, y_val = train_test_split(X, y, test_size=0.2, random_state=42)\n",
        "\n",
        "# Ensure there are no NaN or infinite values in the validation data\n",
        "X_val = X_val.replace([np.inf, -np.inf], np.nan).dropna()\n",
        "y_val = y_val.loc[X_val.index]\n",
        "\n",
        "# Define the app layout\n",
        "st.title('Cardiovascular Disease Prediction by Howard Nguyen')\n",
        "st.write('Select normal values for * marked fields if you don\\'t know the exact values')\n",
        "\n",
        "col1, col_space, col2 = st.columns([1, 0.1, 1])\n",
        "\n",
        "with col1:\n",
        "    # User inputs with sliders\n",
        "\tage = st.slider('Enter your age:', min_value=32, max_value=81, value=32)\n",
        "\ttotchol = st.slider('Total Cholesterol:', min_value=107, max_value=696, value=200)\n",
        "\tsysbp = st.slider('Systolic Blood Pressure:', min_value=83, max_value=295, value=120)\n",
        "\tdiabp = st.slider('Diastolic Blood Pressure:', min_value=30, max_value=150, value=80)\n",
        "\tbmi = st.slider('BMI:', min_value=14.43, max_value=56.8, value=25.0)\n",
        "\tcursmoke = st.selectbox('Current Smoker:', [0, 1])\n",
        "\tglucose = st.slider('Glucose:', min_value=39, max_value=478, value=100)\n",
        "\tdiabetes = st.selectbox('Diabetes:', [0, 1])\n",
        "\theartrate = st.slider('Heart Rate:', min_value=37, max_value=220, value=70)\n",
        "\tcigpday = st.slider('Cigarettes Per Day:', min_value=0, max_value=90, value=0)\n",
        "\tbpmeds = st.selectbox('On BP Meds:', [0, 1])\n",
        "\tstroke = st.selectbox('Stroke:', [0, 1])\n",
        "\thyperten = st.selectbox('Hypertension:', [0, 1])\n",
        "\n",
        "predict_button = col2.button('Predict Your CVD Probability')\n",
        "\n",
        "if predict_button:\n",
        "    input_data = pd.DataFrame({\n",
        "        'AGE': [age], 'TOTCHOL': [totchol], 'SYSBP': [sysbp], 'DIABP': [diabp],\n",
        "        'BMI': [bmi], 'CURSMOKE': [cursmoke], 'GLUCOSE': [glucose], 'DIABETES': [diabetes],\n",
        "        'HEARTRTE': [heartrate], 'CIGPDAY': [cigpday], 'BPMEDS': [bpmeds],\n",
        "        'STROKE': [stroke], 'HYPERTEN': [hyperten]\n",
        "    })\n",
        "\n",
        "    # Make predictions\n",
        "    rf_proba = rf_model.predict_proba(input_data)\n",
        "    gbm_proba = gbm_model.predict_proba(input_data)\n",
        "    rf_pred = rf_model.predict(input_data)[0]\n",
        "    gbm_pred = gbm_model.predict(input_data)[0]\n",
        "\n",
        "    with col2:\n",
        "        # Show predictions\n",
        "        st.write(f\"Random Forest Prediction: {'CVD' if rf_pred else 'No CVD'} with probability {rf_proba[0][1]:.2f}\")\n",
        "        st.write(f\"Gradient Boosting Machine Prediction: {'CVD' if gbm_pred else 'No CVD'} with probability {gbm_proba[0][1]:.2f}\")\n",
        "\n",
        "        st.subheader(\"Prediction Probability Distribution\")\n",
        "        plt.figure(figsize=(10, 5))\n",
        "        plt.hist(rf_proba[:, 1], bins=10, alpha=0.5, label='Random Forest')\n",
        "        plt.hist(gbm_proba[:, 1], bins=10, alpha=0.5, label='Gradient Boosting Machine')\n",
        "        plt.xlabel('Probability')\n",
        "        plt.ylabel('Frequency')\n",
        "        plt.title('Prediction Probability Distribution')\n",
        "        plt.legend()\n",
        "        st.pyplot(plt)\n",
        "\n",
        "        st.subheader(\"Feature Importances (Random Forest)\")\n",
        "        feature_importances = rf_model.feature_importances_\n",
        "        features = X.columns\n",
        "        plt.figure(figsize=(10, 5))\n",
        "        plt.barh(features, feature_importances, color='royalblue')\n",
        "        plt.xlabel('Importance')\n",
        "        plt.ylabel('Feature')\n",
        "        st.pyplot(plt)\n",
        "\n",
        "        # Static ROC Curve Calculation using validation data\n",
        "        fpr_rf, tpr_rf, _ = roc_curve(y_val, rf_model.predict_proba(X_val)[:, 1])\n",
        "        fpr_gbm, tpr_gbm, _ = roc_curve(y_val, gbm_model.predict_proba(X_val)[:, 1])\n",
        "\n",
        "        st.subheader(\"Model Performance\")\n",
        "        plt.figure(figsize=(10, 5))\n",
        "        plt.plot(fpr_rf, tpr_rf, label=f'Random Forest (AUC = {roc_auc_score(y_val, rf_model.predict_proba(X_val)[:, 1]):.2f})')\n",
        "        plt.plot(fpr_gbm, tpr_gbm, label=f'Gradient Boosting Machine (AUC = {roc_auc_score(y_val, gbm_model.predict_proba(X_val)[:, 1]):.2f})')\n",
        "        plt.plot([0, 1], [0, 1], 'k--')\n",
        "        plt.xlabel('False Positive Rate')\n",
        "        plt.ylabel('True Positive Rate')\n",
        "        plt.title('ROC Curve')\n",
        "        plt.legend()\n",
        "        st.pyplot(plt)\n"
      ]
    }
  ]
}