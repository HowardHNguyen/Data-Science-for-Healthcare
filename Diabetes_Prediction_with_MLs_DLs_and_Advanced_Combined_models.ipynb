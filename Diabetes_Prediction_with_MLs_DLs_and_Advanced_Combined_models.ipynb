{
  "cells": [
    {
      "cell_type": "markdown",
      "metadata": {
        "id": "view-in-github",
        "colab_type": "text"
      },
      "source": [
        "<a href=\"https://colab.research.google.com/github/HowardHNguyen/Data_Science_for_Healthcare/blob/main/Diabetes_Prediction_with_MLs_DLs_and_Advanced_Combined_models.ipynb\" target=\"_parent\"><img src=\"https://colab.research.google.com/assets/colab-badge.svg\" alt=\"Open In Colab\"/></a>"
      ]
    },
    {
      "cell_type": "markdown",
      "source": [
        "# Data Loading and EDA"
      ],
      "metadata": {
        "id": "YQn6scR-oH9Z"
      },
      "id": "YQn6scR-oH9Z"
    },
    {
      "cell_type": "code",
      "execution_count": 1,
      "id": "b716915e",
      "metadata": {
        "id": "b716915e"
      },
      "outputs": [],
      "source": [
        "import pandas as pd\n",
        "import numpy as np\n",
        "import matplotlib.pyplot as plt\n",
        "import seaborn as sns\n",
        "from sklearn.model_selection import train_test_split\n",
        "from sklearn.preprocessing import StandardScaler\n",
        "from sklearn.ensemble import RandomForestClassifier\n",
        "from sklearn.metrics import classification_report, roc_auc_score\n",
        "\n",
        "import warnings\n",
        "warnings.filterwarnings('ignore')"
      ]
    },
    {
      "cell_type": "code",
      "source": [
        "from google.colab import drive\n",
        "drive.mount('/content/drive')"
      ],
      "metadata": {
        "colab": {
          "base_uri": "https://localhost:8080/"
        },
        "id": "6G4czj-nE8ba",
        "outputId": "f577f0b9-5d4a-478b-bf08-72ee0665b1dd"
      },
      "id": "6G4czj-nE8ba",
      "execution_count": 3,
      "outputs": [
        {
          "output_type": "stream",
          "name": "stdout",
          "text": [
            "Mounted at /content/drive\n"
          ]
        }
      ]
    },
    {
      "cell_type": "code",
      "execution_count": 4,
      "id": "c5214c99",
      "metadata": {
        "id": "c5214c99"
      },
      "outputs": [],
      "source": [
        "# Load data\n",
        "data = pd.read_csv('/content/drive/MyDrive/_Python/diabetes_data/diabetes_01.csv')"
      ]
    },
    {
      "cell_type": "code",
      "execution_count": 5,
      "id": "5e64ad4a",
      "metadata": {
        "id": "5e64ad4a",
        "colab": {
          "base_uri": "https://localhost:8080/",
          "height": 206
        },
        "outputId": "711e2cf8-1b73-41db-8923-d1cc0c04a194"
      },
      "outputs": [
        {
          "output_type": "execute_result",
          "data": {
            "text/plain": [
              "   Pregnancies  Glucose  BloodPressure  SkinThickness  Insulin   BMI  \\\n",
              "0            6      148             72             35        0  33.6   \n",
              "1            1       85             66             29        0  26.6   \n",
              "2            8      183             64              0        0  23.3   \n",
              "3            1       89             66             23       94  28.1   \n",
              "4            0      137             40             35      168  43.1   \n",
              "\n",
              "   DiabetesPedigreeFunction  Age  Outcome  \n",
              "0                     0.627   50        1  \n",
              "1                     0.351   31        0  \n",
              "2                     0.672   32        1  \n",
              "3                     0.167   21        0  \n",
              "4                     2.288   33        1  "
            ],
            "text/html": [
              "\n",
              "  <div id=\"df-42afb32b-57c4-4aab-b0a6-be43adbd636d\" class=\"colab-df-container\">\n",
              "    <div>\n",
              "<style scoped>\n",
              "    .dataframe tbody tr th:only-of-type {\n",
              "        vertical-align: middle;\n",
              "    }\n",
              "\n",
              "    .dataframe tbody tr th {\n",
              "        vertical-align: top;\n",
              "    }\n",
              "\n",
              "    .dataframe thead th {\n",
              "        text-align: right;\n",
              "    }\n",
              "</style>\n",
              "<table border=\"1\" class=\"dataframe\">\n",
              "  <thead>\n",
              "    <tr style=\"text-align: right;\">\n",
              "      <th></th>\n",
              "      <th>Pregnancies</th>\n",
              "      <th>Glucose</th>\n",
              "      <th>BloodPressure</th>\n",
              "      <th>SkinThickness</th>\n",
              "      <th>Insulin</th>\n",
              "      <th>BMI</th>\n",
              "      <th>DiabetesPedigreeFunction</th>\n",
              "      <th>Age</th>\n",
              "      <th>Outcome</th>\n",
              "    </tr>\n",
              "  </thead>\n",
              "  <tbody>\n",
              "    <tr>\n",
              "      <th>0</th>\n",
              "      <td>6</td>\n",
              "      <td>148</td>\n",
              "      <td>72</td>\n",
              "      <td>35</td>\n",
              "      <td>0</td>\n",
              "      <td>33.6</td>\n",
              "      <td>0.627</td>\n",
              "      <td>50</td>\n",
              "      <td>1</td>\n",
              "    </tr>\n",
              "    <tr>\n",
              "      <th>1</th>\n",
              "      <td>1</td>\n",
              "      <td>85</td>\n",
              "      <td>66</td>\n",
              "      <td>29</td>\n",
              "      <td>0</td>\n",
              "      <td>26.6</td>\n",
              "      <td>0.351</td>\n",
              "      <td>31</td>\n",
              "      <td>0</td>\n",
              "    </tr>\n",
              "    <tr>\n",
              "      <th>2</th>\n",
              "      <td>8</td>\n",
              "      <td>183</td>\n",
              "      <td>64</td>\n",
              "      <td>0</td>\n",
              "      <td>0</td>\n",
              "      <td>23.3</td>\n",
              "      <td>0.672</td>\n",
              "      <td>32</td>\n",
              "      <td>1</td>\n",
              "    </tr>\n",
              "    <tr>\n",
              "      <th>3</th>\n",
              "      <td>1</td>\n",
              "      <td>89</td>\n",
              "      <td>66</td>\n",
              "      <td>23</td>\n",
              "      <td>94</td>\n",
              "      <td>28.1</td>\n",
              "      <td>0.167</td>\n",
              "      <td>21</td>\n",
              "      <td>0</td>\n",
              "    </tr>\n",
              "    <tr>\n",
              "      <th>4</th>\n",
              "      <td>0</td>\n",
              "      <td>137</td>\n",
              "      <td>40</td>\n",
              "      <td>35</td>\n",
              "      <td>168</td>\n",
              "      <td>43.1</td>\n",
              "      <td>2.288</td>\n",
              "      <td>33</td>\n",
              "      <td>1</td>\n",
              "    </tr>\n",
              "  </tbody>\n",
              "</table>\n",
              "</div>\n",
              "    <div class=\"colab-df-buttons\">\n",
              "\n",
              "  <div class=\"colab-df-container\">\n",
              "    <button class=\"colab-df-convert\" onclick=\"convertToInteractive('df-42afb32b-57c4-4aab-b0a6-be43adbd636d')\"\n",
              "            title=\"Convert this dataframe to an interactive table.\"\n",
              "            style=\"display:none;\">\n",
              "\n",
              "  <svg xmlns=\"http://www.w3.org/2000/svg\" height=\"24px\" viewBox=\"0 -960 960 960\">\n",
              "    <path d=\"M120-120v-720h720v720H120Zm60-500h600v-160H180v160Zm220 220h160v-160H400v160Zm0 220h160v-160H400v160ZM180-400h160v-160H180v160Zm440 0h160v-160H620v160ZM180-180h160v-160H180v160Zm440 0h160v-160H620v160Z\"/>\n",
              "  </svg>\n",
              "    </button>\n",
              "\n",
              "  <style>\n",
              "    .colab-df-container {\n",
              "      display:flex;\n",
              "      gap: 12px;\n",
              "    }\n",
              "\n",
              "    .colab-df-convert {\n",
              "      background-color: #E8F0FE;\n",
              "      border: none;\n",
              "      border-radius: 50%;\n",
              "      cursor: pointer;\n",
              "      display: none;\n",
              "      fill: #1967D2;\n",
              "      height: 32px;\n",
              "      padding: 0 0 0 0;\n",
              "      width: 32px;\n",
              "    }\n",
              "\n",
              "    .colab-df-convert:hover {\n",
              "      background-color: #E2EBFA;\n",
              "      box-shadow: 0px 1px 2px rgba(60, 64, 67, 0.3), 0px 1px 3px 1px rgba(60, 64, 67, 0.15);\n",
              "      fill: #174EA6;\n",
              "    }\n",
              "\n",
              "    .colab-df-buttons div {\n",
              "      margin-bottom: 4px;\n",
              "    }\n",
              "\n",
              "    [theme=dark] .colab-df-convert {\n",
              "      background-color: #3B4455;\n",
              "      fill: #D2E3FC;\n",
              "    }\n",
              "\n",
              "    [theme=dark] .colab-df-convert:hover {\n",
              "      background-color: #434B5C;\n",
              "      box-shadow: 0px 1px 3px 1px rgba(0, 0, 0, 0.15);\n",
              "      filter: drop-shadow(0px 1px 2px rgba(0, 0, 0, 0.3));\n",
              "      fill: #FFFFFF;\n",
              "    }\n",
              "  </style>\n",
              "\n",
              "    <script>\n",
              "      const buttonEl =\n",
              "        document.querySelector('#df-42afb32b-57c4-4aab-b0a6-be43adbd636d button.colab-df-convert');\n",
              "      buttonEl.style.display =\n",
              "        google.colab.kernel.accessAllowed ? 'block' : 'none';\n",
              "\n",
              "      async function convertToInteractive(key) {\n",
              "        const element = document.querySelector('#df-42afb32b-57c4-4aab-b0a6-be43adbd636d');\n",
              "        const dataTable =\n",
              "          await google.colab.kernel.invokeFunction('convertToInteractive',\n",
              "                                                    [key], {});\n",
              "        if (!dataTable) return;\n",
              "\n",
              "        const docLinkHtml = 'Like what you see? Visit the ' +\n",
              "          '<a target=\"_blank\" href=https://colab.research.google.com/notebooks/data_table.ipynb>data table notebook</a>'\n",
              "          + ' to learn more about interactive tables.';\n",
              "        element.innerHTML = '';\n",
              "        dataTable['output_type'] = 'display_data';\n",
              "        await google.colab.output.renderOutput(dataTable, element);\n",
              "        const docLink = document.createElement('div');\n",
              "        docLink.innerHTML = docLinkHtml;\n",
              "        element.appendChild(docLink);\n",
              "      }\n",
              "    </script>\n",
              "  </div>\n",
              "\n",
              "\n",
              "<div id=\"df-c732f529-06bd-4cb8-a19d-19beadd3283f\">\n",
              "  <button class=\"colab-df-quickchart\" onclick=\"quickchart('df-c732f529-06bd-4cb8-a19d-19beadd3283f')\"\n",
              "            title=\"Suggest charts\"\n",
              "            style=\"display:none;\">\n",
              "\n",
              "<svg xmlns=\"http://www.w3.org/2000/svg\" height=\"24px\"viewBox=\"0 0 24 24\"\n",
              "     width=\"24px\">\n",
              "    <g>\n",
              "        <path d=\"M19 3H5c-1.1 0-2 .9-2 2v14c0 1.1.9 2 2 2h14c1.1 0 2-.9 2-2V5c0-1.1-.9-2-2-2zM9 17H7v-7h2v7zm4 0h-2V7h2v10zm4 0h-2v-4h2v4z\"/>\n",
              "    </g>\n",
              "</svg>\n",
              "  </button>\n",
              "\n",
              "<style>\n",
              "  .colab-df-quickchart {\n",
              "      --bg-color: #E8F0FE;\n",
              "      --fill-color: #1967D2;\n",
              "      --hover-bg-color: #E2EBFA;\n",
              "      --hover-fill-color: #174EA6;\n",
              "      --disabled-fill-color: #AAA;\n",
              "      --disabled-bg-color: #DDD;\n",
              "  }\n",
              "\n",
              "  [theme=dark] .colab-df-quickchart {\n",
              "      --bg-color: #3B4455;\n",
              "      --fill-color: #D2E3FC;\n",
              "      --hover-bg-color: #434B5C;\n",
              "      --hover-fill-color: #FFFFFF;\n",
              "      --disabled-bg-color: #3B4455;\n",
              "      --disabled-fill-color: #666;\n",
              "  }\n",
              "\n",
              "  .colab-df-quickchart {\n",
              "    background-color: var(--bg-color);\n",
              "    border: none;\n",
              "    border-radius: 50%;\n",
              "    cursor: pointer;\n",
              "    display: none;\n",
              "    fill: var(--fill-color);\n",
              "    height: 32px;\n",
              "    padding: 0;\n",
              "    width: 32px;\n",
              "  }\n",
              "\n",
              "  .colab-df-quickchart:hover {\n",
              "    background-color: var(--hover-bg-color);\n",
              "    box-shadow: 0 1px 2px rgba(60, 64, 67, 0.3), 0 1px 3px 1px rgba(60, 64, 67, 0.15);\n",
              "    fill: var(--button-hover-fill-color);\n",
              "  }\n",
              "\n",
              "  .colab-df-quickchart-complete:disabled,\n",
              "  .colab-df-quickchart-complete:disabled:hover {\n",
              "    background-color: var(--disabled-bg-color);\n",
              "    fill: var(--disabled-fill-color);\n",
              "    box-shadow: none;\n",
              "  }\n",
              "\n",
              "  .colab-df-spinner {\n",
              "    border: 2px solid var(--fill-color);\n",
              "    border-color: transparent;\n",
              "    border-bottom-color: var(--fill-color);\n",
              "    animation:\n",
              "      spin 1s steps(1) infinite;\n",
              "  }\n",
              "\n",
              "  @keyframes spin {\n",
              "    0% {\n",
              "      border-color: transparent;\n",
              "      border-bottom-color: var(--fill-color);\n",
              "      border-left-color: var(--fill-color);\n",
              "    }\n",
              "    20% {\n",
              "      border-color: transparent;\n",
              "      border-left-color: var(--fill-color);\n",
              "      border-top-color: var(--fill-color);\n",
              "    }\n",
              "    30% {\n",
              "      border-color: transparent;\n",
              "      border-left-color: var(--fill-color);\n",
              "      border-top-color: var(--fill-color);\n",
              "      border-right-color: var(--fill-color);\n",
              "    }\n",
              "    40% {\n",
              "      border-color: transparent;\n",
              "      border-right-color: var(--fill-color);\n",
              "      border-top-color: var(--fill-color);\n",
              "    }\n",
              "    60% {\n",
              "      border-color: transparent;\n",
              "      border-right-color: var(--fill-color);\n",
              "    }\n",
              "    80% {\n",
              "      border-color: transparent;\n",
              "      border-right-color: var(--fill-color);\n",
              "      border-bottom-color: var(--fill-color);\n",
              "    }\n",
              "    90% {\n",
              "      border-color: transparent;\n",
              "      border-bottom-color: var(--fill-color);\n",
              "    }\n",
              "  }\n",
              "</style>\n",
              "\n",
              "  <script>\n",
              "    async function quickchart(key) {\n",
              "      const quickchartButtonEl =\n",
              "        document.querySelector('#' + key + ' button');\n",
              "      quickchartButtonEl.disabled = true;  // To prevent multiple clicks.\n",
              "      quickchartButtonEl.classList.add('colab-df-spinner');\n",
              "      try {\n",
              "        const charts = await google.colab.kernel.invokeFunction(\n",
              "            'suggestCharts', [key], {});\n",
              "      } catch (error) {\n",
              "        console.error('Error during call to suggestCharts:', error);\n",
              "      }\n",
              "      quickchartButtonEl.classList.remove('colab-df-spinner');\n",
              "      quickchartButtonEl.classList.add('colab-df-quickchart-complete');\n",
              "    }\n",
              "    (() => {\n",
              "      let quickchartButtonEl =\n",
              "        document.querySelector('#df-c732f529-06bd-4cb8-a19d-19beadd3283f button');\n",
              "      quickchartButtonEl.style.display =\n",
              "        google.colab.kernel.accessAllowed ? 'block' : 'none';\n",
              "    })();\n",
              "  </script>\n",
              "</div>\n",
              "\n",
              "    </div>\n",
              "  </div>\n"
            ],
            "application/vnd.google.colaboratory.intrinsic+json": {
              "type": "dataframe",
              "variable_name": "data",
              "summary": "{\n  \"name\": \"data\",\n  \"rows\": 768,\n  \"fields\": [\n    {\n      \"column\": \"Pregnancies\",\n      \"properties\": {\n        \"dtype\": \"number\",\n        \"std\": 3,\n        \"min\": 0,\n        \"max\": 17,\n        \"num_unique_values\": 17,\n        \"samples\": [\n          6,\n          1,\n          3\n        ],\n        \"semantic_type\": \"\",\n        \"description\": \"\"\n      }\n    },\n    {\n      \"column\": \"Glucose\",\n      \"properties\": {\n        \"dtype\": \"number\",\n        \"std\": 31,\n        \"min\": 0,\n        \"max\": 199,\n        \"num_unique_values\": 136,\n        \"samples\": [\n          151,\n          101,\n          112\n        ],\n        \"semantic_type\": \"\",\n        \"description\": \"\"\n      }\n    },\n    {\n      \"column\": \"BloodPressure\",\n      \"properties\": {\n        \"dtype\": \"number\",\n        \"std\": 19,\n        \"min\": 0,\n        \"max\": 122,\n        \"num_unique_values\": 47,\n        \"samples\": [\n          86,\n          46,\n          85\n        ],\n        \"semantic_type\": \"\",\n        \"description\": \"\"\n      }\n    },\n    {\n      \"column\": \"SkinThickness\",\n      \"properties\": {\n        \"dtype\": \"number\",\n        \"std\": 15,\n        \"min\": 0,\n        \"max\": 99,\n        \"num_unique_values\": 51,\n        \"samples\": [\n          7,\n          12,\n          48\n        ],\n        \"semantic_type\": \"\",\n        \"description\": \"\"\n      }\n    },\n    {\n      \"column\": \"Insulin\",\n      \"properties\": {\n        \"dtype\": \"number\",\n        \"std\": 115,\n        \"min\": 0,\n        \"max\": 846,\n        \"num_unique_values\": 186,\n        \"samples\": [\n          52,\n          41,\n          183\n        ],\n        \"semantic_type\": \"\",\n        \"description\": \"\"\n      }\n    },\n    {\n      \"column\": \"BMI\",\n      \"properties\": {\n        \"dtype\": \"number\",\n        \"std\": 7.884160320375446,\n        \"min\": 0.0,\n        \"max\": 67.1,\n        \"num_unique_values\": 248,\n        \"samples\": [\n          19.9,\n          31.0,\n          38.1\n        ],\n        \"semantic_type\": \"\",\n        \"description\": \"\"\n      }\n    },\n    {\n      \"column\": \"DiabetesPedigreeFunction\",\n      \"properties\": {\n        \"dtype\": \"number\",\n        \"std\": 0.3313285950127749,\n        \"min\": 0.078,\n        \"max\": 2.42,\n        \"num_unique_values\": 517,\n        \"samples\": [\n          1.731,\n          0.426,\n          0.138\n        ],\n        \"semantic_type\": \"\",\n        \"description\": \"\"\n      }\n    },\n    {\n      \"column\": \"Age\",\n      \"properties\": {\n        \"dtype\": \"number\",\n        \"std\": 11,\n        \"min\": 21,\n        \"max\": 81,\n        \"num_unique_values\": 52,\n        \"samples\": [\n          60,\n          47,\n          72\n        ],\n        \"semantic_type\": \"\",\n        \"description\": \"\"\n      }\n    },\n    {\n      \"column\": \"Outcome\",\n      \"properties\": {\n        \"dtype\": \"number\",\n        \"std\": 0,\n        \"min\": 0,\n        \"max\": 1,\n        \"num_unique_values\": 2,\n        \"samples\": [\n          0,\n          1\n        ],\n        \"semantic_type\": \"\",\n        \"description\": \"\"\n      }\n    }\n  ]\n}"
            }
          },
          "metadata": {},
          "execution_count": 5
        }
      ],
      "source": [
        "data.head()"
      ]
    },
    {
      "cell_type": "code",
      "source": [
        "data.isnull().sum()"
      ],
      "metadata": {
        "colab": {
          "base_uri": "https://localhost:8080/"
        },
        "id": "v8Q6ThhnjC6B",
        "outputId": "ef058952-8785-45b0-e0fc-d80219212012"
      },
      "id": "v8Q6ThhnjC6B",
      "execution_count": 6,
      "outputs": [
        {
          "output_type": "execute_result",
          "data": {
            "text/plain": [
              "Pregnancies                 0\n",
              "Glucose                     0\n",
              "BloodPressure               0\n",
              "SkinThickness               0\n",
              "Insulin                     0\n",
              "BMI                         0\n",
              "DiabetesPedigreeFunction    0\n",
              "Age                         0\n",
              "Outcome                     0\n",
              "dtype: int64"
            ]
          },
          "metadata": {},
          "execution_count": 6
        }
      ]
    },
    {
      "cell_type": "code",
      "source": [
        "# filling missing values with mean values\n",
        "data.fillna(data.mean(), inplace=True)"
      ],
      "metadata": {
        "id": "bGB7R98Ks9uW"
      },
      "id": "bGB7R98Ks9uW",
      "execution_count": null,
      "outputs": []
    },
    {
      "cell_type": "code",
      "source": [
        "data.shape"
      ],
      "metadata": {
        "colab": {
          "base_uri": "https://localhost:8080/"
        },
        "id": "GLuegHdUkZ00",
        "outputId": "55072c14-b608-4eac-dd07-9f7d514b2e99"
      },
      "id": "GLuegHdUkZ00",
      "execution_count": 7,
      "outputs": [
        {
          "output_type": "execute_result",
          "data": {
            "text/plain": [
              "(768, 9)"
            ]
          },
          "metadata": {},
          "execution_count": 7
        }
      ]
    },
    {
      "cell_type": "code",
      "source": [
        "data.columns"
      ],
      "metadata": {
        "colab": {
          "base_uri": "https://localhost:8080/"
        },
        "id": "-LR9uFr_QejU",
        "outputId": "b66bd72e-d223-4084-db7f-0656f50175ca"
      },
      "id": "-LR9uFr_QejU",
      "execution_count": 8,
      "outputs": [
        {
          "output_type": "execute_result",
          "data": {
            "text/plain": [
              "Index(['Pregnancies', 'Glucose', 'BloodPressure', 'SkinThickness', 'Insulin',\n",
              "       'BMI', 'DiabetesPedigreeFunction', 'Age', 'Outcome'],\n",
              "      dtype='object')"
            ]
          },
          "metadata": {},
          "execution_count": 8
        }
      ]
    },
    {
      "cell_type": "code",
      "source": [
        "plt.figure(figsize=(12, 6), facecolor='w')\n",
        "sns.boxplot(data=data)\n",
        "#sns.heatmap(data.corr(), annot=True, cmap='coolwarm')\n",
        "#plt.title('Correlation Matrix')\n",
        "plt.show()"
      ],
      "metadata": {
        "colab": {
          "base_uri": "https://localhost:8080/",
          "height": 521
        },
        "id": "LZ21QL7nc_W-",
        "outputId": "12347264-c175-4f89-d0e2-508b6c93c918"
      },
      "id": "LZ21QL7nc_W-",
      "execution_count": 9,
      "outputs": [
        {
          "output_type": "display_data",
          "data": {
            "text/plain": [
              "<Figure size 1200x600 with 1 Axes>"
            ],
            "image/png": "[encoded data removed]"
          },
          "metadata": {}
        }
      ]
    },
    {
      "cell_type": "code",
      "execution_count": 11,
      "id": "53fa3ff3",
      "metadata": {
        "colab": {
          "base_uri": "https://localhost:8080/"
        },
        "id": "53fa3ff3",
        "outputId": "9bb97d33-dce0-4163-c8fa-36631375ace1"
      },
      "outputs": [
        {
          "output_type": "execute_result",
          "data": {
            "text/plain": [
              "Outcome\n",
              "0    500\n",
              "1    268\n",
              "Name: count, dtype: int64"
            ]
          },
          "metadata": {},
          "execution_count": 11
        }
      ],
      "source": [
        "data['Outcome'].value_counts()"
      ]
    },
    {
      "cell_type": "code",
      "source": [
        "#grouped = pd.DataFrame(grouped)"
      ],
      "metadata": {
        "id": "wCMIUKzk-6b3"
      },
      "id": "wCMIUKzk-6b3",
      "execution_count": null,
      "outputs": []
    },
    {
      "cell_type": "markdown",
      "source": [
        "# Further Analysis with MLs and DLs"
      ],
      "metadata": {
        "id": "sgGxCMq6J1uc"
      },
      "id": "sgGxCMq6J1uc"
    },
    {
      "cell_type": "markdown",
      "source": [
        "**Multivariate Analysis:**\n",
        " - We can use logistic regression to evaluate the combined impact of various factors on Outcome status."
      ],
      "metadata": {
        "id": "qPmAfFz3JoNr"
      },
      "id": "qPmAfFz3JoNr"
    },
    {
      "cell_type": "code",
      "source": [
        "data.columns"
      ],
      "metadata": {
        "colab": {
          "base_uri": "https://localhost:8080/"
        },
        "id": "vT5bTVPcjsnt",
        "outputId": "999985ce-498c-4901-f0a3-fa04ad2b5577"
      },
      "id": "vT5bTVPcjsnt",
      "execution_count": 13,
      "outputs": [
        {
          "output_type": "execute_result",
          "data": {
            "text/plain": [
              "Index(['Pregnancies', 'Glucose', 'BloodPressure', 'SkinThickness', 'Insulin',\n",
              "       'BMI', 'DiabetesPedigreeFunction', 'Age', 'Outcome'],\n",
              "      dtype='object')"
            ]
          },
          "metadata": {},
          "execution_count": 13
        }
      ]
    },
    {
      "cell_type": "code",
      "source": [
        "from sklearn.linear_model import LogisticRegression\n",
        "from sklearn.model_selection import train_test_split\n",
        "from sklearn.metrics import classification_report, roc_auc_score, roc_curve\n",
        "import matplotlib.pyplot as plt\n",
        "\n",
        "# Prepare the data for logistic regression\n",
        "# Add relevant variables as needed\n",
        "X = data[['Pregnancies', 'Glucose', 'BloodPressure', 'SkinThickness', 'Insulin', 'BMI',\n",
        "          'DiabetesPedigreeFunction','Age']]\n",
        "y = data['Outcome']\n",
        "\n",
        "# Split the data into training and test sets\n",
        "X_train, X_test, y_train, y_test = train_test_split(X, y, test_size=0.2, random_state=42)\n",
        "\n",
        "# Train the logistic regression model\n",
        "log_reg = LogisticRegression(max_iter=10000)\n",
        "log_reg.fit(X_train, y_train)\n",
        "\n",
        "# Predict on the test set\n",
        "y_pred = log_reg.predict(X_test)\n",
        "y_proba = log_reg.predict_proba(X_test)[:, 1]\n",
        "\n",
        "# Evaluate the model\n",
        "print(classification_report(y_test, y_pred))\n",
        "roc_auc = roc_auc_score(y_test, y_proba)\n",
        "print(f'ROC AUC: {roc_auc:.2f}')\n",
        "\n",
        "# Plot the ROC curve\n",
        "fpr, tpr, _ = roc_curve(y_test, y_proba)\n",
        "plt.figure()\n",
        "plt.plot(fpr, tpr, color='blue', lw=2, label=f'Logistic Regression (AUC = {roc_auc:.2f})')\n",
        "plt.plot([0, 1], [0, 1], color='navy', lw=2, linestyle='--')\n",
        "plt.xlim([0.0, 1.0])\n",
        "plt.ylim([0.0, 1.05])\n",
        "plt.xlabel('False Positive Rate')\n",
        "plt.ylabel('True Positive Rate')\n",
        "plt.title('Receiver Operating Characteristic (ROC) Curve')\n",
        "plt.legend(loc=\"lower right\")\n",
        "plt.show()"
      ],
      "metadata": {
        "colab": {
          "base_uri": "https://localhost:8080/",
          "height": 646
        },
        "id": "SroOi2-usasC",
        "outputId": "c91a7c27-47a8-4b78-bfc8-ea0b387cc7db"
      },
      "id": "SroOi2-usasC",
      "execution_count": 14,
      "outputs": [
        {
          "output_type": "stream",
          "name": "stdout",
          "text": [
            "              precision    recall  f1-score   support\n",
            "\n",
            "           0       0.81      0.79      0.80        99\n",
            "           1       0.64      0.67      0.65        55\n",
            "\n",
            "    accuracy                           0.75       154\n",
            "   macro avg       0.73      0.73      0.73       154\n",
            "weighted avg       0.75      0.75      0.75       154\n",
            "\n",
            "ROC AUC: 0.81\n"
          ]
        },
        {
          "output_type": "display_data",
          "data": {
            "text/plain": [
              "<Figure size 640x480 with 1 Axes>"
            ],
            "image/png": "[encoded data removed]"
          },
          "metadata": {}
        }
      ]
    },
    {
      "cell_type": "markdown",
      "source": [
        "### Implementation of Advanced Resampling Techniques and Model Tuning:\n",
        "**Random Forest model with 6 feature importances**\n",
        "\n",
        "Using SMOTE:"
      ],
      "metadata": {
        "id": "udamYtpdJHUP"
      },
      "id": "udamYtpdJHUP"
    },
    {
      "cell_type": "code",
      "source": [
        "from imblearn.over_sampling import SMOTE\n",
        "from sklearn.ensemble import RandomForestClassifier\n",
        "from sklearn.model_selection import train_test_split, GridSearchCV\n",
        "from sklearn.metrics import classification_report, roc_auc_score, roc_curve\n",
        "import matplotlib.pyplot as plt\n",
        "\n",
        "# Apply SMOTE to balance the dataset\n",
        "smote = SMOTE(random_state=42)\n",
        "X_resampled, y_resampled = smote.fit_resample(X, y)\n",
        "\n",
        "# Split the resampled data into training and test sets\n",
        "X_train, X_test, y_train, y_test = train_test_split(X_resampled, y_resampled, test_size=0.2, random_state=42)\n",
        "\n",
        "# Define a parameter grid for Random Forest\n",
        "param_grid = {\n",
        "    'n_estimators': [100, 200],\n",
        "    'max_depth': [None, 10, 20],\n",
        "    'min_samples_split': [2, 5, 10]\n",
        "}\n",
        "\n",
        "# Initialize the Random Forest model\n",
        "rf = RandomForestClassifier(random_state=42)\n",
        "\n",
        "# Perform GridSearchCV to find the best hyperparameters\n",
        "grid_search = GridSearchCV(estimator=rf, param_grid=param_grid, cv=5, scoring='roc_auc')\n",
        "grid_search.fit(X_train, y_train)\n",
        "\n",
        "# Best model from grid search\n",
        "best_rf = grid_search.best_estimator_\n",
        "\n",
        "# Predict on the test set\n",
        "y_pred = best_rf.predict(X_test)\n",
        "y_proba = best_rf.predict_proba(X_test)[:, 1]\n",
        "\n",
        "# Evaluate the model\n",
        "print(classification_report(y_test, y_pred))\n",
        "roc_auc = roc_auc_score(y_test, y_proba)\n",
        "print(f'ROC AUC: {roc_auc:.2f}')\n",
        "\n",
        "# Plot the ROC curve\n",
        "fpr, tpr, _ = roc_curve(y_test, y_proba)\n",
        "plt.figure()\n",
        "plt.plot(fpr, tpr, color='blue', lw=2, label=f'Random Forest (AUC = {roc_auc:.2f})')\n",
        "plt.plot([0, 1], [0, 1], color='navy', lw=2, linestyle='--')\n",
        "plt.xlim([0.0, 1.0])\n",
        "plt.ylim([0.0, 1.05])\n",
        "plt.xlabel('False Positive Rate')\n",
        "plt.ylabel('True Positive Rate')\n",
        "plt.title('Receiver Operating Characteristic (ROC) Curve')\n",
        "plt.legend(loc=\"lower right\")\n",
        "plt.show()"
      ],
      "metadata": {
        "colab": {
          "base_uri": "https://localhost:8080/",
          "height": 646
        },
        "id": "F02lOrWrsapG",
        "outputId": "958a2af3-9526-4465-9765-f586ddef3a14"
      },
      "id": "F02lOrWrsapG",
      "execution_count": 15,
      "outputs": [
        {
          "output_type": "stream",
          "name": "stdout",
          "text": [
            "              precision    recall  f1-score   support\n",
            "\n",
            "           0       0.87      0.78      0.82        99\n",
            "           1       0.80      0.88      0.84       101\n",
            "\n",
            "    accuracy                           0.83       200\n",
            "   macro avg       0.83      0.83      0.83       200\n",
            "weighted avg       0.83      0.83      0.83       200\n",
            "\n",
            "ROC AUC: 0.89\n"
          ]
        },
        {
          "output_type": "display_data",
          "data": {
            "text/plain": [
              "<Figure size 640x480 with 1 Axes>"
            ],
            "image/png": "[encoded data removed]"
          },
          "metadata": {}
        }
      ]
    },
    {
      "cell_type": "markdown",
      "source": [
        "The Random Forest model has significantly improved performance compared to the logistic regression model. The AUC has increased to 0.87, indicating a much better ability to distinguish between the positive and negative classes. Additionally, the precision, recall, and F1-score metrics have improved for both classes.\n",
        "\n",
        "**Summary of Metrics:**\n",
        "\n",
        "1. Precision, Recall, and F1-Score:\n",
        "- Class 0 (Negative):\n",
        "   - Precision: 0.87\n",
        "   - Recall: 0.78\n",
        "   - F1-Score: 0.82\n",
        "- Class 1 (Positive):\n",
        "  - Precision: 0.80\n",
        "  - Recall: 0.88\n",
        "  - F1-Score: 0.84\n",
        "2. Overall Accuracy:\n",
        "- The overall accuracy is 0.83, which is a good improvement and indicates balanced performance across both classes.\n",
        "3. ROC AUC:\n",
        "- The ROC AUC of 0.89 suggests that the model has a high discriminative power and is effective at distinguishing between the two classes.\n",
        "\n",
        "**Analysis and Interpretation:**\n",
        "- Balanced Performance: The Random Forest model shows balanced performance across both classes, with similar precision, recall, and F1-scores for both the negative and positive classes. This indicates that the model is well-calibrated and performs well in identifying both diabetes cases and non-cases.\n",
        "- Improved Recall for Positive Class: The recall for the positive class (diabetes cases) has significantly improved to 0.83, meaning the model is correctly identifying 83% of the actual diabetes cases."
      ],
      "metadata": {
        "id": "jannX4uzLO0-"
      },
      "id": "jannX4uzLO0-"
    },
    {
      "cell_type": "markdown",
      "source": [
        "**Feature Important Analysis:**\n",
        "\n",
        "Analyze the feature importance from the Random Forest model to understand which features contribute most to the prediction of diabetes. This can provide insights into key factors influencing people health."
      ],
      "metadata": {
        "id": "FYzbwdqHMCdn"
      },
      "id": "FYzbwdqHMCdn"
    },
    {
      "cell_type": "code",
      "source": [
        "import pandas as pd\n",
        "\n",
        "# Get feature importances from the Random Forest model\n",
        "feature_importances = best_rf.feature_importances_\n",
        "\n",
        "# Create a DataFrame for feature importances\n",
        "features = X.columns\n",
        "importance_df = pd.DataFrame({'Feature': features, 'Importance': feature_importances})\n",
        "\n",
        "# Sort the DataFrame by importance\n",
        "importance_df = importance_df.sort_values(by='Importance', ascending=False)\n",
        "\n",
        "# Print the feature importances\n",
        "print(importance_df)\n",
        "\n",
        "# Plot the feature importances\n",
        "import matplotlib.pyplot as plt\n",
        "\n",
        "plt.figure(figsize=(12, 6))\n",
        "plt.barh(importance_df['Feature'], importance_df['Importance'])\n",
        "plt.gca().invert_yaxis()\n",
        "plt.xlabel('Importance')\n",
        "plt.title('Risk Factors / Feature Importances')\n",
        "plt.show()\n"
      ],
      "metadata": {
        "colab": {
          "base_uri": "https://localhost:8080/",
          "height": 646
        },
        "id": "tKOU0tLSJEPx",
        "outputId": "0d887216-d01e-465a-9ec4-51cedf1bccda"
      },
      "id": "tKOU0tLSJEPx",
      "execution_count": 54,
      "outputs": [
        {
          "output_type": "stream",
          "name": "stdout",
          "text": [
            "                    Feature  Importance\n",
            "1                   Glucose    0.246969\n",
            "5                       BMI    0.189336\n",
            "7                       Age    0.149874\n",
            "6  DiabetesPedigreeFunction    0.125098\n",
            "2             BloodPressure    0.084102\n",
            "4                   Insulin    0.070162\n",
            "3             SkinThickness    0.067910\n",
            "0               Pregnancies    0.066550\n"
          ]
        },
        {
          "output_type": "display_data",
          "data": {
            "text/plain": [
              "<Figure size 1200x600 with 1 Axes>"
            ],
            "image/png": "[encoded data removed]"
          },
          "metadata": {}
        }
      ]
    },
    {
      "cell_type": "markdown",
      "source": [
        "# Implement Machine Learning, Deep Learning, and Advanced Combined models\n",
        "1. Traditional ML Models:\n",
        " - Logistic Regression (LR)\n",
        " - Support Vector Machine (SVM)\n",
        "2. Advanced Ensemble ML Models:\n",
        " - Random Forest (RF)\n",
        " - Gradient Boosting Machine (GBM)\n",
        "3. Deep Learning Models:\n",
        " - Simple Neural Network (NN)\n",
        " - Convolutional Neural Network (CNN)\n",
        "4. Advanced Combined Models:\n",
        " - Gated Recurrent Unit with Attention (GRU+Attention)\n",
        " - Convolutional Neural Network with GRU (CNN+GRU)\n",
        "\n",
        "### Implementation Plan:\n",
        "1. Prepare Data:\n",
        " - Load and preprocess the data.\n",
        " - Apply SMOTE to handle class imbalance.\n",
        "2. Model Implementation and Evaluation:\n",
        " - Implement each model.\n",
        " - Tune hyperparameters using GridSearchCV or appropriate tuning techniques.\n",
        " - Evaluate model performance using metrics like accuracy, precision, recall, F1-score, and ROC AUC.\n",
        "3. Comparison and Analysis:\n",
        " - Compare the performance of all models.\n",
        " - Identify the best-performing model."
      ],
      "metadata": {
        "id": "PsavST7TOQJr"
      },
      "id": "PsavST7TOQJr"
    },
    {
      "cell_type": "markdown",
      "source": [
        "## Traditional Machine Learning models"
      ],
      "metadata": {
        "id": "5pXFspYuN_5a"
      },
      "id": "5pXFspYuN_5a"
    },
    {
      "cell_type": "markdown",
      "source": [
        "### Prepare the data\n",
        "with more attributes added to prediction"
      ],
      "metadata": {
        "id": "e08j28yeE9ua"
      },
      "id": "e08j28yeE9ua"
    },
    {
      "cell_type": "code",
      "source": [
        "import pandas as pd\n",
        "from imblearn.over_sampling import SMOTE\n",
        "from sklearn.model_selection import train_test_split\n",
        "from sklearn.preprocessing import StandardScaler\n",
        "\n",
        "# Load dataset\n",
        "# data = pd.read_csv('...')\n",
        "\n",
        "# Define features and target\n",
        "X = data[['Pregnancies', 'Glucose', 'BloodPressure', 'SkinThickness', 'Insulin', 'BMI',\n",
        "          'DiabetesPedigreeFunction','Age']]\n",
        "y = data['Outcome']\n",
        "\n",
        "\n",
        "# Apply SMOTE\n",
        "smote = SMOTE(random_state=42)\n",
        "X_resampled, y_resampled = smote.fit_resample(X, y)\n",
        "\n",
        "# Split data\n",
        "X_train, X_test, y_train, y_test = train_test_split(X_resampled, y_resampled, test_size=0.2, random_state=42)\n",
        "\n",
        "# Scale features\n",
        "scaler = StandardScaler()\n",
        "X_train = scaler.fit_transform(X_train)\n",
        "X_test = scaler.transform(X_test)"
      ],
      "metadata": {
        "id": "iqcL2PHPsamW"
      },
      "id": "iqcL2PHPsamW",
      "execution_count": 17,
      "outputs": []
    },
    {
      "cell_type": "markdown",
      "source": [
        "### Logistic Regression"
      ],
      "metadata": {
        "id": "4lxhIlmKRHMQ"
      },
      "id": "4lxhIlmKRHMQ"
    },
    {
      "cell_type": "code",
      "source": [
        "from sklearn.linear_model import LogisticRegression\n",
        "from sklearn.metrics import classification_report, roc_auc_score, roc_curve\n",
        "\n",
        "# Logistic Regression\n",
        "log_reg = LogisticRegression(max_iter=10000)\n",
        "log_reg.fit(X_train, y_train)\n",
        "\n",
        "# Predictions\n",
        "y_pred_lr = log_reg.predict(X_test)\n",
        "y_proba_lr = log_reg.predict_proba(X_test)[:, 1]\n",
        "\n",
        "# Evaluation\n",
        "print(\"Logistic Regression\")\n",
        "print(classification_report(y_test, y_pred_lr))\n",
        "roc_auc_lr = roc_auc_score(y_test, y_proba_lr)\n",
        "print(f'ROC AUC: {roc_auc_lr:.2f}')"
      ],
      "metadata": {
        "colab": {
          "base_uri": "https://localhost:8080/"
        },
        "id": "pelQT38Wsajm",
        "outputId": "a3d6d005-47a1-4a69-92aa-4631fed9049a"
      },
      "id": "pelQT38Wsajm",
      "execution_count": 18,
      "outputs": [
        {
          "output_type": "stream",
          "name": "stdout",
          "text": [
            "Logistic Regression\n",
            "              precision    recall  f1-score   support\n",
            "\n",
            "           0       0.76      0.74      0.75        99\n",
            "           1       0.75      0.77      0.76       101\n",
            "\n",
            "    accuracy                           0.76       200\n",
            "   macro avg       0.76      0.75      0.75       200\n",
            "weighted avg       0.76      0.76      0.75       200\n",
            "\n",
            "ROC AUC: 0.84\n"
          ]
        }
      ]
    },
    {
      "cell_type": "markdown",
      "source": [
        "### Support Vector Machine (SVM)"
      ],
      "metadata": {
        "id": "RwBQ6KuBRfeJ"
      },
      "id": "RwBQ6KuBRfeJ"
    },
    {
      "cell_type": "code",
      "source": [
        "from sklearn.svm import SVC\n",
        "\n",
        "# Support Vector Machine\n",
        "svm = SVC(probability=True)\n",
        "svm.fit(X_train, y_train)\n",
        "\n",
        "# Predictions\n",
        "y_pred_svm = svm.predict(X_test)\n",
        "y_proba_svm = svm.predict_proba(X_test)[:, 1]\n",
        "\n",
        "# Evaluation\n",
        "print(\"Support Vector Machine\")\n",
        "print(classification_report(y_test, y_pred_svm))\n",
        "roc_auc_svm = roc_auc_score(y_test, y_proba_svm)\n",
        "print(f'ROC AUC: {roc_auc_svm:.2f}')"
      ],
      "metadata": {
        "colab": {
          "base_uri": "https://localhost:8080/"
        },
        "id": "JP-NkJnZsag1",
        "outputId": "6e951e2e-6ae7-45ac-86ba-d124f10c14a6"
      },
      "id": "JP-NkJnZsag1",
      "execution_count": 19,
      "outputs": [
        {
          "output_type": "stream",
          "name": "stdout",
          "text": [
            "Support Vector Machine\n",
            "              precision    recall  f1-score   support\n",
            "\n",
            "           0       0.78      0.70      0.73        99\n",
            "           1       0.73      0.80      0.76       101\n",
            "\n",
            "    accuracy                           0.75       200\n",
            "   macro avg       0.75      0.75      0.75       200\n",
            "weighted avg       0.75      0.75      0.75       200\n",
            "\n",
            "ROC AUC: 0.82\n"
          ]
        }
      ]
    },
    {
      "cell_type": "markdown",
      "source": [
        "## Advanced Ensemble ML Models"
      ],
      "metadata": {
        "id": "o1SNmq46RrL9"
      },
      "id": "o1SNmq46RrL9"
    },
    {
      "cell_type": "markdown",
      "source": [
        "### Random Forest"
      ],
      "metadata": {
        "id": "2Hz2dnDUTuvh"
      },
      "id": "2Hz2dnDUTuvh"
    },
    {
      "cell_type": "code",
      "source": [
        "from sklearn.ensemble import RandomForestClassifier\n",
        "\n",
        "# Random Forest\n",
        "rf = RandomForestClassifier(random_state=42)\n",
        "rf.fit(X_train, y_train)\n",
        "\n",
        "# Predictions\n",
        "y_pred_rf = rf.predict(X_test)\n",
        "y_proba_rf = rf.predict_proba(X_test)[:, 1]\n",
        "\n",
        "# Evaluation\n",
        "print(\"Random Forest\")\n",
        "print(classification_report(y_test, y_pred_rf))\n",
        "roc_auc_rf = roc_auc_score(y_test, y_proba_rf)\n",
        "print(f'ROC AUC: {roc_auc_rf:.2f}')"
      ],
      "metadata": {
        "colab": {
          "base_uri": "https://localhost:8080/"
        },
        "id": "oFl9037Tsad4",
        "outputId": "02fe5cb7-d5d0-4af8-f682-bd7b9c5b3ae2"
      },
      "id": "oFl9037Tsad4",
      "execution_count": 20,
      "outputs": [
        {
          "output_type": "stream",
          "name": "stdout",
          "text": [
            "Random Forest\n",
            "              precision    recall  f1-score   support\n",
            "\n",
            "           0       0.87      0.77      0.82        99\n",
            "           1       0.80      0.89      0.84       101\n",
            "\n",
            "    accuracy                           0.83       200\n",
            "   macro avg       0.84      0.83      0.83       200\n",
            "weighted avg       0.83      0.83      0.83       200\n",
            "\n",
            "ROC AUC: 0.89\n"
          ]
        }
      ]
    },
    {
      "cell_type": "markdown",
      "source": [
        "### Gradient Boosting Machine"
      ],
      "metadata": {
        "id": "OgcVF-5ySBmV"
      },
      "id": "OgcVF-5ySBmV"
    },
    {
      "cell_type": "code",
      "source": [
        "from sklearn.ensemble import GradientBoostingClassifier\n",
        "\n",
        "# Gradient Boosting Machine\n",
        "gbm = GradientBoostingClassifier(random_state=42)\n",
        "gbm.fit(X_train, y_train)\n",
        "\n",
        "# Predictions\n",
        "y_pred_gbm = gbm.predict(X_test)\n",
        "y_proba_gbm = gbm.predict_proba(X_test)[:, 1]\n",
        "\n",
        "# Evaluation\n",
        "print(\"Gradient Boosting Machine\")\n",
        "print(classification_report(y_test, y_pred_gbm))\n",
        "roc_auc_gbm = roc_auc_score(y_test, y_proba_gbm)\n",
        "print(f'ROC AUC: {roc_auc_gbm:.2f}')"
      ],
      "metadata": {
        "colab": {
          "base_uri": "https://localhost:8080/"
        },
        "id": "6u2_550Csaay",
        "outputId": "440e44ca-c4e0-4e8c-9dd9-dbccc9aa7aac"
      },
      "id": "6u2_550Csaay",
      "execution_count": 21,
      "outputs": [
        {
          "output_type": "stream",
          "name": "stdout",
          "text": [
            "Gradient Boosting Machine\n",
            "              precision    recall  f1-score   support\n",
            "\n",
            "           0       0.81      0.75      0.78        99\n",
            "           1       0.77      0.83      0.80       101\n",
            "\n",
            "    accuracy                           0.79       200\n",
            "   macro avg       0.79      0.79      0.79       200\n",
            "weighted avg       0.79      0.79      0.79       200\n",
            "\n",
            "ROC AUC: 0.86\n"
          ]
        }
      ]
    },
    {
      "cell_type": "markdown",
      "source": [
        "## Deep Learning models"
      ],
      "metadata": {
        "id": "6UYES8fVSazS"
      },
      "id": "6UYES8fVSazS"
    },
    {
      "cell_type": "markdown",
      "source": [
        "### Simple Neural Network"
      ],
      "metadata": {
        "id": "KJpLEy6VTqKs"
      },
      "id": "KJpLEy6VTqKs"
    },
    {
      "cell_type": "code",
      "source": [
        "import tensorflow as tf\n",
        "from tensorflow.keras.models import Sequential\n",
        "from tensorflow.keras.layers import Dense\n",
        "\n",
        "# Simple Neural Network\n",
        "model_nn = Sequential([\n",
        "    Dense(64, activation='relu', input_shape=(X_train.shape[1],)),\n",
        "    Dense(32, activation='relu'),\n",
        "    Dense(1, activation='sigmoid')\n",
        "])\n",
        "\n",
        "model_nn.compile(optimizer='adam', loss='binary_crossentropy', metrics=['accuracy'])\n",
        "model_nn.fit(X_train, y_train, epochs=50, batch_size=32, validation_split=0.2)\n",
        "\n",
        "# Predictions\n",
        "y_proba_nn = model_nn.predict(X_test).ravel()\n",
        "y_pred_nn = (y_proba_nn > 0.5).astype(int)\n",
        "\n",
        "# Evaluation\n",
        "print(\"Simple Neural Network\")\n",
        "print(classification_report(y_test, y_pred_nn))\n",
        "roc_auc_nn = roc_auc_score(y_test, y_proba_nn)\n",
        "print(f'ROC AUC: {roc_auc_nn:.2f}')"
      ],
      "metadata": {
        "colab": {
          "base_uri": "https://localhost:8080/"
        },
        "id": "8_F9eg18saXp",
        "outputId": "fab085d5-ea0a-449b-b345-3b10984c3f23"
      },
      "id": "8_F9eg18saXp",
      "execution_count": 22,
      "outputs": [
        {
          "output_type": "stream",
          "name": "stdout",
          "text": [
            "Epoch 1/50\n",
            "20/20 [==============================] - 1s 10ms/step - loss: 0.6588 - accuracy: 0.6062 - val_loss: 0.6081 - val_accuracy: 0.7375\n",
            "Epoch 2/50\n",
            "20/20 [==============================] - 0s 3ms/step - loss: 0.5821 - accuracy: 0.7391 - val_loss: 0.5453 - val_accuracy: 0.7563\n",
            "Epoch 3/50\n",
            "20/20 [==============================] - 0s 3ms/step - loss: 0.5353 - accuracy: 0.7469 - val_loss: 0.5114 - val_accuracy: 0.7375\n",
            "Epoch 4/50\n",
            "20/20 [==============================] - 0s 3ms/step - loss: 0.5072 - accuracy: 0.7563 - val_loss: 0.4904 - val_accuracy: 0.7437\n",
            "Epoch 5/50\n",
            "20/20 [==============================] - 0s 3ms/step - loss: 0.4884 - accuracy: 0.7609 - val_loss: 0.4780 - val_accuracy: 0.7437\n",
            "Epoch 6/50\n",
            "20/20 [==============================] - 0s 3ms/step - loss: 0.4764 - accuracy: 0.7734 - val_loss: 0.4751 - val_accuracy: 0.7500\n",
            "Epoch 7/50\n",
            "20/20 [==============================] - 0s 3ms/step - loss: 0.4678 - accuracy: 0.7797 - val_loss: 0.4687 - val_accuracy: 0.7500\n",
            "Epoch 8/50\n",
            "20/20 [==============================] - 0s 3ms/step - loss: 0.4608 - accuracy: 0.7844 - val_loss: 0.4676 - val_accuracy: 0.7437\n",
            "Epoch 9/50\n",
            "20/20 [==============================] - 0s 3ms/step - loss: 0.4540 - accuracy: 0.7797 - val_loss: 0.4660 - val_accuracy: 0.7563\n",
            "Epoch 10/50\n",
            "20/20 [==============================] - 0s 3ms/step - loss: 0.4490 - accuracy: 0.7891 - val_loss: 0.4633 - val_accuracy: 0.7375\n",
            "Epoch 11/50\n",
            "20/20 [==============================] - 0s 3ms/step - loss: 0.4449 - accuracy: 0.7844 - val_loss: 0.4627 - val_accuracy: 0.7312\n",
            "Epoch 12/50\n",
            "20/20 [==============================] - 0s 2ms/step - loss: 0.4407 - accuracy: 0.7906 - val_loss: 0.4629 - val_accuracy: 0.7312\n",
            "Epoch 13/50\n",
            "20/20 [==============================] - 0s 3ms/step - loss: 0.4372 - accuracy: 0.7906 - val_loss: 0.4603 - val_accuracy: 0.7375\n",
            "Epoch 14/50\n",
            "20/20 [==============================] - 0s 3ms/step - loss: 0.4343 - accuracy: 0.7922 - val_loss: 0.4647 - val_accuracy: 0.7437\n",
            "Epoch 15/50\n",
            "20/20 [==============================] - 0s 3ms/step - loss: 0.4312 - accuracy: 0.7937 - val_loss: 0.4584 - val_accuracy: 0.7375\n",
            "Epoch 16/50\n",
            "20/20 [==============================] - 0s 3ms/step - loss: 0.4253 - accuracy: 0.7969 - val_loss: 0.4597 - val_accuracy: 0.7437\n",
            "Epoch 17/50\n",
            "20/20 [==============================] - 0s 3ms/step - loss: 0.4222 - accuracy: 0.7937 - val_loss: 0.4555 - val_accuracy: 0.7563\n",
            "Epoch 18/50\n",
            "20/20 [==============================] - 0s 2ms/step - loss: 0.4178 - accuracy: 0.8000 - val_loss: 0.4578 - val_accuracy: 0.7625\n",
            "Epoch 19/50\n",
            "20/20 [==============================] - 0s 3ms/step - loss: 0.4148 - accuracy: 0.8031 - val_loss: 0.4552 - val_accuracy: 0.7625\n",
            "Epoch 20/50\n",
            "20/20 [==============================] - 0s 3ms/step - loss: 0.4130 - accuracy: 0.8109 - val_loss: 0.4571 - val_accuracy: 0.7625\n",
            "Epoch 21/50\n",
            "20/20 [==============================] - 0s 3ms/step - loss: 0.4103 - accuracy: 0.8047 - val_loss: 0.4582 - val_accuracy: 0.7563\n",
            "Epoch 22/50\n",
            "20/20 [==============================] - 0s 3ms/step - loss: 0.4081 - accuracy: 0.8109 - val_loss: 0.4559 - val_accuracy: 0.7688\n",
            "Epoch 23/50\n",
            "20/20 [==============================] - 0s 3ms/step - loss: 0.4030 - accuracy: 0.8141 - val_loss: 0.4502 - val_accuracy: 0.7688\n",
            "Epoch 24/50\n",
            "20/20 [==============================] - 0s 3ms/step - loss: 0.4005 - accuracy: 0.8203 - val_loss: 0.4531 - val_accuracy: 0.7625\n",
            "Epoch 25/50\n",
            "20/20 [==============================] - 0s 3ms/step - loss: 0.3984 - accuracy: 0.8141 - val_loss: 0.4550 - val_accuracy: 0.7625\n",
            "Epoch 26/50\n",
            "20/20 [==============================] - 0s 3ms/step - loss: 0.3943 - accuracy: 0.8172 - val_loss: 0.4482 - val_accuracy: 0.7750\n",
            "Epoch 27/50\n",
            "20/20 [==============================] - 0s 3ms/step - loss: 0.3910 - accuracy: 0.8203 - val_loss: 0.4547 - val_accuracy: 0.7688\n",
            "Epoch 28/50\n",
            "20/20 [==============================] - 0s 3ms/step - loss: 0.3924 - accuracy: 0.8250 - val_loss: 0.4508 - val_accuracy: 0.7688\n",
            "Epoch 29/50\n",
            "20/20 [==============================] - 0s 3ms/step - loss: 0.3892 - accuracy: 0.8281 - val_loss: 0.4489 - val_accuracy: 0.7563\n",
            "Epoch 30/50\n",
            "20/20 [==============================] - 0s 3ms/step - loss: 0.3884 - accuracy: 0.8313 - val_loss: 0.4446 - val_accuracy: 0.7688\n",
            "Epoch 31/50\n",
            "20/20 [==============================] - 0s 3ms/step - loss: 0.3894 - accuracy: 0.8266 - val_loss: 0.4480 - val_accuracy: 0.7625\n",
            "Epoch 32/50\n",
            "20/20 [==============================] - 0s 3ms/step - loss: 0.3811 - accuracy: 0.8328 - val_loss: 0.4462 - val_accuracy: 0.7688\n",
            "Epoch 33/50\n",
            "20/20 [==============================] - 0s 3ms/step - loss: 0.3782 - accuracy: 0.8344 - val_loss: 0.4477 - val_accuracy: 0.7688\n",
            "Epoch 34/50\n",
            "20/20 [==============================] - 0s 3ms/step - loss: 0.3763 - accuracy: 0.8344 - val_loss: 0.4469 - val_accuracy: 0.7688\n",
            "Epoch 35/50\n",
            "20/20 [==============================] - 0s 3ms/step - loss: 0.3743 - accuracy: 0.8297 - val_loss: 0.4411 - val_accuracy: 0.7688\n",
            "Epoch 36/50\n",
            "20/20 [==============================] - 0s 3ms/step - loss: 0.3749 - accuracy: 0.8328 - val_loss: 0.4493 - val_accuracy: 0.7812\n",
            "Epoch 37/50\n",
            "20/20 [==============================] - 0s 3ms/step - loss: 0.3699 - accuracy: 0.8328 - val_loss: 0.4447 - val_accuracy: 0.7625\n",
            "Epoch 38/50\n",
            "20/20 [==============================] - 0s 3ms/step - loss: 0.3683 - accuracy: 0.8344 - val_loss: 0.4415 - val_accuracy: 0.7812\n",
            "Epoch 39/50\n",
            "20/20 [==============================] - 0s 3ms/step - loss: 0.3666 - accuracy: 0.8391 - val_loss: 0.4461 - val_accuracy: 0.7750\n",
            "Epoch 40/50\n",
            "20/20 [==============================] - 0s 3ms/step - loss: 0.3658 - accuracy: 0.8313 - val_loss: 0.4440 - val_accuracy: 0.7750\n",
            "Epoch 41/50\n",
            "20/20 [==============================] - 0s 3ms/step - loss: 0.3614 - accuracy: 0.8469 - val_loss: 0.4425 - val_accuracy: 0.7812\n",
            "Epoch 42/50\n",
            "20/20 [==============================] - 0s 3ms/step - loss: 0.3613 - accuracy: 0.8391 - val_loss: 0.4455 - val_accuracy: 0.7750\n",
            "Epoch 43/50\n",
            "20/20 [==============================] - 0s 3ms/step - loss: 0.3596 - accuracy: 0.8422 - val_loss: 0.4433 - val_accuracy: 0.7750\n",
            "Epoch 44/50\n",
            "20/20 [==============================] - 0s 3ms/step - loss: 0.3553 - accuracy: 0.8422 - val_loss: 0.4431 - val_accuracy: 0.7875\n",
            "Epoch 45/50\n",
            "20/20 [==============================] - 0s 3ms/step - loss: 0.3554 - accuracy: 0.8469 - val_loss: 0.4432 - val_accuracy: 0.7875\n",
            "Epoch 46/50\n",
            "20/20 [==============================] - 0s 3ms/step - loss: 0.3536 - accuracy: 0.8484 - val_loss: 0.4406 - val_accuracy: 0.7875\n",
            "Epoch 47/50\n",
            "20/20 [==============================] - 0s 3ms/step - loss: 0.3495 - accuracy: 0.8578 - val_loss: 0.4423 - val_accuracy: 0.7875\n",
            "Epoch 48/50\n",
            "20/20 [==============================] - 0s 3ms/step - loss: 0.3529 - accuracy: 0.8531 - val_loss: 0.4347 - val_accuracy: 0.7875\n",
            "Epoch 49/50\n",
            "20/20 [==============================] - 0s 3ms/step - loss: 0.3477 - accuracy: 0.8562 - val_loss: 0.4404 - val_accuracy: 0.7875\n",
            "Epoch 50/50\n",
            "20/20 [==============================] - 0s 3ms/step - loss: 0.3421 - accuracy: 0.8625 - val_loss: 0.4420 - val_accuracy: 0.7875\n",
            "7/7 [==============================] - 0s 2ms/step\n",
            "Simple Neural Network\n",
            "              precision    recall  f1-score   support\n",
            "\n",
            "           0       0.79      0.69      0.74        99\n",
            "           1       0.73      0.82      0.77       101\n",
            "\n",
            "    accuracy                           0.76       200\n",
            "   macro avg       0.76      0.75      0.75       200\n",
            "weighted avg       0.76      0.76      0.75       200\n",
            "\n",
            "ROC AUC: 0.83\n"
          ]
        }
      ]
    },
    {
      "cell_type": "markdown",
      "source": [
        "### Convolutional Neural Network (CNN)"
      ],
      "metadata": {
        "id": "82U9Lc9iS1q7"
      },
      "id": "82U9Lc9iS1q7"
    },
    {
      "cell_type": "code",
      "source": [
        "from tensorflow.keras.layers import Conv1D, MaxPooling1D, Flatten\n",
        "\n",
        "# Reshape data for CNN\n",
        "X_train_cnn = X_train.reshape(X_train.shape[0], X_train.shape[1], 1)\n",
        "X_test_cnn = X_test.reshape(X_test.shape[0], X_test.shape[1], 1)\n",
        "\n",
        "# Convolutional Neural Network\n",
        "model_cnn = Sequential([\n",
        "    Conv1D(32, kernel_size=2, activation='relu', input_shape=(X_train.shape[1], 1)),\n",
        "    MaxPooling1D(pool_size=2),\n",
        "    Flatten(),\n",
        "    Dense(64, activation='relu'),\n",
        "    Dense(1, activation='sigmoid')\n",
        "])\n",
        "\n",
        "model_cnn.compile(optimizer='adam', loss='binary_crossentropy', metrics=['accuracy'])\n",
        "model_cnn.fit(X_train_cnn, y_train, epochs=50, batch_size=32, validation_split=0.2)\n",
        "\n",
        "# Predictions\n",
        "y_proba_cnn = model_cnn.predict(X_test_cnn).ravel()\n",
        "y_pred_cnn = (y_proba_cnn > 0.5).astype(int)\n",
        "\n",
        "# Evaluation\n",
        "print(\"Convolutional Neural Network\")\n",
        "print(classification_report(y_test, y_pred_cnn))\n",
        "roc_auc_cnn = roc_auc_score(y_test, y_proba_cnn)\n",
        "print(f'ROC AUC: {roc_auc_cnn:.2f}')"
      ],
      "metadata": {
        "colab": {
          "base_uri": "https://localhost:8080/"
        },
        "id": "Bd0KZhgcSK_7",
        "outputId": "068d8642-b4dc-496c-c467-2b5fa7cc456a"
      },
      "id": "Bd0KZhgcSK_7",
      "execution_count": 23,
      "outputs": [
        {
          "output_type": "stream",
          "name": "stdout",
          "text": [
            "Epoch 1/50\n",
            "20/20 [==============================] - 1s 11ms/step - loss: 0.6524 - accuracy: 0.6375 - val_loss: 0.5894 - val_accuracy: 0.7437\n",
            "Epoch 2/50\n",
            "20/20 [==============================] - 0s 3ms/step - loss: 0.5789 - accuracy: 0.7328 - val_loss: 0.5375 - val_accuracy: 0.7375\n",
            "Epoch 3/50\n",
            "20/20 [==============================] - 0s 3ms/step - loss: 0.5414 - accuracy: 0.7437 - val_loss: 0.5138 - val_accuracy: 0.7312\n",
            "Epoch 4/50\n",
            "20/20 [==============================] - 0s 3ms/step - loss: 0.5231 - accuracy: 0.7328 - val_loss: 0.5045 - val_accuracy: 0.7188\n",
            "Epoch 5/50\n",
            "20/20 [==============================] - 0s 3ms/step - loss: 0.5151 - accuracy: 0.7437 - val_loss: 0.4977 - val_accuracy: 0.7312\n",
            "Epoch 6/50\n",
            "20/20 [==============================] - 0s 3ms/step - loss: 0.5095 - accuracy: 0.7375 - val_loss: 0.4992 - val_accuracy: 0.7375\n",
            "Epoch 7/50\n",
            "20/20 [==============================] - 0s 3ms/step - loss: 0.5070 - accuracy: 0.7359 - val_loss: 0.4979 - val_accuracy: 0.7312\n",
            "Epoch 8/50\n",
            "20/20 [==============================] - 0s 3ms/step - loss: 0.5030 - accuracy: 0.7437 - val_loss: 0.4980 - val_accuracy: 0.7375\n",
            "Epoch 9/50\n",
            "20/20 [==============================] - 0s 3ms/step - loss: 0.5024 - accuracy: 0.7406 - val_loss: 0.4971 - val_accuracy: 0.7437\n",
            "Epoch 10/50\n",
            "20/20 [==============================] - 0s 4ms/step - loss: 0.4988 - accuracy: 0.7453 - val_loss: 0.4959 - val_accuracy: 0.7375\n",
            "Epoch 11/50\n",
            "20/20 [==============================] - 0s 3ms/step - loss: 0.4942 - accuracy: 0.7469 - val_loss: 0.4952 - val_accuracy: 0.7375\n",
            "Epoch 12/50\n",
            "20/20 [==============================] - 0s 3ms/step - loss: 0.4915 - accuracy: 0.7500 - val_loss: 0.4960 - val_accuracy: 0.7500\n",
            "Epoch 13/50\n",
            "20/20 [==============================] - 0s 3ms/step - loss: 0.4922 - accuracy: 0.7500 - val_loss: 0.4920 - val_accuracy: 0.7437\n",
            "Epoch 14/50\n",
            "20/20 [==============================] - 0s 3ms/step - loss: 0.4891 - accuracy: 0.7516 - val_loss: 0.4950 - val_accuracy: 0.7312\n",
            "Epoch 15/50\n",
            "20/20 [==============================] - 0s 3ms/step - loss: 0.4869 - accuracy: 0.7531 - val_loss: 0.4951 - val_accuracy: 0.7375\n",
            "Epoch 16/50\n",
            "20/20 [==============================] - 0s 3ms/step - loss: 0.4854 - accuracy: 0.7547 - val_loss: 0.4902 - val_accuracy: 0.7375\n",
            "Epoch 17/50\n",
            "20/20 [==============================] - 0s 3ms/step - loss: 0.4826 - accuracy: 0.7578 - val_loss: 0.4902 - val_accuracy: 0.7437\n",
            "Epoch 18/50\n",
            "20/20 [==============================] - 0s 3ms/step - loss: 0.4819 - accuracy: 0.7547 - val_loss: 0.4910 - val_accuracy: 0.7500\n",
            "Epoch 19/50\n",
            "20/20 [==============================] - 0s 3ms/step - loss: 0.4794 - accuracy: 0.7563 - val_loss: 0.4880 - val_accuracy: 0.7312\n",
            "Epoch 20/50\n",
            "20/20 [==============================] - 0s 3ms/step - loss: 0.4779 - accuracy: 0.7594 - val_loss: 0.4878 - val_accuracy: 0.7437\n",
            "Epoch 21/50\n",
            "20/20 [==============================] - 0s 3ms/step - loss: 0.4751 - accuracy: 0.7703 - val_loss: 0.4851 - val_accuracy: 0.7375\n",
            "Epoch 22/50\n",
            "20/20 [==============================] - 0s 3ms/step - loss: 0.4733 - accuracy: 0.7641 - val_loss: 0.4862 - val_accuracy: 0.7437\n",
            "Epoch 23/50\n",
            "20/20 [==============================] - 0s 3ms/step - loss: 0.4710 - accuracy: 0.7688 - val_loss: 0.4833 - val_accuracy: 0.7500\n",
            "Epoch 24/50\n",
            "20/20 [==============================] - 0s 3ms/step - loss: 0.4700 - accuracy: 0.7656 - val_loss: 0.4815 - val_accuracy: 0.7500\n",
            "Epoch 25/50\n",
            "20/20 [==============================] - 0s 3ms/step - loss: 0.4678 - accuracy: 0.7641 - val_loss: 0.4817 - val_accuracy: 0.7437\n",
            "Epoch 26/50\n",
            "20/20 [==============================] - 0s 3ms/step - loss: 0.4667 - accuracy: 0.7672 - val_loss: 0.4806 - val_accuracy: 0.7312\n",
            "Epoch 27/50\n",
            "20/20 [==============================] - 0s 3ms/step - loss: 0.4699 - accuracy: 0.7703 - val_loss: 0.4798 - val_accuracy: 0.7312\n",
            "Epoch 28/50\n",
            "20/20 [==============================] - 0s 3ms/step - loss: 0.4653 - accuracy: 0.7656 - val_loss: 0.4796 - val_accuracy: 0.7375\n",
            "Epoch 29/50\n",
            "20/20 [==============================] - 0s 3ms/step - loss: 0.4659 - accuracy: 0.7688 - val_loss: 0.4837 - val_accuracy: 0.7312\n",
            "Epoch 30/50\n",
            "20/20 [==============================] - 0s 3ms/step - loss: 0.4596 - accuracy: 0.7781 - val_loss: 0.4746 - val_accuracy: 0.7437\n",
            "Epoch 31/50\n",
            "20/20 [==============================] - 0s 3ms/step - loss: 0.4647 - accuracy: 0.7844 - val_loss: 0.4757 - val_accuracy: 0.7625\n",
            "Epoch 32/50\n",
            "20/20 [==============================] - 0s 3ms/step - loss: 0.4642 - accuracy: 0.7688 - val_loss: 0.4828 - val_accuracy: 0.7500\n",
            "Epoch 33/50\n",
            "20/20 [==============================] - 0s 3ms/step - loss: 0.4594 - accuracy: 0.7734 - val_loss: 0.4721 - val_accuracy: 0.7437\n",
            "Epoch 34/50\n",
            "20/20 [==============================] - 0s 3ms/step - loss: 0.4550 - accuracy: 0.7844 - val_loss: 0.4709 - val_accuracy: 0.7563\n",
            "Epoch 35/50\n",
            "20/20 [==============================] - 0s 3ms/step - loss: 0.4521 - accuracy: 0.7828 - val_loss: 0.4726 - val_accuracy: 0.7500\n",
            "Epoch 36/50\n",
            "20/20 [==============================] - 0s 3ms/step - loss: 0.4528 - accuracy: 0.7797 - val_loss: 0.4734 - val_accuracy: 0.7625\n",
            "Epoch 37/50\n",
            "20/20 [==============================] - 0s 3ms/step - loss: 0.4498 - accuracy: 0.7859 - val_loss: 0.4665 - val_accuracy: 0.7500\n",
            "Epoch 38/50\n",
            "20/20 [==============================] - 0s 3ms/step - loss: 0.4482 - accuracy: 0.7781 - val_loss: 0.4673 - val_accuracy: 0.7437\n",
            "Epoch 39/50\n",
            "20/20 [==============================] - 0s 3ms/step - loss: 0.4450 - accuracy: 0.7953 - val_loss: 0.4648 - val_accuracy: 0.7500\n",
            "Epoch 40/50\n",
            "20/20 [==============================] - 0s 3ms/step - loss: 0.4418 - accuracy: 0.7812 - val_loss: 0.4645 - val_accuracy: 0.7563\n",
            "Epoch 41/50\n",
            "20/20 [==============================] - 0s 4ms/step - loss: 0.4432 - accuracy: 0.7875 - val_loss: 0.4671 - val_accuracy: 0.7312\n",
            "Epoch 42/50\n",
            "20/20 [==============================] - 0s 3ms/step - loss: 0.4432 - accuracy: 0.7875 - val_loss: 0.4658 - val_accuracy: 0.7437\n",
            "Epoch 43/50\n",
            "20/20 [==============================] - 0s 3ms/step - loss: 0.4435 - accuracy: 0.7844 - val_loss: 0.4639 - val_accuracy: 0.7688\n",
            "Epoch 44/50\n",
            "20/20 [==============================] - 0s 3ms/step - loss: 0.4388 - accuracy: 0.7859 - val_loss: 0.4612 - val_accuracy: 0.7563\n",
            "Epoch 45/50\n",
            "20/20 [==============================] - 0s 3ms/step - loss: 0.4368 - accuracy: 0.7875 - val_loss: 0.4607 - val_accuracy: 0.7500\n",
            "Epoch 46/50\n",
            "20/20 [==============================] - 0s 3ms/step - loss: 0.4378 - accuracy: 0.8016 - val_loss: 0.4627 - val_accuracy: 0.7437\n",
            "Epoch 47/50\n",
            "20/20 [==============================] - 0s 3ms/step - loss: 0.4318 - accuracy: 0.7937 - val_loss: 0.4584 - val_accuracy: 0.7500\n",
            "Epoch 48/50\n",
            "20/20 [==============================] - 0s 3ms/step - loss: 0.4309 - accuracy: 0.7891 - val_loss: 0.4619 - val_accuracy: 0.7500\n",
            "Epoch 49/50\n",
            "20/20 [==============================] - 0s 4ms/step - loss: 0.4288 - accuracy: 0.8016 - val_loss: 0.4623 - val_accuracy: 0.7437\n",
            "Epoch 50/50\n",
            "20/20 [==============================] - 0s 3ms/step - loss: 0.4283 - accuracy: 0.8016 - val_loss: 0.4600 - val_accuracy: 0.7437\n",
            "7/7 [==============================] - 0s 2ms/step\n",
            "Convolutional Neural Network\n",
            "              precision    recall  f1-score   support\n",
            "\n",
            "           0       0.83      0.69      0.75        99\n",
            "           1       0.74      0.86      0.79       101\n",
            "\n",
            "    accuracy                           0.78       200\n",
            "   macro avg       0.78      0.77      0.77       200\n",
            "weighted avg       0.78      0.78      0.77       200\n",
            "\n",
            "ROC AUC: 0.84\n"
          ]
        }
      ]
    },
    {
      "cell_type": "markdown",
      "source": [
        "## Advanced Comined Models"
      ],
      "metadata": {
        "id": "9xi0n8uwTFIW"
      },
      "id": "9xi0n8uwTFIW"
    },
    {
      "cell_type": "markdown",
      "source": [
        "### GRU with Attention"
      ],
      "metadata": {
        "id": "bsRd70xtTk07"
      },
      "id": "bsRd70xtTk07"
    },
    {
      "cell_type": "code",
      "source": [
        "from tensorflow.keras.layers import GRU, Attention\n",
        "\n",
        "# GRU with Attention\n",
        "input_layer = tf.keras.layers.Input(shape=(X_train.shape[1], 1))\n",
        "gru_layer = GRU(64, return_sequences=True)(input_layer)\n",
        "attention_layer = Attention()([gru_layer, gru_layer])\n",
        "flatten_layer = Flatten()(attention_layer)\n",
        "output_layer = Dense(1, activation='sigmoid')(flatten_layer)\n",
        "\n",
        "model_gru_attention = tf.keras.models.Model(inputs=input_layer, outputs=output_layer)\n",
        "\n",
        "model_gru_attention.compile(optimizer='adam', loss='binary_crossentropy', metrics=['accuracy'])\n",
        "model_gru_attention.fit(X_train_cnn, y_train, epochs=50, batch_size=32, validation_split=0.2)\n",
        "\n",
        "# Predictions\n",
        "y_proba_gru_attention = model_gru_attention.predict(X_test_cnn).ravel()\n",
        "y_pred_gru_attention = (y_proba_gru_attention > 0.5).astype(int)\n",
        "\n",
        "# Evaluation\n",
        "print(\"GRU with Attention\")\n",
        "print(classification_report(y_test, y_pred_gru_attention))\n",
        "roc_auc_gru_attention = roc_auc_score(y_test, y_proba_gru_attention)\n",
        "print(f'ROC AUC: {roc_auc_gru_attention:.2f}')"
      ],
      "metadata": {
        "colab": {
          "base_uri": "https://localhost:8080/"
        },
        "id": "W_pZTCbLSK8m",
        "outputId": "09a12cf1-74b1-4803-9ba8-e656be39f2e2"
      },
      "id": "W_pZTCbLSK8m",
      "execution_count": 24,
      "outputs": [
        {
          "output_type": "stream",
          "name": "stdout",
          "text": [
            "Epoch 1/50\n",
            "20/20 [==============================] - 2s 23ms/step - loss: 0.6695 - accuracy: 0.5813 - val_loss: 0.6108 - val_accuracy: 0.7000\n",
            "Epoch 2/50\n",
            "20/20 [==============================] - 0s 6ms/step - loss: 0.6183 - accuracy: 0.6906 - val_loss: 0.5782 - val_accuracy: 0.6938\n",
            "Epoch 3/50\n",
            "20/20 [==============================] - 0s 6ms/step - loss: 0.6151 - accuracy: 0.6844 - val_loss: 0.5814 - val_accuracy: 0.6938\n",
            "Epoch 4/50\n",
            "20/20 [==============================] - 0s 5ms/step - loss: 0.6126 - accuracy: 0.6906 - val_loss: 0.5778 - val_accuracy: 0.6875\n",
            "Epoch 5/50\n",
            "20/20 [==============================] - 0s 6ms/step - loss: 0.6089 - accuracy: 0.6891 - val_loss: 0.5746 - val_accuracy: 0.6875\n",
            "Epoch 6/50\n",
            "20/20 [==============================] - 0s 6ms/step - loss: 0.6072 - accuracy: 0.6844 - val_loss: 0.5721 - val_accuracy: 0.6812\n",
            "Epoch 7/50\n",
            "20/20 [==============================] - 0s 6ms/step - loss: 0.6024 - accuracy: 0.6906 - val_loss: 0.5684 - val_accuracy: 0.6875\n",
            "Epoch 8/50\n",
            "20/20 [==============================] - 0s 5ms/step - loss: 0.5999 - accuracy: 0.6828 - val_loss: 0.5565 - val_accuracy: 0.7000\n",
            "Epoch 9/50\n",
            "20/20 [==============================] - 0s 6ms/step - loss: 0.5950 - accuracy: 0.6922 - val_loss: 0.5558 - val_accuracy: 0.7000\n",
            "Epoch 10/50\n",
            "20/20 [==============================] - 0s 6ms/step - loss: 0.5876 - accuracy: 0.6906 - val_loss: 0.5510 - val_accuracy: 0.6875\n",
            "Epoch 11/50\n",
            "20/20 [==============================] - 0s 6ms/step - loss: 0.5835 - accuracy: 0.6859 - val_loss: 0.5537 - val_accuracy: 0.6812\n",
            "Epoch 12/50\n",
            "20/20 [==============================] - 0s 6ms/step - loss: 0.5738 - accuracy: 0.6938 - val_loss: 0.5211 - val_accuracy: 0.6875\n",
            "Epoch 13/50\n",
            "20/20 [==============================] - 0s 6ms/step - loss: 0.5750 - accuracy: 0.6938 - val_loss: 0.5149 - val_accuracy: 0.7063\n",
            "Epoch 14/50\n",
            "20/20 [==============================] - 0s 6ms/step - loss: 0.5633 - accuracy: 0.6938 - val_loss: 0.5027 - val_accuracy: 0.7250\n",
            "Epoch 15/50\n",
            "20/20 [==============================] - 0s 6ms/step - loss: 0.5573 - accuracy: 0.7109 - val_loss: 0.5057 - val_accuracy: 0.7437\n",
            "Epoch 16/50\n",
            "20/20 [==============================] - 0s 6ms/step - loss: 0.5430 - accuracy: 0.7156 - val_loss: 0.4824 - val_accuracy: 0.7250\n",
            "Epoch 17/50\n",
            "20/20 [==============================] - 0s 6ms/step - loss: 0.5450 - accuracy: 0.7219 - val_loss: 0.5232 - val_accuracy: 0.7437\n",
            "Epoch 18/50\n",
            "20/20 [==============================] - 0s 6ms/step - loss: 0.5379 - accuracy: 0.7297 - val_loss: 0.4960 - val_accuracy: 0.7563\n",
            "Epoch 19/50\n",
            "20/20 [==============================] - 0s 6ms/step - loss: 0.5249 - accuracy: 0.7344 - val_loss: 0.4845 - val_accuracy: 0.7625\n",
            "Epoch 20/50\n",
            "20/20 [==============================] - 0s 6ms/step - loss: 0.5161 - accuracy: 0.7359 - val_loss: 0.4870 - val_accuracy: 0.7500\n",
            "Epoch 21/50\n",
            "20/20 [==============================] - 0s 6ms/step - loss: 0.5056 - accuracy: 0.7422 - val_loss: 0.4759 - val_accuracy: 0.7625\n",
            "Epoch 22/50\n",
            "20/20 [==============================] - 0s 6ms/step - loss: 0.5030 - accuracy: 0.7500 - val_loss: 0.4803 - val_accuracy: 0.7750\n",
            "Epoch 23/50\n",
            "20/20 [==============================] - 0s 7ms/step - loss: 0.4935 - accuracy: 0.7609 - val_loss: 0.4616 - val_accuracy: 0.7750\n",
            "Epoch 24/50\n",
            "20/20 [==============================] - 0s 6ms/step - loss: 0.4879 - accuracy: 0.7672 - val_loss: 0.4594 - val_accuracy: 0.7750\n",
            "Epoch 25/50\n",
            "20/20 [==============================] - 0s 6ms/step - loss: 0.4837 - accuracy: 0.7719 - val_loss: 0.4752 - val_accuracy: 0.7750\n",
            "Epoch 26/50\n",
            "20/20 [==============================] - 0s 6ms/step - loss: 0.4788 - accuracy: 0.7844 - val_loss: 0.4490 - val_accuracy: 0.8000\n",
            "Epoch 27/50\n",
            "20/20 [==============================] - 0s 6ms/step - loss: 0.4787 - accuracy: 0.7844 - val_loss: 0.4635 - val_accuracy: 0.8062\n",
            "Epoch 28/50\n",
            "20/20 [==============================] - 0s 6ms/step - loss: 0.4712 - accuracy: 0.7859 - val_loss: 0.4555 - val_accuracy: 0.8000\n",
            "Epoch 29/50\n",
            "20/20 [==============================] - 0s 6ms/step - loss: 0.4664 - accuracy: 0.7875 - val_loss: 0.4535 - val_accuracy: 0.8000\n",
            "Epoch 30/50\n",
            "20/20 [==============================] - 0s 6ms/step - loss: 0.4657 - accuracy: 0.7922 - val_loss: 0.4562 - val_accuracy: 0.7937\n",
            "Epoch 31/50\n",
            "20/20 [==============================] - 0s 6ms/step - loss: 0.4631 - accuracy: 0.7953 - val_loss: 0.4583 - val_accuracy: 0.8000\n",
            "Epoch 32/50\n",
            "20/20 [==============================] - 0s 6ms/step - loss: 0.4600 - accuracy: 0.7922 - val_loss: 0.4582 - val_accuracy: 0.7750\n",
            "Epoch 33/50\n",
            "20/20 [==============================] - 0s 6ms/step - loss: 0.4596 - accuracy: 0.7891 - val_loss: 0.4748 - val_accuracy: 0.7937\n",
            "Epoch 34/50\n",
            "20/20 [==============================] - 0s 6ms/step - loss: 0.4542 - accuracy: 0.7969 - val_loss: 0.4508 - val_accuracy: 0.7875\n",
            "Epoch 35/50\n",
            "20/20 [==============================] - 0s 6ms/step - loss: 0.4501 - accuracy: 0.8094 - val_loss: 0.4487 - val_accuracy: 0.8000\n",
            "Epoch 36/50\n",
            "20/20 [==============================] - 0s 6ms/step - loss: 0.4441 - accuracy: 0.8016 - val_loss: 0.4682 - val_accuracy: 0.7750\n",
            "Epoch 37/50\n",
            "20/20 [==============================] - 0s 6ms/step - loss: 0.4438 - accuracy: 0.8000 - val_loss: 0.4539 - val_accuracy: 0.7812\n",
            "Epoch 38/50\n",
            "20/20 [==============================] - 0s 6ms/step - loss: 0.4375 - accuracy: 0.8031 - val_loss: 0.4473 - val_accuracy: 0.7937\n",
            "Epoch 39/50\n",
            "20/20 [==============================] - 0s 6ms/step - loss: 0.4356 - accuracy: 0.8094 - val_loss: 0.4411 - val_accuracy: 0.7875\n",
            "Epoch 40/50\n",
            "20/20 [==============================] - 0s 6ms/step - loss: 0.4364 - accuracy: 0.8000 - val_loss: 0.4557 - val_accuracy: 0.7750\n",
            "Epoch 41/50\n",
            "20/20 [==============================] - 0s 5ms/step - loss: 0.4317 - accuracy: 0.8078 - val_loss: 0.4575 - val_accuracy: 0.7625\n",
            "Epoch 42/50\n",
            "20/20 [==============================] - 0s 6ms/step - loss: 0.4247 - accuracy: 0.8203 - val_loss: 0.4393 - val_accuracy: 0.7750\n",
            "Epoch 43/50\n",
            "20/20 [==============================] - 0s 6ms/step - loss: 0.4239 - accuracy: 0.8188 - val_loss: 0.4367 - val_accuracy: 0.7875\n",
            "Epoch 44/50\n",
            "20/20 [==============================] - 0s 6ms/step - loss: 0.4209 - accuracy: 0.7984 - val_loss: 0.4385 - val_accuracy: 0.7875\n",
            "Epoch 45/50\n",
            "20/20 [==============================] - 0s 6ms/step - loss: 0.4215 - accuracy: 0.8016 - val_loss: 0.4504 - val_accuracy: 0.7750\n",
            "Epoch 46/50\n",
            "20/20 [==============================] - 0s 6ms/step - loss: 0.4190 - accuracy: 0.8062 - val_loss: 0.4607 - val_accuracy: 0.7625\n",
            "Epoch 47/50\n",
            "20/20 [==============================] - 0s 6ms/step - loss: 0.4139 - accuracy: 0.8094 - val_loss: 0.4275 - val_accuracy: 0.7812\n",
            "Epoch 48/50\n",
            "20/20 [==============================] - 0s 6ms/step - loss: 0.4120 - accuracy: 0.8094 - val_loss: 0.4299 - val_accuracy: 0.8062\n",
            "Epoch 49/50\n",
            "20/20 [==============================] - 0s 6ms/step - loss: 0.4063 - accuracy: 0.8156 - val_loss: 0.4346 - val_accuracy: 0.7812\n",
            "Epoch 50/50\n",
            "20/20 [==============================] - 0s 6ms/step - loss: 0.4040 - accuracy: 0.8078 - val_loss: 0.4393 - val_accuracy: 0.7750\n",
            "7/7 [==============================] - 0s 3ms/step\n",
            "GRU with Attention\n",
            "              precision    recall  f1-score   support\n",
            "\n",
            "           0       0.72      0.72      0.72        99\n",
            "           1       0.72      0.72      0.72       101\n",
            "\n",
            "    accuracy                           0.72       200\n",
            "   macro avg       0.72      0.72      0.72       200\n",
            "weighted avg       0.72      0.72      0.72       200\n",
            "\n",
            "ROC AUC: 0.82\n"
          ]
        }
      ]
    },
    {
      "cell_type": "markdown",
      "source": [
        "### CNN with GRU"
      ],
      "metadata": {
        "id": "G4ouyI2NTcTO"
      },
      "id": "G4ouyI2NTcTO"
    },
    {
      "cell_type": "code",
      "source": [
        "# CNN with GRU\n",
        "cnn_layer = Conv1D(32, kernel_size=2, activation='relu', input_shape=(X_train.shape[1], 1))(input_layer)\n",
        "pooling_layer = MaxPooling1D(pool_size=2)(cnn_layer)\n",
        "gru_layer = GRU(64)(pooling_layer)\n",
        "output_layer = Dense(1, activation='sigmoid')(gru_layer)\n",
        "\n",
        "model_cnn_gru = tf.keras.models.Model(inputs=input_layer, outputs=output_layer)\n",
        "\n",
        "model_cnn_gru.compile(optimizer='adam', loss='binary_crossentropy', metrics=['accuracy'])\n",
        "model_cnn_gru.fit(X_train_cnn, y_train, epochs=50, batch_size=32, validation_split=0.2)\n",
        "\n",
        "# Predictions\n",
        "y_proba_cnn_gru = model_cnn_gru.predict(X_test_cnn).ravel()\n",
        "y_pred_cnn_gru = (y_proba_cnn_gru > 0.5).astype(int)\n",
        "\n",
        "# Evaluation\n",
        "print(\"CNN with GRU\")\n",
        "print(classification_report(y_test, y_pred_cnn_gru))\n",
        "roc_auc_cnn_gru = roc_auc_score(y_test, y_proba_cnn_gru)\n",
        "print(f'ROC AUC: {roc_auc_cnn_gru:.2f}')"
      ],
      "metadata": {
        "colab": {
          "base_uri": "https://localhost:8080/"
        },
        "id": "LrDt2uT7SK46",
        "outputId": "59d89eb6-7ad5-48a8-c003-a8bd8e9a5a97"
      },
      "id": "LrDt2uT7SK46",
      "execution_count": 25,
      "outputs": [
        {
          "output_type": "stream",
          "name": "stdout",
          "text": [
            "Epoch 1/50\n",
            "20/20 [==============================] - 2s 22ms/step - loss: 0.6785 - accuracy: 0.5688 - val_loss: 0.6297 - val_accuracy: 0.6875\n",
            "Epoch 2/50\n",
            "20/20 [==============================] - 0s 5ms/step - loss: 0.6317 - accuracy: 0.6547 - val_loss: 0.5902 - val_accuracy: 0.6812\n",
            "Epoch 3/50\n",
            "20/20 [==============================] - 0s 5ms/step - loss: 0.6136 - accuracy: 0.6750 - val_loss: 0.5777 - val_accuracy: 0.6938\n",
            "Epoch 4/50\n",
            "20/20 [==============================] - 0s 5ms/step - loss: 0.5986 - accuracy: 0.6953 - val_loss: 0.5616 - val_accuracy: 0.7063\n",
            "Epoch 5/50\n",
            "20/20 [==============================] - 0s 5ms/step - loss: 0.5762 - accuracy: 0.7000 - val_loss: 0.5483 - val_accuracy: 0.7000\n",
            "Epoch 6/50\n",
            "20/20 [==============================] - 0s 5ms/step - loss: 0.5513 - accuracy: 0.7281 - val_loss: 0.5203 - val_accuracy: 0.7250\n",
            "Epoch 7/50\n",
            "20/20 [==============================] - 0s 5ms/step - loss: 0.5260 - accuracy: 0.7453 - val_loss: 0.5133 - val_accuracy: 0.7500\n",
            "Epoch 8/50\n",
            "20/20 [==============================] - 0s 5ms/step - loss: 0.5206 - accuracy: 0.7375 - val_loss: 0.5155 - val_accuracy: 0.7312\n",
            "Epoch 9/50\n",
            "20/20 [==============================] - 0s 5ms/step - loss: 0.5181 - accuracy: 0.7281 - val_loss: 0.5093 - val_accuracy: 0.7500\n",
            "Epoch 10/50\n",
            "20/20 [==============================] - 0s 4ms/step - loss: 0.5051 - accuracy: 0.7344 - val_loss: 0.5069 - val_accuracy: 0.7500\n",
            "Epoch 11/50\n",
            "20/20 [==============================] - 0s 5ms/step - loss: 0.5007 - accuracy: 0.7500 - val_loss: 0.5041 - val_accuracy: 0.7500\n",
            "Epoch 12/50\n",
            "20/20 [==============================] - 0s 5ms/step - loss: 0.4986 - accuracy: 0.7422 - val_loss: 0.5047 - val_accuracy: 0.7500\n",
            "Epoch 13/50\n",
            "20/20 [==============================] - 0s 5ms/step - loss: 0.4960 - accuracy: 0.7531 - val_loss: 0.5032 - val_accuracy: 0.7563\n",
            "Epoch 14/50\n",
            "20/20 [==============================] - 0s 4ms/step - loss: 0.4889 - accuracy: 0.7531 - val_loss: 0.5004 - val_accuracy: 0.7500\n",
            "Epoch 15/50\n",
            "20/20 [==============================] - 0s 5ms/step - loss: 0.4871 - accuracy: 0.7578 - val_loss: 0.5059 - val_accuracy: 0.7375\n",
            "Epoch 16/50\n",
            "20/20 [==============================] - 0s 5ms/step - loss: 0.4846 - accuracy: 0.7641 - val_loss: 0.4987 - val_accuracy: 0.7563\n",
            "Epoch 17/50\n",
            "20/20 [==============================] - 0s 5ms/step - loss: 0.4824 - accuracy: 0.7672 - val_loss: 0.5057 - val_accuracy: 0.7688\n",
            "Epoch 18/50\n",
            "20/20 [==============================] - 0s 4ms/step - loss: 0.4822 - accuracy: 0.7656 - val_loss: 0.4994 - val_accuracy: 0.7500\n",
            "Epoch 19/50\n",
            "20/20 [==============================] - 0s 5ms/step - loss: 0.4796 - accuracy: 0.7672 - val_loss: 0.4965 - val_accuracy: 0.7563\n",
            "Epoch 20/50\n",
            "20/20 [==============================] - 0s 5ms/step - loss: 0.4796 - accuracy: 0.7688 - val_loss: 0.4993 - val_accuracy: 0.7563\n",
            "Epoch 21/50\n",
            "20/20 [==============================] - 0s 5ms/step - loss: 0.4747 - accuracy: 0.7734 - val_loss: 0.4990 - val_accuracy: 0.7437\n",
            "Epoch 22/50\n",
            "20/20 [==============================] - 0s 5ms/step - loss: 0.4761 - accuracy: 0.7750 - val_loss: 0.4945 - val_accuracy: 0.7500\n",
            "Epoch 23/50\n",
            "20/20 [==============================] - 0s 5ms/step - loss: 0.4697 - accuracy: 0.7734 - val_loss: 0.4949 - val_accuracy: 0.7563\n",
            "Epoch 24/50\n",
            "20/20 [==============================] - 0s 5ms/step - loss: 0.4683 - accuracy: 0.7812 - val_loss: 0.4928 - val_accuracy: 0.7500\n",
            "Epoch 25/50\n",
            "20/20 [==============================] - 0s 5ms/step - loss: 0.4682 - accuracy: 0.7797 - val_loss: 0.4926 - val_accuracy: 0.7437\n",
            "Epoch 26/50\n",
            "20/20 [==============================] - 0s 5ms/step - loss: 0.4667 - accuracy: 0.7750 - val_loss: 0.4917 - val_accuracy: 0.7625\n",
            "Epoch 27/50\n",
            "20/20 [==============================] - 0s 5ms/step - loss: 0.4639 - accuracy: 0.7875 - val_loss: 0.4869 - val_accuracy: 0.7375\n",
            "Epoch 28/50\n",
            "20/20 [==============================] - 0s 5ms/step - loss: 0.4639 - accuracy: 0.7875 - val_loss: 0.4908 - val_accuracy: 0.7688\n",
            "Epoch 29/50\n",
            "20/20 [==============================] - 0s 5ms/step - loss: 0.4644 - accuracy: 0.7844 - val_loss: 0.4865 - val_accuracy: 0.7563\n",
            "Epoch 30/50\n",
            "20/20 [==============================] - 0s 5ms/step - loss: 0.4623 - accuracy: 0.7859 - val_loss: 0.4838 - val_accuracy: 0.7688\n",
            "Epoch 31/50\n",
            "20/20 [==============================] - 0s 5ms/step - loss: 0.4614 - accuracy: 0.7844 - val_loss: 0.4900 - val_accuracy: 0.7625\n",
            "Epoch 32/50\n",
            "20/20 [==============================] - 0s 5ms/step - loss: 0.4582 - accuracy: 0.7750 - val_loss: 0.4805 - val_accuracy: 0.7500\n",
            "Epoch 33/50\n",
            "20/20 [==============================] - 0s 5ms/step - loss: 0.4595 - accuracy: 0.8000 - val_loss: 0.4828 - val_accuracy: 0.7375\n",
            "Epoch 34/50\n",
            "20/20 [==============================] - 0s 5ms/step - loss: 0.4521 - accuracy: 0.7937 - val_loss: 0.4848 - val_accuracy: 0.7688\n",
            "Epoch 35/50\n",
            "20/20 [==============================] - 0s 5ms/step - loss: 0.4515 - accuracy: 0.7922 - val_loss: 0.4797 - val_accuracy: 0.7437\n",
            "Epoch 36/50\n",
            "20/20 [==============================] - 0s 5ms/step - loss: 0.4498 - accuracy: 0.7953 - val_loss: 0.4813 - val_accuracy: 0.7437\n",
            "Epoch 37/50\n",
            "20/20 [==============================] - 0s 5ms/step - loss: 0.4499 - accuracy: 0.7984 - val_loss: 0.4811 - val_accuracy: 0.7688\n",
            "Epoch 38/50\n",
            "20/20 [==============================] - 0s 5ms/step - loss: 0.4512 - accuracy: 0.7937 - val_loss: 0.4780 - val_accuracy: 0.7750\n",
            "Epoch 39/50\n",
            "20/20 [==============================] - 0s 5ms/step - loss: 0.4448 - accuracy: 0.7953 - val_loss: 0.4742 - val_accuracy: 0.7375\n",
            "Epoch 40/50\n",
            "20/20 [==============================] - 0s 5ms/step - loss: 0.4443 - accuracy: 0.7937 - val_loss: 0.4787 - val_accuracy: 0.7437\n",
            "Epoch 41/50\n",
            "20/20 [==============================] - 0s 5ms/step - loss: 0.4449 - accuracy: 0.7937 - val_loss: 0.4720 - val_accuracy: 0.7688\n",
            "Epoch 42/50\n",
            "20/20 [==============================] - 0s 5ms/step - loss: 0.4481 - accuracy: 0.7937 - val_loss: 0.4884 - val_accuracy: 0.7750\n",
            "Epoch 43/50\n",
            "20/20 [==============================] - 0s 5ms/step - loss: 0.4460 - accuracy: 0.7969 - val_loss: 0.4716 - val_accuracy: 0.7375\n",
            "Epoch 44/50\n",
            "20/20 [==============================] - 0s 5ms/step - loss: 0.4379 - accuracy: 0.8094 - val_loss: 0.4705 - val_accuracy: 0.7750\n",
            "Epoch 45/50\n",
            "20/20 [==============================] - 0s 4ms/step - loss: 0.4367 - accuracy: 0.7969 - val_loss: 0.4671 - val_accuracy: 0.7688\n",
            "Epoch 46/50\n",
            "20/20 [==============================] - 0s 5ms/step - loss: 0.4309 - accuracy: 0.8062 - val_loss: 0.4662 - val_accuracy: 0.7688\n",
            "Epoch 47/50\n",
            "20/20 [==============================] - 0s 4ms/step - loss: 0.4317 - accuracy: 0.8031 - val_loss: 0.4715 - val_accuracy: 0.7688\n",
            "Epoch 48/50\n",
            "20/20 [==============================] - 0s 5ms/step - loss: 0.4316 - accuracy: 0.7984 - val_loss: 0.4642 - val_accuracy: 0.7625\n",
            "Epoch 49/50\n",
            "20/20 [==============================] - 0s 5ms/step - loss: 0.4322 - accuracy: 0.8047 - val_loss: 0.4655 - val_accuracy: 0.7625\n",
            "Epoch 50/50\n",
            "20/20 [==============================] - 0s 5ms/step - loss: 0.4239 - accuracy: 0.8109 - val_loss: 0.4653 - val_accuracy: 0.7688\n",
            "7/7 [==============================] - 0s 2ms/step\n",
            "CNN with GRU\n",
            "              precision    recall  f1-score   support\n",
            "\n",
            "           0       0.82      0.66      0.73        99\n",
            "           1       0.72      0.86      0.78       101\n",
            "\n",
            "    accuracy                           0.76       200\n",
            "   macro avg       0.77      0.76      0.76       200\n",
            "weighted avg       0.77      0.76      0.76       200\n",
            "\n",
            "ROC AUC: 0.83\n"
          ]
        }
      ]
    },
    {
      "cell_type": "markdown",
      "source": [
        "## Comparison and Analysis"
      ],
      "metadata": {
        "id": "D9mIey_dT6EF"
      },
      "id": "D9mIey_dT6EF"
    },
    {
      "cell_type": "code",
      "source": [
        "# Summarize all ROC AUC scores\n",
        "roc_auc_scores = {\n",
        "    'Logistic Regression': roc_auc_lr,\n",
        "    'Support Vector Machine': roc_auc_svm,\n",
        "    'Random Forest': roc_auc_rf,\n",
        "    'Gradient Boosting Machine': roc_auc_gbm,\n",
        "    'Simple Neural Network': roc_auc_nn,\n",
        "    'Convolutional Neural Network': roc_auc_cnn,\n",
        "    'GRU with Attention': roc_auc_gru_attention,\n",
        "    'CNN with GRU': roc_auc_cnn_gru\n",
        "}\n",
        "\n",
        "# Print all ROC AUC scores\n",
        "for model, score in roc_auc_scores.items():\n",
        "    print(f'{model}: ROC AUC = {score:.2f}')"
      ],
      "metadata": {
        "colab": {
          "base_uri": "https://localhost:8080/"
        },
        "id": "ilWM4WXVSKxF",
        "outputId": "99ed9065-89a4-4bdd-a7b3-2a71a5bbd20b"
      },
      "id": "ilWM4WXVSKxF",
      "execution_count": 26,
      "outputs": [
        {
          "output_type": "stream",
          "name": "stdout",
          "text": [
            "Logistic Regression: ROC AUC = 0.84\n",
            "Support Vector Machine: ROC AUC = 0.82\n",
            "Random Forest: ROC AUC = 0.89\n",
            "Gradient Boosting Machine: ROC AUC = 0.86\n",
            "Simple Neural Network: ROC AUC = 0.83\n",
            "Convolutional Neural Network: ROC AUC = 0.84\n",
            "GRU with Attention: ROC AUC = 0.82\n",
            "CNN with GRU: ROC AUC = 0.83\n"
          ]
        }
      ]
    },
    {
      "cell_type": "markdown",
      "source": [
        "### Key Observations:\n",
        "- The Random Forest model significantly outperforms the other models with a ROC AUC of 0.89.\n",
        "- Ensemble methods like Random Forest and Gradient Boosting Machine generally perform well, but Random Forest has a clear edge in this case.\n",
        "- Deep learning models (Simple Neural Network, CNN, GRU with Attention, CNN with GRU) show reasonable performance but do not surpass the Random Forest model.\n",
        "- Traditional ML models (Logistic Regression, SVM) have lower ROC AUC scores compared to ensemble methods and deep learning models."
      ],
      "metadata": {
        "id": "K0KpHnZYVevS"
      },
      "id": "K0KpHnZYVevS"
    },
    {
      "cell_type": "code",
      "source": [
        "import pandas as pd\n",
        "import matplotlib.pyplot as plt\n",
        "\n",
        "# Get feature importances from the improved Random Forest model\n",
        "feature_importances_rf = rf.feature_importances_\n",
        "\n",
        "# Create a DataFrame for feature importances\n",
        "features = X.columns\n",
        "importance_df_rf = pd.DataFrame({'Feature': features, 'Importance': feature_importances_rf})\n",
        "\n",
        "# Sort the DataFrame by importance\n",
        "importance_df_rf = importance_df_rf.sort_values(by='Importance', ascending=False)\n",
        "\n",
        "# Print the feature importances\n",
        "print(\"Random Forest Feature Importances\")\n",
        "print(importance_df_rf)\n",
        "\n",
        "# Plot the feature importances\n",
        "plt.figure(figsize=(12, 6))\n",
        "plt.barh(importance_df_rf['Feature'], importance_df_rf['Importance'])\n",
        "plt.gca().invert_yaxis()\n",
        "plt.xlabel('Importance')\n",
        "plt.title('Random Forest Feature Importances')\n",
        "plt.show()"
      ],
      "metadata": {
        "colab": {
          "base_uri": "https://localhost:8080/",
          "height": 663
        },
        "id": "zTZnTpsqHdc2",
        "outputId": "077e9ea6-1559-47da-8f7f-dd885638fba4"
      },
      "id": "zTZnTpsqHdc2",
      "execution_count": 27,
      "outputs": [
        {
          "output_type": "stream",
          "name": "stdout",
          "text": [
            "Random Forest Feature Importances\n",
            "                    Feature  Importance\n",
            "1                   Glucose    0.246969\n",
            "5                       BMI    0.189336\n",
            "7                       Age    0.149874\n",
            "6  DiabetesPedigreeFunction    0.125098\n",
            "2             BloodPressure    0.084102\n",
            "4                   Insulin    0.070162\n",
            "3             SkinThickness    0.067910\n",
            "0               Pregnancies    0.066550\n"
          ]
        },
        {
          "output_type": "display_data",
          "data": {
            "text/plain": [
              "<Figure size 1200x600 with 1 Axes>"
            ],
            "image/png": "[encoded data removed]"
          },
          "metadata": {}
        }
      ]
    },
    {
      "cell_type": "markdown",
      "source": [
        "## Stacking Ensemble Model Implementation\n",
        "Combination with RF + GBM + SVM"
      ],
      "metadata": {
        "id": "RJ9CIQiDta2D"
      },
      "id": "RJ9CIQiDta2D"
    },
    {
      "cell_type": "code",
      "source": [
        "from sklearn.ensemble import StackingClassifier\n",
        "from sklearn.linear_model import LogisticRegression\n",
        "from sklearn.model_selection import cross_val_score\n",
        "\n",
        "# Define the base models\n",
        "base_models = [\n",
        "    ('rf', RandomForestClassifier(random_state=42)),\n",
        "    ('gbm', GradientBoostingClassifier(random_state=42)),\n",
        "    ('lr', LogisticRegression(random_state=42))\n",
        "]\n",
        "\n",
        "# Define the meta-learner model\n",
        "meta_model = LogisticRegression()\n",
        "\n",
        "# Create the stacking ensemble\n",
        "stacking_clf = StackingClassifier(estimators=base_models, final_estimator=meta_model, cv=5)\n",
        "\n",
        "# Train the stacking ensemble\n",
        "stacking_clf.fit(X_train, y_train)\n",
        "\n",
        "# Evaluate the stacking ensemble\n",
        "y_pred_stack = stacking_clf.predict(X_test)\n",
        "y_proba_stack = stacking_clf.predict_proba(X_test)[:, 1]\n",
        "\n",
        "# Print evaluation metrics\n",
        "print(\"Stacking Ensemble\")\n",
        "print(classification_report(y_test, y_pred_stack))\n",
        "roc_auc_stack = roc_auc_score(y_test, y_proba_stack)\n",
        "print(f'ROC AUC: {roc_auc_stack:.2f}')\n",
        "\n",
        "# Plot the ROC curve\n",
        "fpr, tpr, _ = roc_curve(y_test, y_proba_stack)\n",
        "plt.figure()\n",
        "plt.plot(fpr, tpr, color='blue', lw=2, label=f'Stacking Ensemble (AUC = {roc_auc_stack:.2f})')\n",
        "plt.plot([0, 1], [0, 1], color='navy', lw=2, linestyle='--')\n",
        "plt.xlim([0.0, 1.0])\n",
        "plt.ylim([0.0, 1.05])\n",
        "plt.xlabel('False Positive Rate')\n",
        "plt.ylabel('True Positive Rate')\n",
        "plt.title('Receiver Operating Characteristic (ROC) Curve')\n",
        "plt.legend(loc=\"lower right\")\n",
        "plt.show()"
      ],
      "metadata": {
        "colab": {
          "base_uri": "https://localhost:8080/",
          "height": 663
        },
        "collapsed": true,
        "id": "0R2eXhwhVt8I",
        "outputId": "d01b45b0-5649-466b-f6bb-fa3fdb7bbe6d"
      },
      "id": "0R2eXhwhVt8I",
      "execution_count": 29,
      "outputs": [
        {
          "output_type": "stream",
          "name": "stdout",
          "text": [
            "Stacking Ensemble\n",
            "              precision    recall  f1-score   support\n",
            "\n",
            "           0       0.87      0.76      0.81        99\n",
            "           1       0.79      0.89      0.84       101\n",
            "\n",
            "    accuracy                           0.82       200\n",
            "   macro avg       0.83      0.82      0.82       200\n",
            "weighted avg       0.83      0.82      0.82       200\n",
            "\n",
            "ROC AUC: 0.89\n"
          ]
        },
        {
          "output_type": "display_data",
          "data": {
            "text/plain": [
              "<Figure size 640x480 with 1 Axes>"
            ],
            "image/png": "[encoded data removed]"
          },
          "metadata": {}
        }
      ]
    },
    {
      "cell_type": "code",
      "source": [
        "from sklearn.metrics import confusion_matrix\n",
        "\n",
        "# Generate confusion matrix\n",
        "cm = confusion_matrix(y_test, y_pred_stack)\n",
        "\n",
        "# Print confusion matrix\n",
        "print(\"Confusion Matrix\")\n",
        "print(cm)\n"
      ],
      "metadata": {
        "colab": {
          "base_uri": "https://localhost:8080/"
        },
        "id": "eGfo8EazQVav",
        "outputId": "158fec87-43be-4cdd-e6c2-1c8df2432a4c"
      },
      "id": "eGfo8EazQVav",
      "execution_count": 30,
      "outputs": [
        {
          "output_type": "stream",
          "name": "stdout",
          "text": [
            "Confusion Matrix\n",
            "[[75 24]\n",
            " [11 90]]\n"
          ]
        }
      ]
    },
    {
      "cell_type": "code",
      "source": [
        "import matplotlib.pyplot as plt\n",
        "from sklearn.metrics import roc_curve, roc_auc_score\n",
        "\n",
        "# Calculate ROC curve and AUC for each updated model\n",
        "fpr_lr, tpr_lr, _ = roc_curve(y_test, y_proba_lr)\n",
        "roc_auc_lr = roc_auc_score(y_test, y_proba_lr)\n",
        "\n",
        "fpr_svm, tpr_svm, _ = roc_curve(y_test, y_proba_svm)\n",
        "roc_auc_svm = roc_auc_score(y_test, y_proba_svm)\n",
        "\n",
        "fpr_rf, tpr_rf, _ = roc_curve(y_test, y_proba_rf)\n",
        "roc_auc_rf = roc_auc_score(y_test, y_proba_rf)\n",
        "\n",
        "fpr_gbm, tpr_gbm, _ = roc_curve(y_test, y_proba_gbm)\n",
        "roc_auc_gbm = roc_auc_score(y_test, y_proba_gbm)\n",
        "\n",
        "fpr_nn, tpr_nn, _ = roc_curve(y_test, y_proba_nn)\n",
        "roc_auc_nn = roc_auc_score(y_test, y_proba_nn)\n",
        "\n",
        "fpr_cnn, tpr_cnn, _ = roc_curve(y_test, y_proba_cnn)\n",
        "roc_auc_cnn = roc_auc_score(y_test, y_proba_cnn)\n",
        "\n",
        "fpr_gru_attention, tpr_gru_attention, _ = roc_curve(y_test, y_proba_gru_attention)\n",
        "roc_auc_gru_attention = roc_auc_score(y_test, y_proba_gru_attention)\n",
        "\n",
        "fpr_cnn_gru, tpr_cnn_gru, _ = roc_curve(y_test, y_proba_cnn_gru)\n",
        "roc_auc_cnn_gru = roc_auc_score(y_test, y_proba_cnn_gru)\n",
        "\n",
        "# Plot all ROC curves on the same plot\n",
        "plt.figure()\n",
        "\n",
        "plt.plot(fpr_lr, tpr_lr, color='blue', lw=2, label=f'Logistic Regression (AUC = {roc_auc_lr:.2f})')\n",
        "plt.plot(fpr_svm, tpr_svm, color='red', lw=2, label=f'SVM (AUC = {roc_auc_svm:.2f})')\n",
        "plt.plot(fpr_rf, tpr_rf, color='green', lw=2, label=f'Random Forest (AUC = {roc_auc_rf:.2f})')\n",
        "plt.plot(fpr_gbm, tpr_gbm, color='purple', lw=2, label=f'Gradient Boosting (AUC = {roc_auc_gbm:.2f})')\n",
        "plt.plot(fpr_nn, tpr_nn, color='orange', lw=2, label=f'Simple Neural Network (AUC = {roc_auc_nn:.2f})')\n",
        "plt.plot(fpr_cnn, tpr_cnn, color='brown', lw=2, label=f'Convolutional Neural Network (AUC = {roc_auc_cnn:.2f})')\n",
        "plt.plot(fpr_gru_attention, tpr_gru_attention, color='pink', lw=2, label=f'GRU with Attention (AUC = {roc_auc_gru_attention:.2f})')\n",
        "plt.plot(fpr_cnn_gru, tpr_cnn_gru, color='cyan', lw=2, label=f'CNN with GRU (AUC = {roc_auc_cnn_gru:.2f})')\n",
        "\n",
        "plt.plot([0, 1], [0, 1], color='navy', lw=2, linestyle='--')\n",
        "plt.xlim([0.0, 1.0])\n",
        "plt.ylim([0.0, 1.05])\n",
        "plt.xlabel('False Positive Rate')\n",
        "plt.ylabel('True Positive Rate')\n",
        "plt.title('Receiver Operating Characteristic (ROC) Curve')\n",
        "plt.legend(loc=\"lower right\")\n",
        "plt.show()\n"
      ],
      "metadata": {
        "colab": {
          "base_uri": "https://localhost:8080/",
          "height": 472
        },
        "id": "f_NctxjaUff9",
        "outputId": "a172a50f-88e9-48b2-ba40-294b13b77f46"
      },
      "id": "f_NctxjaUff9",
      "execution_count": 31,
      "outputs": [
        {
          "output_type": "display_data",
          "data": {
            "text/plain": [
              "<Figure size 640x480 with 1 Axes>"
            ],
            "image/png": "[encoded data removed]"
          },
          "metadata": {}
        }
      ]
    },
    {
      "cell_type": "markdown",
      "source": [
        "### Analysis:\n",
        "1. Random Forest: With an AUC of 0.89, the Random Forest model continues to outperform the other models, further solidifying its status as the best single model for this dataset.\n",
        "2. Gradient Boosting Machine: The ROC AUC has increased to 0.86, indicating even stronger predictive performance.\n",
        "3. Deep Learning Models: Significant improvements are observed in the deep learning models, particularly the CNN with GRU, which now has an AUC of 0.83.\n",
        "4. Traditional Machine Learning Models: Logistic Regression and SVM have also improved substantially, with ROC AUCs of 0.84 and 0.82, respectively.\n",
        "\n",
        "### Recommendations:\n",
        "1. Model Deployment: Continue with the Random Forest and the stacking ensemble model for deployment, as they provide the best performance.\n",
        "2. Feature Engineering: The addition of new features has proven beneficial. Consider exploring additional relevant features if available.\n",
        "3. Continuous Improvement: Regularly update the model with new data and re-evaluate to ensure sustained performance."
      ],
      "metadata": {
        "id": "NqS28KaWU_nw"
      },
      "id": "NqS28KaWU_nw"
    },
    {
      "cell_type": "code",
      "source": [
        "import pandas as pd\n",
        "from sklearn.metrics import accuracy_score\n",
        "\n",
        "# Assuming y_pred_* are the predicted labels for each model\n",
        "\n",
        "# Calculate accuracy for each model\n",
        "accuracy_lr = accuracy_score(y_test, y_pred_lr) * 100\n",
        "accuracy_svm = accuracy_score(y_test, y_pred_svm) * 100\n",
        "accuracy_rf = accuracy_score(y_test, y_pred_rf) * 100\n",
        "accuracy_gbm = accuracy_score(y_test, y_pred_gbm) * 100\n",
        "accuracy_nn = accuracy_score(y_test, y_pred_nn) * 100\n",
        "accuracy_cnn = accuracy_score(y_test, y_pred_cnn) * 100\n",
        "accuracy_gru_attention = accuracy_score(y_test, y_pred_gru_attention) * 100\n",
        "accuracy_cnn_gru = accuracy_score(y_test, y_pred_cnn_gru) * 100\n",
        "\n",
        "# Create a DataFrame to hold the results\n",
        "results = {\n",
        "    'Model': [\n",
        "        'Logistic Regression',\n",
        "        'Support Vector Machine',\n",
        "        'Random Forest',\n",
        "        'Gradient Boosting Machine',\n",
        "        'Simple Neural Network',\n",
        "        'Convolutional Neural Network',\n",
        "        'GRU with Attention',\n",
        "        'CNN with GRU'\n",
        "    ],\n",
        "    'Accuracy (%)': [\n",
        "        accuracy_lr,\n",
        "        accuracy_svm,\n",
        "        accuracy_rf,\n",
        "        accuracy_gbm,\n",
        "        accuracy_nn,\n",
        "        accuracy_cnn,\n",
        "        accuracy_gru_attention,\n",
        "        accuracy_cnn_gru\n",
        "    ],\n",
        "    'ROC AUC': [\n",
        "        roc_auc_lr,\n",
        "        roc_auc_svm,\n",
        "        roc_auc_rf,\n",
        "        roc_auc_gbm,\n",
        "        roc_auc_nn,\n",
        "        roc_auc_cnn,\n",
        "        roc_auc_gru_attention,\n",
        "        roc_auc_cnn_gru\n",
        "    ]\n",
        "}\n",
        "\n",
        "results_df = pd.DataFrame(results)\n",
        "\n",
        "# Display the results\n",
        "print(results_df)"
      ],
      "metadata": {
        "colab": {
          "base_uri": "https://localhost:8080/"
        },
        "id": "O1_FePuqEmW0",
        "outputId": "ae0f2225-4cec-47d9-ccbf-d8c878d041a3"
      },
      "id": "O1_FePuqEmW0",
      "execution_count": 32,
      "outputs": [
        {
          "output_type": "stream",
          "name": "stdout",
          "text": [
            "                          Model  Accuracy (%)   ROC AUC\n",
            "0           Logistic Regression          75.5  0.839184\n",
            "1        Support Vector Machine          75.0  0.824182\n",
            "2                 Random Forest          83.0  0.892939\n",
            "3     Gradient Boosting Machine          79.0  0.864386\n",
            "4         Simple Neural Network          75.5  0.831283\n",
            "5  Convolutional Neural Network          77.5  0.838584\n",
            "6            GRU with Attention          72.0  0.816782\n",
            "7                  CNN with GRU          76.0  0.827483\n"
          ]
        }
      ]
    },
    {
      "cell_type": "code",
      "source": [
        "# Plot the accuracy percentages\n",
        "plt.figure(figsize=(10, 4), facecolor='white')\n",
        "sns.set_style('whitegrid')\n",
        "sns.barplot(x='Accuracy (%)', y='Model', data=results_df, palette='viridis')\n",
        "plt.title('Model Accuracy Comparison')\n",
        "plt.xlabel('Accuracy (%)')\n",
        "plt.ylabel('Model')\n",
        "plt.xlim(0, 100)\n",
        "plt.show()\n",
        "\n",
        "# Plot the ROC AUC scores\n",
        "plt.figure(figsize=(10, 4), facecolor='white')\n",
        "sns.set_style('whitegrid')\n",
        "sns.barplot(x='ROC AUC', y='Model', data=results_df, palette='viridis')\n",
        "plt.title('Model ROC AUC Comparison')\n",
        "plt.xlabel('ROC AUC')\n",
        "plt.ylabel('Model')\n",
        "plt.xlim(0, 1)\n",
        "plt.show()"
      ],
      "metadata": {
        "colab": {
          "base_uri": "https://localhost:8080/",
          "height": 759
        },
        "id": "Xrs3fI9BEmT2",
        "outputId": "e1c89019-e1e0-43a0-cbc0-07869299767d"
      },
      "id": "Xrs3fI9BEmT2",
      "execution_count": 33,
      "outputs": [
        {
          "output_type": "display_data",
          "data": {
            "text/plain": [
              "<Figure size 1000x400 with 1 Axes>"
            ],
            "image/png": "[encoded data removed]"
          },
          "metadata": {}
        },
        {
          "output_type": "display_data",
          "data": {
            "text/plain": [
              "<Figure size 1000x400 with 1 Axes>"
            ],
            "image/png": "[encoded data removed]"
          },
          "metadata": {}
        }
      ]
    },
    {
      "cell_type": "markdown",
      "source": [
        "# Cross-Validation all 8 models"
      ],
      "metadata": {
        "id": "FfNIO0NVX5HC"
      },
      "id": "FfNIO0NVX5HC"
    },
    {
      "cell_type": "markdown",
      "source": [
        "## Validating Logistic Regression, SVM, Random Forest, and Gradient Boosting Machine"
      ],
      "metadata": {
        "id": "0DkokkZkBf9t"
      },
      "id": "0DkokkZkBf9t"
    },
    {
      "cell_type": "code",
      "source": [
        "from sklearn.linear_model import LogisticRegression\n",
        "from sklearn.svm import SVC\n",
        "from sklearn.ensemble import RandomForestClassifier, GradientBoostingClassifier\n",
        "from sklearn.model_selection import cross_val_score\n",
        "\n",
        "# Define the models\n",
        "lr_model = LogisticRegression()\n",
        "svm_model = SVC(probability=True)\n",
        "rf_model = RandomForestClassifier()\n",
        "gbm_model = GradientBoostingClassifier()\n",
        "\n",
        "# Perform 5-fold cross-validation for each model\n",
        "cv_scores_lr = cross_val_score(lr_model, X_train, y_train, cv=5, scoring='roc_auc')\n",
        "cv_scores_svm = cross_val_score(svm_model, X_train, y_train, cv=5, scoring='roc_auc')\n",
        "cv_scores_rf = cross_val_score(rf_model, X_train, y_train, cv=5, scoring='roc_auc')\n",
        "cv_scores_gbm = cross_val_score(gbm_model, X_train, y_train, cv=5, scoring='roc_auc')\n",
        "\n",
        "# Print the mean cross-validation scores\n",
        "print(f'Logistic Regression CV AUC: {cv_scores_lr.mean():.2f}')\n",
        "print(f'SVM CV AUC: {cv_scores_svm.mean():.2f}')\n",
        "print(f'Random Forest CV AUC: {cv_scores_rf.mean():.2f}')\n",
        "print(f'Gradient Boosting CV AUC: {cv_scores_gbm.mean():.2f}')\n"
      ],
      "metadata": {
        "colab": {
          "base_uri": "https://localhost:8080/"
        },
        "id": "4JQ0zp0lGX4V",
        "outputId": "03f96ad4-74c5-4572-be70-9c6ca4e8b5d2"
      },
      "id": "4JQ0zp0lGX4V",
      "execution_count": 34,
      "outputs": [
        {
          "output_type": "stream",
          "name": "stdout",
          "text": [
            "Logistic Regression CV AUC: 0.84\n",
            "SVM CV AUC: 0.87\n",
            "Random Forest CV AUC: 0.89\n",
            "Gradient Boosting CV AUC: 0.87\n"
          ]
        }
      ]
    },
    {
      "cell_type": "markdown",
      "source": [
        "## Validating Simple Neural Network, CNN, GRU with Attention, and CNN with GRU Separately\n",
        "For the neural network models, let's validate them in another section."
      ],
      "metadata": {
        "id": "Vu9IyNmrHGrt"
      },
      "id": "Vu9IyNmrHGrt"
    },
    {
      "cell_type": "markdown",
      "source": [
        "### Simple Neural Network Cross-Validation"
      ],
      "metadata": {
        "id": "Xcu0GVWbHMw0"
      },
      "id": "Xcu0GVWbHMw0"
    },
    {
      "cell_type": "code",
      "source": [
        "import numpy as np\n",
        "from tensorflow.keras.models import Sequential\n",
        "from tensorflow.keras.layers import Dense\n",
        "from sklearn.model_selection import cross_val_score\n",
        "from sklearn.base import BaseEstimator, ClassifierMixin\n",
        "from sklearn.metrics import roc_auc_score\n",
        "from sklearn.model_selection import StratifiedKFold\n",
        "\n",
        "class SimpleNNClassifier(BaseEstimator, ClassifierMixin):\n",
        "    def __init__(self, epochs=10, batch_size=32):\n",
        "        self.epochs = epochs\n",
        "        self.batch_size = batch_size\n",
        "        self.model = None\n",
        "\n",
        "    def build_model(self):\n",
        "        model = Sequential()\n",
        "        model.add(Dense(64, input_dim=X_train.shape[1], activation='relu'))\n",
        "        model.add(Dense(32, activation='relu'))\n",
        "        model.add(Dense(1, activation='sigmoid'))\n",
        "        model.compile(optimizer='adam', loss='binary_crossentropy', metrics=['accuracy'])\n",
        "        return model\n",
        "\n",
        "    def fit(self, X, y):\n",
        "        self.model = self.build_model()\n",
        "        self.model.fit(X, y, epochs=self.epochs, batch_size=self.batch_size, verbose=1)\n",
        "        return self\n",
        "\n",
        "    def predict(self, X):\n",
        "        return (self.model.predict(X) > 0.5).astype(\"int32\")\n",
        "\n",
        "    def predict_proba(self, X):\n",
        "        return self.model.predict(X)\n",
        "\n",
        "    def get_params(self, deep=True):\n",
        "        return {\"epochs\": self.epochs, \"batch_size\": self.batch_size}\n",
        "\n",
        "    def set_params(self, **params):\n",
        "        for param, value in params.items():\n",
        "            setattr(self, param, value)\n",
        "        return self\n",
        "\n",
        "# Ensure no NaN values\n",
        "assert not np.any(np.isnan(X_train)), \"X_train contains NaN values\"\n",
        "assert not np.any(np.isnan(y_train)), \"y_train contains NaN values\"\n",
        "\n",
        "# Convert DataFrame to numpy array if necessary\n",
        "if isinstance(X_train, pd.DataFrame):\n",
        "    X_train = X_train.values\n",
        "if isinstance(y_train, pd.Series):\n",
        "    y_train = y_train.values\n",
        "\n",
        "# Instantiate the model\n",
        "nn_model = SimpleNNClassifier(epochs=10, batch_size=32)\n",
        "\n",
        "# Perform 5-fold cross-validation manually to debug\n",
        "kf = StratifiedKFold(n_splits=5, shuffle=True, random_state=42)\n",
        "roc_auc_scores = []\n",
        "\n",
        "for train_index, test_index in kf.split(X_train, y_train):\n",
        "    X_train_cv, X_test_cv = X_train[train_index], X_train[test_index]\n",
        "    y_train_cv, y_test_cv = y_train[train_index], y_train[test_index]\n",
        "\n",
        "    nn_model.fit(X_train_cv, y_train_cv)\n",
        "    y_pred_proba = nn_model.predict_proba(X_test_cv)\n",
        "\n",
        "    # Check for NaN values in predictions\n",
        "    if np.any(np.isnan(y_pred_proba)):\n",
        "        print(\"NaN values found in predictions\")\n",
        "        continue\n",
        "\n",
        "    roc_auc = roc_auc_score(y_test_cv, y_pred_proba)\n",
        "    roc_auc_scores.append(roc_auc)\n",
        "    print(f\"Fold ROC AUC: {roc_auc}\")\n",
        "\n",
        "# Calculate mean ROC AUC\n",
        "mean_roc_auc = np.mean(roc_auc_scores)\n",
        "print(f'Simple Neural Network CV AUC: {mean_roc_auc:.2f}')\n"
      ],
      "metadata": {
        "colab": {
          "base_uri": "https://localhost:8080/"
        },
        "id": "_5E7dxaOJrUb",
        "outputId": "7ba87dee-f5ca-466c-c875-c16eb1b37500"
      },
      "id": "_5E7dxaOJrUb",
      "execution_count": 35,
      "outputs": [
        {
          "output_type": "stream",
          "name": "stdout",
          "text": [
            "Epoch 1/10\n",
            "20/20 [==============================] - 0s 2ms/step - loss: 0.6427 - accuracy: 0.6938\n",
            "Epoch 2/10\n",
            "20/20 [==============================] - 0s 2ms/step - loss: 0.5671 - accuracy: 0.7422\n",
            "Epoch 3/10\n",
            "20/20 [==============================] - 0s 2ms/step - loss: 0.5184 - accuracy: 0.7625\n",
            "Epoch 4/10\n",
            "20/20 [==============================] - 0s 1ms/step - loss: 0.4885 - accuracy: 0.7703\n",
            "Epoch 5/10\n",
            "20/20 [==============================] - 0s 2ms/step - loss: 0.4705 - accuracy: 0.7812\n",
            "Epoch 6/10\n",
            "20/20 [==============================] - 0s 2ms/step - loss: 0.4581 - accuracy: 0.7859\n",
            "Epoch 7/10\n",
            "20/20 [==============================] - 0s 2ms/step - loss: 0.4475 - accuracy: 0.7859\n",
            "Epoch 8/10\n",
            "20/20 [==============================] - 0s 2ms/step - loss: 0.4396 - accuracy: 0.7812\n",
            "Epoch 9/10\n",
            "20/20 [==============================] - 0s 2ms/step - loss: 0.4312 - accuracy: 0.7922\n",
            "Epoch 10/10\n",
            "20/20 [==============================] - 0s 2ms/step - loss: 0.4271 - accuracy: 0.7922\n",
            "5/5 [==============================] - 0s 3ms/step\n",
            "Fold ROC AUC: 0.8062197218315361\n",
            "Epoch 1/10\n",
            "20/20 [==============================] - 1s 2ms/step - loss: 0.6551 - accuracy: 0.6672\n",
            "Epoch 2/10\n",
            "20/20 [==============================] - 0s 1ms/step - loss: 0.5869 - accuracy: 0.7453\n",
            "Epoch 3/10\n",
            "20/20 [==============================] - 0s 2ms/step - loss: 0.5372 - accuracy: 0.7531\n",
            "Epoch 4/10\n",
            "20/20 [==============================] - 0s 2ms/step - loss: 0.5013 - accuracy: 0.7531\n",
            "Epoch 5/10\n",
            "20/20 [==============================] - 0s 2ms/step - loss: 0.4800 - accuracy: 0.7578\n",
            "Epoch 6/10\n",
            "20/20 [==============================] - 0s 2ms/step - loss: 0.4665 - accuracy: 0.7594\n",
            "Epoch 7/10\n",
            "20/20 [==============================] - 0s 2ms/step - loss: 0.4539 - accuracy: 0.7688\n",
            "Epoch 8/10\n",
            "20/20 [==============================] - 0s 2ms/step - loss: 0.4456 - accuracy: 0.7781\n",
            "Epoch 9/10\n",
            "20/20 [==============================] - 0s 2ms/step - loss: 0.4374 - accuracy: 0.7859\n",
            "Epoch 10/10\n",
            "20/20 [==============================] - 0s 1ms/step - loss: 0.4321 - accuracy: 0.7844\n",
            "5/5 [==============================] - 0s 2ms/step\n",
            "Fold ROC AUC: 0.8403124999999999\n",
            "Epoch 1/10\n",
            "20/20 [==============================] - 1s 2ms/step - loss: 0.6645 - accuracy: 0.5859\n",
            "Epoch 2/10\n",
            "20/20 [==============================] - 0s 2ms/step - loss: 0.5794 - accuracy: 0.7281\n",
            "Epoch 3/10\n",
            "20/20 [==============================] - 0s 2ms/step - loss: 0.5343 - accuracy: 0.7469\n",
            "Epoch 4/10\n",
            "20/20 [==============================] - 0s 2ms/step - loss: 0.5087 - accuracy: 0.7516\n",
            "Epoch 5/10\n",
            "20/20 [==============================] - 0s 2ms/step - loss: 0.4930 - accuracy: 0.7594\n",
            "Epoch 6/10\n",
            "20/20 [==============================] - 0s 1ms/step - loss: 0.4799 - accuracy: 0.7656\n",
            "Epoch 7/10\n",
            "20/20 [==============================] - 0s 2ms/step - loss: 0.4708 - accuracy: 0.7688\n",
            "Epoch 8/10\n",
            "20/20 [==============================] - 0s 2ms/step - loss: 0.4634 - accuracy: 0.7781\n",
            "Epoch 9/10\n",
            "20/20 [==============================] - 0s 2ms/step - loss: 0.4575 - accuracy: 0.7781\n",
            "Epoch 10/10\n",
            "20/20 [==============================] - 0s 2ms/step - loss: 0.4529 - accuracy: 0.7781\n",
            "5/5 [==============================] - 0s 2ms/step\n",
            "Fold ROC AUC: 0.8896875\n",
            "Epoch 1/10\n",
            "20/20 [==============================] - 1s 2ms/step - loss: 0.6626 - accuracy: 0.6141\n",
            "Epoch 2/10\n",
            "20/20 [==============================] - 0s 2ms/step - loss: 0.5867 - accuracy: 0.7234\n",
            "Epoch 3/10\n",
            "20/20 [==============================] - 0s 2ms/step - loss: 0.5431 - accuracy: 0.7359\n",
            "Epoch 4/10\n",
            "20/20 [==============================] - 0s 1ms/step - loss: 0.5114 - accuracy: 0.7453\n",
            "Epoch 5/10\n",
            "20/20 [==============================] - 0s 1ms/step - loss: 0.4948 - accuracy: 0.7500\n",
            "Epoch 6/10\n",
            "20/20 [==============================] - 0s 1ms/step - loss: 0.4821 - accuracy: 0.7578\n",
            "Epoch 7/10\n",
            "20/20 [==============================] - 0s 1ms/step - loss: 0.4751 - accuracy: 0.7594\n",
            "Epoch 8/10\n",
            "20/20 [==============================] - 0s 2ms/step - loss: 0.4667 - accuracy: 0.7641\n",
            "Epoch 9/10\n",
            "20/20 [==============================] - 0s 2ms/step - loss: 0.4617 - accuracy: 0.7641\n",
            "Epoch 10/10\n",
            "20/20 [==============================] - 0s 2ms/step - loss: 0.4541 - accuracy: 0.7750\n",
            "5/5 [==============================] - 0s 2ms/step\n",
            "Fold ROC AUC: 0.88546875\n",
            "Epoch 1/10\n",
            "20/20 [==============================] - 1s 2ms/step - loss: 0.6305 - accuracy: 0.6656\n",
            "Epoch 2/10\n",
            "20/20 [==============================] - 0s 2ms/step - loss: 0.5577 - accuracy: 0.7563\n",
            "Epoch 3/10\n",
            "20/20 [==============================] - 0s 2ms/step - loss: 0.5180 - accuracy: 0.7563\n",
            "Epoch 4/10\n",
            "20/20 [==============================] - 0s 2ms/step - loss: 0.4970 - accuracy: 0.7563\n",
            "Epoch 5/10\n",
            "20/20 [==============================] - 0s 1ms/step - loss: 0.4829 - accuracy: 0.7609\n",
            "Epoch 6/10\n",
            "20/20 [==============================] - 0s 1ms/step - loss: 0.4756 - accuracy: 0.7719\n",
            "Epoch 7/10\n",
            "20/20 [==============================] - 0s 2ms/step - loss: 0.4655 - accuracy: 0.7703\n",
            "Epoch 8/10\n",
            "20/20 [==============================] - 0s 2ms/step - loss: 0.4605 - accuracy: 0.7812\n",
            "Epoch 9/10\n",
            "20/20 [==============================] - 0s 2ms/step - loss: 0.4526 - accuracy: 0.7750\n",
            "Epoch 10/10\n",
            "20/20 [==============================] - 0s 1ms/step - loss: 0.4474 - accuracy: 0.7781\n",
            "5/5 [==============================] - 0s 2ms/step\n",
            "Fold ROC AUC: 0.860625\n",
            "Simple Neural Network CV AUC: 0.86\n"
          ]
        }
      ]
    },
    {
      "cell_type": "markdown",
      "source": [
        "### CNN Cross-Validation"
      ],
      "metadata": {
        "id": "_HG77FzGIBwb"
      },
      "id": "_HG77FzGIBwb"
    },
    {
      "cell_type": "code",
      "source": [
        "import numpy as np\n",
        "from tensorflow.keras.models import Sequential\n",
        "from tensorflow.keras.layers import Conv1D, MaxPooling1D, Flatten, Dense\n",
        "from sklearn.model_selection import StratifiedKFold\n",
        "from sklearn.base import BaseEstimator, ClassifierMixin\n",
        "from sklearn.preprocessing import StandardScaler\n",
        "\n",
        "# Ensure data is properly reshaped for Conv1D\n",
        "# Here, we ensure there are enough timesteps for the Conv1D layer\n",
        "timesteps = 10\n",
        "features = X_train.shape[1]\n",
        "X_train_reshaped = np.repeat(X_train[:, np.newaxis, :], timesteps, axis=1)\n",
        "\n",
        "# Scale the data\n",
        "scaler = StandardScaler()\n",
        "X_train_scaled = scaler.fit_transform(X_train_reshaped.reshape(-1, features)).reshape(X_train_reshaped.shape)\n",
        "\n",
        "class KerasCNNClassifier(BaseEstimator, ClassifierMixin):\n",
        "    def __init__(self, epochs=10, batch_size=32):\n",
        "        self.epochs = epochs\n",
        "        self.batch_size = batch_size\n",
        "        self.model = None\n",
        "\n",
        "    def build_model(self):\n",
        "        model = Sequential()\n",
        "        model.add(Conv1D(filters=64, kernel_size=3, activation='relu', input_shape=(timesteps, features)))\n",
        "        model.add(MaxPooling1D(pool_size=2))\n",
        "        model.add(Flatten())\n",
        "        model.add(Dense(100, activation='relu'))\n",
        "        model.add(Dense(1, activation='sigmoid'))\n",
        "        model.compile(optimizer='adam', loss='binary_crossentropy', metrics=['accuracy'])\n",
        "        return model\n",
        "\n",
        "    def fit(self, X, y):\n",
        "        self.model = self.build_model()\n",
        "        self.model.fit(X, y, epochs=self.epochs, batch_size=self.batch_size, verbose=1)\n",
        "        return self\n",
        "\n",
        "    def predict(self, X):\n",
        "        return (self.model.predict(X) > 0.5).astype(\"int32\")\n",
        "\n",
        "    def predict_proba(self, X):\n",
        "        return self.model.predict(X)\n",
        "\n",
        "    def get_params(self, deep=True):\n",
        "        return {\"epochs\": self.epochs, \"batch_size\": self.batch_size}\n",
        "\n",
        "    def set_params(self, **params):\n",
        "        for param, value in params.items():\n",
        "            setattr(self, param, value)\n",
        "        return self\n",
        "\n",
        "# Convert DataFrame to numpy array if necessary\n",
        "if isinstance(X_train, pd.DataFrame):\n",
        "    X_train = X_train.values\n",
        "if isinstance(y_train, pd.Series):\n",
        "    y_train = y_train.values\n",
        "\n",
        "# Instantiate the model\n",
        "cnn_model = KerasCNNClassifier(epochs=10, batch_size=32)\n",
        "\n",
        "# Perform 5-fold cross-validation manually to debug\n",
        "kf = StratifiedKFold(n_splits=5, shuffle=True, random_state=42)\n",
        "roc_auc_scores = []\n",
        "\n",
        "for train_index, test_index in kf.split(X_train_scaled, y_train):\n",
        "    X_train_cv, X_test_cv = X_train_scaled[train_index], X_train_scaled[test_index]\n",
        "    y_train_cv, y_test_cv = y_train[train_index], y_train[test_index]\n",
        "\n",
        "    cnn_model.fit(X_train_cv, y_train_cv)\n",
        "    y_pred_proba = cnn_model.predict_proba(X_test_cv)\n",
        "\n",
        "    # Check for NaN values in predictions\n",
        "    if np.any(np.isnan(y_pred_proba)):\n",
        "        print(\"NaN values found in predictions\")\n",
        "        continue\n",
        "\n",
        "    roc_auc = roc_auc_score(y_test_cv, y_pred_proba)\n",
        "    roc_auc_scores.append(roc_auc)\n",
        "    print(f\"Fold ROC AUC: {roc_auc}\")\n",
        "\n",
        "# Calculate mean ROC AUC\n",
        "mean_roc_auc = np.mean(roc_auc_scores)\n",
        "print(f'Convolutional Neural Network CV AUC: {mean_roc_auc:.2f}')\n"
      ],
      "metadata": {
        "colab": {
          "base_uri": "https://localhost:8080/"
        },
        "id": "FIuVJCOTBHyP",
        "outputId": "3e87a896-8d70-4d72-b2ad-55842be75c70"
      },
      "id": "FIuVJCOTBHyP",
      "execution_count": 36,
      "outputs": [
        {
          "output_type": "stream",
          "name": "stdout",
          "text": [
            "Epoch 1/10\n",
            "20/20 [==============================] - 1s 2ms/step - loss: 0.5888 - accuracy: 0.6750\n",
            "Epoch 2/10\n",
            "20/20 [==============================] - 0s 2ms/step - loss: 0.4726 - accuracy: 0.7547\n",
            "Epoch 3/10\n",
            "20/20 [==============================] - 0s 2ms/step - loss: 0.4440 - accuracy: 0.7625\n",
            "Epoch 4/10\n",
            "20/20 [==============================] - 0s 2ms/step - loss: 0.4243 - accuracy: 0.7781\n",
            "Epoch 5/10\n",
            "20/20 [==============================] - 0s 2ms/step - loss: 0.4107 - accuracy: 0.7969\n",
            "Epoch 6/10\n",
            "20/20 [==============================] - 0s 2ms/step - loss: 0.3993 - accuracy: 0.8062\n",
            "Epoch 7/10\n",
            "20/20 [==============================] - 0s 2ms/step - loss: 0.3885 - accuracy: 0.7984\n",
            "Epoch 8/10\n",
            "20/20 [==============================] - 0s 2ms/step - loss: 0.3715 - accuracy: 0.8328\n",
            "Epoch 9/10\n",
            "20/20 [==============================] - 0s 2ms/step - loss: 0.3709 - accuracy: 0.8203\n",
            "Epoch 10/10\n",
            "20/20 [==============================] - 0s 2ms/step - loss: 0.3632 - accuracy: 0.8266\n",
            "5/5 [==============================] - 0s 2ms/step\n",
            "Fold ROC AUC: 0.7876230661040788\n",
            "Epoch 1/10\n",
            "20/20 [==============================] - 1s 2ms/step - loss: 0.5630 - accuracy: 0.7281\n",
            "Epoch 2/10\n",
            "20/20 [==============================] - 0s 2ms/step - loss: 0.4763 - accuracy: 0.7516\n",
            "Epoch 3/10\n",
            "20/20 [==============================] - 0s 2ms/step - loss: 0.4489 - accuracy: 0.7766\n",
            "Epoch 4/10\n",
            "20/20 [==============================] - 0s 2ms/step - loss: 0.4385 - accuracy: 0.7781\n",
            "Epoch 5/10\n",
            "20/20 [==============================] - 0s 2ms/step - loss: 0.4321 - accuracy: 0.7937\n",
            "Epoch 6/10\n",
            "20/20 [==============================] - 0s 2ms/step - loss: 0.4191 - accuracy: 0.7906\n",
            "Epoch 7/10\n",
            "20/20 [==============================] - 0s 3ms/step - loss: 0.4021 - accuracy: 0.8094\n",
            "Epoch 8/10\n",
            "20/20 [==============================] - 0s 2ms/step - loss: 0.3942 - accuracy: 0.8156\n",
            "Epoch 9/10\n",
            "20/20 [==============================] - 0s 2ms/step - loss: 0.3846 - accuracy: 0.8125\n",
            "Epoch 10/10\n",
            "20/20 [==============================] - 0s 2ms/step - loss: 0.3767 - accuracy: 0.8281\n",
            "5/5 [==============================] - 0s 2ms/step\n",
            "Fold ROC AUC: 0.8678124999999999\n",
            "Epoch 1/10\n",
            "20/20 [==============================] - 1s 2ms/step - loss: 0.5717 - accuracy: 0.6984\n",
            "Epoch 2/10\n",
            "20/20 [==============================] - 0s 2ms/step - loss: 0.4909 - accuracy: 0.7641\n",
            "Epoch 3/10\n",
            "20/20 [==============================] - 0s 2ms/step - loss: 0.4722 - accuracy: 0.7719\n",
            "Epoch 4/10\n",
            "20/20 [==============================] - 0s 2ms/step - loss: 0.4564 - accuracy: 0.7766\n",
            "Epoch 5/10\n",
            "20/20 [==============================] - 0s 2ms/step - loss: 0.4462 - accuracy: 0.7875\n",
            "Epoch 6/10\n",
            "20/20 [==============================] - 0s 2ms/step - loss: 0.4333 - accuracy: 0.7891\n",
            "Epoch 7/10\n",
            "20/20 [==============================] - 0s 3ms/step - loss: 0.4256 - accuracy: 0.7984\n",
            "Epoch 8/10\n",
            "20/20 [==============================] - 0s 2ms/step - loss: 0.4137 - accuracy: 0.8047\n",
            "Epoch 9/10\n",
            "20/20 [==============================] - 0s 3ms/step - loss: 0.4048 - accuracy: 0.8141\n",
            "Epoch 10/10\n",
            "20/20 [==============================] - 0s 2ms/step - loss: 0.3971 - accuracy: 0.8141\n",
            "5/5 [==============================] - 0s 2ms/step\n",
            "Fold ROC AUC: 0.91078125\n",
            "Epoch 1/10\n",
            "20/20 [==============================] - 1s 3ms/step - loss: 0.5772 - accuracy: 0.7016\n",
            "Epoch 2/10\n",
            "20/20 [==============================] - 0s 3ms/step - loss: 0.4893 - accuracy: 0.7484\n",
            "Epoch 3/10\n",
            "20/20 [==============================] - 0s 3ms/step - loss: 0.4641 - accuracy: 0.7734\n",
            "Epoch 4/10\n",
            "20/20 [==============================] - 0s 2ms/step - loss: 0.4457 - accuracy: 0.7688\n",
            "Epoch 5/10\n",
            "20/20 [==============================] - 0s 3ms/step - loss: 0.4408 - accuracy: 0.7844\n",
            "Epoch 6/10\n",
            "20/20 [==============================] - 0s 2ms/step - loss: 0.4296 - accuracy: 0.7906\n",
            "Epoch 7/10\n",
            "20/20 [==============================] - 0s 2ms/step - loss: 0.4156 - accuracy: 0.7859\n",
            "Epoch 8/10\n",
            "20/20 [==============================] - 0s 3ms/step - loss: 0.4092 - accuracy: 0.8062\n",
            "Epoch 9/10\n",
            "20/20 [==============================] - 0s 3ms/step - loss: 0.3969 - accuracy: 0.8141\n",
            "Epoch 10/10\n",
            "20/20 [==============================] - 0s 3ms/step - loss: 0.3957 - accuracy: 0.8141\n",
            "5/5 [==============================] - 0s 3ms/step\n",
            "Fold ROC AUC: 0.8892187500000001\n",
            "Epoch 1/10\n",
            "20/20 [==============================] - 1s 2ms/step - loss: 0.5525 - accuracy: 0.6953\n",
            "Epoch 2/10\n",
            "20/20 [==============================] - 0s 3ms/step - loss: 0.4770 - accuracy: 0.7688\n",
            "Epoch 3/10\n",
            "20/20 [==============================] - 0s 2ms/step - loss: 0.4628 - accuracy: 0.7734\n",
            "Epoch 4/10\n",
            "20/20 [==============================] - 0s 2ms/step - loss: 0.4403 - accuracy: 0.7734\n",
            "Epoch 5/10\n",
            "20/20 [==============================] - 0s 2ms/step - loss: 0.4216 - accuracy: 0.8031\n",
            "Epoch 6/10\n",
            "20/20 [==============================] - 0s 2ms/step - loss: 0.4126 - accuracy: 0.8000\n",
            "Epoch 7/10\n",
            "20/20 [==============================] - 0s 2ms/step - loss: 0.4010 - accuracy: 0.8047\n",
            "Epoch 8/10\n",
            "20/20 [==============================] - 0s 2ms/step - loss: 0.3923 - accuracy: 0.8094\n",
            "Epoch 9/10\n",
            "20/20 [==============================] - 0s 2ms/step - loss: 0.3850 - accuracy: 0.8281\n",
            "Epoch 10/10\n",
            "20/20 [==============================] - 0s 3ms/step - loss: 0.3760 - accuracy: 0.8359\n",
            "5/5 [==============================] - 0s 2ms/step\n",
            "Fold ROC AUC: 0.8421875\n",
            "Convolutional Neural Network CV AUC: 0.86\n"
          ]
        }
      ]
    },
    {
      "cell_type": "markdown",
      "source": [
        "### The Results"
      ],
      "metadata": {
        "id": "Rd_9RN3XL2qL"
      },
      "id": "Rd_9RN3XL2qL"
    },
    {
      "cell_type": "markdown",
      "source": [
        "1. Simple Neural Network (SNN):\n",
        " - CV AUC: 0.81: The Simple Neural Network achieved a cross-validated Area Under the ROC Curve (AUC) score of 0.81. This indicates that the model has a good ability to distinguish between the classes and has a balanced performance.\n",
        "2. Convolutional Neural Network (CNN):\n",
        " - CV AUC: 0.81: The Convolutional Neural Network also achieved a cross-validated AUC score of 0.81, similar to the Simple Neural Network. This suggests that the CNN is performing well, capturing relevant patterns in the data."
      ],
      "metadata": {
        "id": "Db5XBncaL0Fu"
      },
      "id": "Db5XBncaL0Fu"
    },
    {
      "cell_type": "markdown",
      "source": [
        "### GRU with Attention Cross-Validation\n",
        " Uses a GRU layer followed by an Attention mechanism to focus on important parts of the sequence."
      ],
      "metadata": {
        "id": "1RRk3hEuMJxj"
      },
      "id": "1RRk3hEuMJxj"
    },
    {
      "cell_type": "code",
      "source": [
        "from tensorflow.keras.models import Model\n",
        "from tensorflow.keras.layers import Input, GRU, Dense, Flatten, Attention, Concatenate\n",
        "from sklearn.base import BaseEstimator, ClassifierMixin\n",
        "from sklearn.model_selection import StratifiedKFold\n",
        "from sklearn.metrics import roc_auc_score\n",
        "\n",
        "class GRUAttentionClassifier(BaseEstimator, ClassifierMixin):\n",
        "    def __init__(self, epochs=10, batch_size=32):\n",
        "        self.epochs = epochs\n",
        "        self.batch_size = batch_size\n",
        "        self.model = None\n",
        "\n",
        "    def build_model(self):\n",
        "        input_layer = Input(shape=(timesteps, features))\n",
        "        gru_layer = GRU(128, return_sequences=True)(input_layer)\n",
        "        attention_layer = Attention()([gru_layer, gru_layer])\n",
        "        flatten_layer = Flatten()(attention_layer)\n",
        "        output_layer = Dense(1, activation='sigmoid')(flatten_layer)\n",
        "        model = Model(inputs=input_layer, outputs=output_layer)\n",
        "        model.compile(optimizer='adam', loss='binary_crossentropy', metrics=['accuracy'])\n",
        "        return model\n",
        "\n",
        "    def fit(self, X, y):\n",
        "        self.model = self.build_model()\n",
        "        self.model.fit(X, y, epochs=self.epochs, batch_size=self.batch_size, verbose=1)\n",
        "        return self\n",
        "\n",
        "    def predict(self, X):\n",
        "        return (self.model.predict(X) > 0.5).astype(\"int32\")\n",
        "\n",
        "    def predict_proba(self, X):\n",
        "        return self.model.predict(X)\n",
        "\n",
        "    def get_params(self, deep=True):\n",
        "        return {\"epochs\": self.epochs, \"batch_size\": self.batch_size}\n",
        "\n",
        "    def set_params(self, **params):\n",
        "        for param, value in params.items():\n",
        "            setattr(self, param, value)\n",
        "        return self\n",
        "\n",
        "# Instantiate the model\n",
        "gru_attention_model = GRUAttentionClassifier(epochs=10, batch_size=32)\n",
        "\n",
        "# Perform 5-fold cross-validation manually to debug\n",
        "kf = StratifiedKFold(n_splits=5, shuffle=True, random_state=42)\n",
        "roc_auc_scores = []\n",
        "\n",
        "for train_index, test_index in kf.split(X_train_scaled, y_train):\n",
        "    X_train_cv, X_test_cv = X_train_scaled[train_index], X_train_scaled[test_index]\n",
        "    y_train_cv, y_test_cv = y_train[train_index], y_train[test_index]\n",
        "\n",
        "    gru_attention_model.fit(X_train_cv, y_train_cv)\n",
        "    y_pred_proba = gru_attention_model.predict_proba(X_test_cv)\n",
        "\n",
        "    # Check for NaN values in predictions\n",
        "    if np.any(np.isnan(y_pred_proba)):\n",
        "        print(\"NaN values found in predictions\")\n",
        "        continue\n",
        "\n",
        "    roc_auc = roc_auc_score(y_test_cv, y_pred_proba)\n",
        "    roc_auc_scores.append(roc_auc)\n",
        "    print(f\"Fold ROC AUC: {roc_auc}\")\n",
        "\n",
        "# Calculate mean ROC AUC\n",
        "mean_roc_auc = np.mean(roc_auc_scores)\n",
        "print(f'GRU with Attention CV AUC: {mean_roc_auc:.2f}')\n"
      ],
      "metadata": {
        "colab": {
          "base_uri": "https://localhost:8080/"
        },
        "id": "uSuILnjwBHvH",
        "outputId": "a58caf0d-959c-4843-f1ed-173755d707da"
      },
      "id": "uSuILnjwBHvH",
      "execution_count": 37,
      "outputs": [
        {
          "output_type": "stream",
          "name": "stdout",
          "text": [
            "Epoch 1/10\n",
            "20/20 [==============================] - 1s 9ms/step - loss: 0.5212 - accuracy: 0.7422\n",
            "Epoch 2/10\n",
            "20/20 [==============================] - 0s 8ms/step - loss: 0.4897 - accuracy: 0.7531\n",
            "Epoch 3/10\n",
            "20/20 [==============================] - 0s 9ms/step - loss: 0.4737 - accuracy: 0.7672\n",
            "Epoch 4/10\n",
            "20/20 [==============================] - 0s 9ms/step - loss: 0.4666 - accuracy: 0.7484\n",
            "Epoch 5/10\n",
            "20/20 [==============================] - 0s 9ms/step - loss: 0.4542 - accuracy: 0.7656\n",
            "Epoch 6/10\n",
            "20/20 [==============================] - 0s 9ms/step - loss: 0.4468 - accuracy: 0.7750\n",
            "Epoch 7/10\n",
            "20/20 [==============================] - 0s 9ms/step - loss: 0.4338 - accuracy: 0.7828\n",
            "Epoch 8/10\n",
            "20/20 [==============================] - 0s 8ms/step - loss: 0.4348 - accuracy: 0.7766\n",
            "Epoch 9/10\n",
            "20/20 [==============================] - 0s 9ms/step - loss: 0.4201 - accuracy: 0.7828\n",
            "Epoch 10/10\n",
            "20/20 [==============================] - 0s 9ms/step - loss: 0.4088 - accuracy: 0.8000\n",
            "5/5 [==============================] - 0s 5ms/step\n",
            "Fold ROC AUC: 0.824503828723238\n",
            "Epoch 1/10\n",
            "20/20 [==============================] - 1s 9ms/step - loss: 0.5575 - accuracy: 0.7063\n",
            "Epoch 2/10\n",
            "20/20 [==============================] - 0s 9ms/step - loss: 0.4945 - accuracy: 0.7594\n",
            "Epoch 3/10\n",
            "20/20 [==============================] - 0s 9ms/step - loss: 0.4819 - accuracy: 0.7578\n",
            "Epoch 4/10\n",
            "20/20 [==============================] - 0s 9ms/step - loss: 0.4708 - accuracy: 0.7734\n",
            "Epoch 5/10\n",
            "20/20 [==============================] - 0s 8ms/step - loss: 0.4612 - accuracy: 0.7594\n",
            "Epoch 6/10\n",
            "20/20 [==============================] - 0s 9ms/step - loss: 0.4587 - accuracy: 0.7766\n",
            "Epoch 7/10\n",
            "20/20 [==============================] - 0s 9ms/step - loss: 0.4472 - accuracy: 0.7828\n",
            "Epoch 8/10\n",
            "20/20 [==============================] - 0s 8ms/step - loss: 0.4425 - accuracy: 0.7750\n",
            "Epoch 9/10\n",
            "20/20 [==============================] - 0s 8ms/step - loss: 0.4359 - accuracy: 0.7828\n",
            "Epoch 10/10\n",
            "20/20 [==============================] - 0s 8ms/step - loss: 0.4356 - accuracy: 0.7828\n",
            "5/5 [==============================] - 0s 4ms/step\n",
            "Fold ROC AUC: 0.8325\n",
            "Epoch 1/10\n",
            "20/20 [==============================] - 1s 9ms/step - loss: 0.5591 - accuracy: 0.7094\n",
            "Epoch 2/10\n",
            "20/20 [==============================] - 0s 9ms/step - loss: 0.5066 - accuracy: 0.7453\n",
            "Epoch 3/10\n",
            "20/20 [==============================] - 0s 8ms/step - loss: 0.5007 - accuracy: 0.7344\n",
            "Epoch 4/10\n",
            "20/20 [==============================] - 0s 9ms/step - loss: 0.4877 - accuracy: 0.7422\n",
            "Epoch 5/10\n",
            "20/20 [==============================] - 0s 9ms/step - loss: 0.4737 - accuracy: 0.7563\n",
            "Epoch 6/10\n",
            "20/20 [==============================] - 0s 9ms/step - loss: 0.4666 - accuracy: 0.7609\n",
            "Epoch 7/10\n",
            "20/20 [==============================] - 0s 9ms/step - loss: 0.4673 - accuracy: 0.7656\n",
            "Epoch 8/10\n",
            "20/20 [==============================] - 0s 9ms/step - loss: 0.4572 - accuracy: 0.7844\n",
            "Epoch 9/10\n",
            "20/20 [==============================] - 0s 9ms/step - loss: 0.4572 - accuracy: 0.7828\n",
            "Epoch 10/10\n",
            "20/20 [==============================] - 0s 9ms/step - loss: 0.4576 - accuracy: 0.7750\n",
            "5/5 [==============================] - 0s 5ms/step\n",
            "Fold ROC AUC: 0.89671875\n",
            "Epoch 1/10\n",
            "20/20 [==============================] - 1s 9ms/step - loss: 0.5675 - accuracy: 0.7219\n",
            "Epoch 2/10\n",
            "20/20 [==============================] - 0s 8ms/step - loss: 0.5140 - accuracy: 0.7391\n",
            "Epoch 3/10\n",
            "20/20 [==============================] - 0s 9ms/step - loss: 0.4977 - accuracy: 0.7547\n",
            "Epoch 4/10\n",
            "20/20 [==============================] - 0s 10ms/step - loss: 0.4913 - accuracy: 0.7453\n",
            "Epoch 5/10\n",
            "20/20 [==============================] - 0s 9ms/step - loss: 0.4771 - accuracy: 0.7547\n",
            "Epoch 6/10\n",
            "20/20 [==============================] - 0s 9ms/step - loss: 0.4698 - accuracy: 0.7641\n",
            "Epoch 7/10\n",
            "20/20 [==============================] - 0s 9ms/step - loss: 0.4621 - accuracy: 0.7844\n",
            "Epoch 8/10\n",
            "20/20 [==============================] - 0s 9ms/step - loss: 0.4598 - accuracy: 0.7766\n",
            "Epoch 9/10\n",
            "20/20 [==============================] - 0s 9ms/step - loss: 0.4500 - accuracy: 0.7781\n",
            "Epoch 10/10\n",
            "20/20 [==============================] - 0s 9ms/step - loss: 0.4406 - accuracy: 0.7859\n",
            "5/5 [==============================] - 0s 5ms/step\n",
            "Fold ROC AUC: 0.873125\n",
            "Epoch 1/10\n",
            "20/20 [==============================] - 1s 8ms/step - loss: 0.5576 - accuracy: 0.7125\n",
            "Epoch 2/10\n",
            "20/20 [==============================] - 0s 9ms/step - loss: 0.5082 - accuracy: 0.7437\n",
            "Epoch 3/10\n",
            "20/20 [==============================] - 0s 9ms/step - loss: 0.4978 - accuracy: 0.7484\n",
            "Epoch 4/10\n",
            "20/20 [==============================] - 0s 9ms/step - loss: 0.4872 - accuracy: 0.7484\n",
            "Epoch 5/10\n",
            "20/20 [==============================] - 0s 9ms/step - loss: 0.4789 - accuracy: 0.7578\n",
            "Epoch 6/10\n",
            "20/20 [==============================] - 0s 9ms/step - loss: 0.4642 - accuracy: 0.7578\n",
            "Epoch 7/10\n",
            "20/20 [==============================] - 0s 9ms/step - loss: 0.4577 - accuracy: 0.7891\n",
            "Epoch 8/10\n",
            "20/20 [==============================] - 0s 9ms/step - loss: 0.4525 - accuracy: 0.7828\n",
            "Epoch 9/10\n",
            "20/20 [==============================] - 0s 9ms/step - loss: 0.4382 - accuracy: 0.7906\n",
            "Epoch 10/10\n",
            "20/20 [==============================] - 0s 8ms/step - loss: 0.4374 - accuracy: 0.7906\n",
            "5/5 [==============================] - 0s 5ms/step\n",
            "Fold ROC AUC: 0.86140625\n",
            "GRU with Attention CV AUC: 0.86\n"
          ]
        }
      ]
    },
    {
      "cell_type": "markdown",
      "source": [
        "### CNN with GRU Cross-Validation\n",
        "Combines a Convolutional layer for feature extraction with a GRU layer for sequence learning."
      ],
      "metadata": {
        "id": "aUw1lp5ANAT3"
      },
      "id": "aUw1lp5ANAT3"
    },
    {
      "cell_type": "code",
      "source": [
        "from tensorflow.keras.models import Sequential\n",
        "from tensorflow.keras.layers import Conv1D, MaxPooling1D, Flatten, Dense, GRU\n",
        "\n",
        "class CNNGRUClassifier(BaseEstimator, ClassifierMixin):\n",
        "    def __init__(self, epochs=10, batch_size=32):\n",
        "        self.epochs = epochs\n",
        "        self.batch_size = batch_size\n",
        "        self.model = None\n",
        "\n",
        "    def build_model(self):\n",
        "        model = Sequential()\n",
        "        model.add(Conv1D(filters=64, kernel_size=3, activation='relu', input_shape=(timesteps, features)))\n",
        "        model.add(MaxPooling1D(pool_size=2))\n",
        "        model.add(GRU(128))\n",
        "        model.add(Dense(1, activation='sigmoid'))\n",
        "        model.compile(optimizer='adam', loss='binary_crossentropy', metrics=['accuracy'])\n",
        "        return model\n",
        "\n",
        "    def fit(self, X, y):\n",
        "        self.model = self.build_model()\n",
        "        self.model.fit(X, y, epochs=self.epochs, batch_size=self.batch_size, verbose=1)\n",
        "        return self\n",
        "\n",
        "    def predict(self, X):\n",
        "        return (self.model.predict(X) > 0.5).astype(\"int32\")\n",
        "\n",
        "    def predict_proba(self, X):\n",
        "        return self.model.predict(X)\n",
        "\n",
        "    def get_params(self, deep=True):\n",
        "        return {\"epochs\": self.epochs, \"batch_size\": self.batch_size}\n",
        "\n",
        "    def set_params(self, **params):\n",
        "        for param, value in params.items():\n",
        "            setattr(self, param, value)\n",
        "        return self\n",
        "\n",
        "# Instantiate the model\n",
        "cnn_gru_model = CNNGRUClassifier(epochs=10, batch_size=32)\n",
        "\n",
        "# Perform 5-fold cross-validation manually to debug\n",
        "kf = StratifiedKFold(n_splits=5, shuffle=True, random_state=42)\n",
        "roc_auc_scores = []\n",
        "\n",
        "for train_index, test_index in kf.split(X_train_scaled, y_train):\n",
        "    X_train_cv, X_test_cv = X_train_scaled[train_index], X_train_scaled[test_index]\n",
        "    y_train_cv, y_test_cv = y_train[train_index], y_train[test_index]\n",
        "\n",
        "    cnn_gru_model.fit(X_train_cv, y_train_cv)\n",
        "    y_pred_proba = cnn_gru_model.predict_proba(X_test_cv)\n",
        "\n",
        "    # Check for NaN values in predictions\n",
        "    if np.any(np.isnan(y_pred_proba)):\n",
        "        print(\"NaN values found in predictions\")\n",
        "        continue\n",
        "\n",
        "    roc_auc = roc_auc_score(y_test_cv, y_pred_proba)\n",
        "    roc_auc_scores.append(roc_auc)\n",
        "    print(f\"Fold ROC AUC: {roc_auc}\")\n",
        "\n",
        "# Calculate mean ROC AUC\n",
        "mean_roc_auc = np.mean(roc_auc_scores)\n",
        "print(f'CNN with GRU CV AUC: {mean_roc_auc:.2f}')\n"
      ],
      "metadata": {
        "colab": {
          "base_uri": "https://localhost:8080/"
        },
        "id": "ZD5BjzuzBHr-",
        "outputId": "78e3e4ff-ce91-4575-9215-4b9ed0d77394"
      },
      "id": "ZD5BjzuzBHr-",
      "execution_count": 38,
      "outputs": [
        {
          "output_type": "stream",
          "name": "stdout",
          "text": [
            "Epoch 1/10\n",
            "20/20 [==============================] - 1s 5ms/step - loss: 0.5736 - accuracy: 0.7031\n",
            "Epoch 2/10\n",
            "20/20 [==============================] - 0s 5ms/step - loss: 0.4843 - accuracy: 0.7469\n",
            "Epoch 3/10\n",
            "20/20 [==============================] - 0s 5ms/step - loss: 0.4631 - accuracy: 0.7703\n",
            "Epoch 4/10\n",
            "20/20 [==============================] - 0s 5ms/step - loss: 0.4339 - accuracy: 0.7812\n",
            "Epoch 5/10\n",
            "20/20 [==============================] - 0s 5ms/step - loss: 0.4241 - accuracy: 0.7828\n",
            "Epoch 6/10\n",
            "20/20 [==============================] - 0s 5ms/step - loss: 0.4055 - accuracy: 0.8047\n",
            "Epoch 7/10\n",
            "20/20 [==============================] - 0s 5ms/step - loss: 0.3940 - accuracy: 0.8109\n",
            "Epoch 8/10\n",
            "20/20 [==============================] - 0s 5ms/step - loss: 0.3829 - accuracy: 0.8125\n",
            "Epoch 9/10\n",
            "20/20 [==============================] - 0s 4ms/step - loss: 0.3709 - accuracy: 0.8188\n",
            "Epoch 10/10\n",
            "20/20 [==============================] - 0s 5ms/step - loss: 0.3637 - accuracy: 0.8328\n",
            "5/5 [==============================] - 0s 3ms/step\n",
            "Fold ROC AUC: 0.7980934521018909\n",
            "Epoch 1/10\n",
            "20/20 [==============================] - 1s 5ms/step - loss: 0.5786 - accuracy: 0.6938\n",
            "Epoch 2/10\n",
            "20/20 [==============================] - 0s 5ms/step - loss: 0.4842 - accuracy: 0.7500\n",
            "Epoch 3/10\n",
            "20/20 [==============================] - 0s 5ms/step - loss: 0.4606 - accuracy: 0.7688\n",
            "Epoch 4/10\n",
            "20/20 [==============================] - 0s 5ms/step - loss: 0.4530 - accuracy: 0.7641\n",
            "Epoch 5/10\n",
            "20/20 [==============================] - 0s 5ms/step - loss: 0.4439 - accuracy: 0.7719\n",
            "Epoch 6/10\n",
            "20/20 [==============================] - 0s 5ms/step - loss: 0.4276 - accuracy: 0.7906\n",
            "Epoch 7/10\n",
            "20/20 [==============================] - 0s 5ms/step - loss: 0.4169 - accuracy: 0.7859\n",
            "Epoch 8/10\n",
            "20/20 [==============================] - 0s 5ms/step - loss: 0.4169 - accuracy: 0.7891\n",
            "Epoch 9/10\n",
            "20/20 [==============================] - 0s 6ms/step - loss: 0.4056 - accuracy: 0.8047\n",
            "Epoch 10/10\n",
            "20/20 [==============================] - 0s 5ms/step - loss: 0.4043 - accuracy: 0.8062\n",
            "5/5 [==============================] - 0s 2ms/step\n",
            "Fold ROC AUC: 0.85546875\n",
            "Epoch 1/10\n",
            "20/20 [==============================] - 1s 5ms/step - loss: 0.5948 - accuracy: 0.6656\n",
            "Epoch 2/10\n",
            "20/20 [==============================] - 0s 5ms/step - loss: 0.5094 - accuracy: 0.7625\n",
            "Epoch 3/10\n",
            "20/20 [==============================] - 0s 5ms/step - loss: 0.4856 - accuracy: 0.7641\n",
            "Epoch 4/10\n",
            "20/20 [==============================] - 0s 5ms/step - loss: 0.4708 - accuracy: 0.7750\n",
            "Epoch 5/10\n",
            "20/20 [==============================] - 0s 4ms/step - loss: 0.4631 - accuracy: 0.7672\n",
            "Epoch 6/10\n",
            "20/20 [==============================] - 0s 4ms/step - loss: 0.4552 - accuracy: 0.7797\n",
            "Epoch 7/10\n",
            "20/20 [==============================] - 0s 5ms/step - loss: 0.4492 - accuracy: 0.7906\n",
            "Epoch 8/10\n",
            "20/20 [==============================] - 0s 5ms/step - loss: 0.4330 - accuracy: 0.7937\n",
            "Epoch 9/10\n",
            "20/20 [==============================] - 0s 5ms/step - loss: 0.4247 - accuracy: 0.8078\n",
            "Epoch 10/10\n",
            "20/20 [==============================] - 0s 5ms/step - loss: 0.4207 - accuracy: 0.7984\n",
            "5/5 [==============================] - 0s 3ms/step\n",
            "Fold ROC AUC: 0.911875\n",
            "Epoch 1/10\n",
            "20/20 [==============================] - 1s 5ms/step - loss: 0.5790 - accuracy: 0.7094\n",
            "Epoch 2/10\n",
            "20/20 [==============================] - 0s 5ms/step - loss: 0.4855 - accuracy: 0.7609\n",
            "Epoch 3/10\n",
            "20/20 [==============================] - 0s 5ms/step - loss: 0.4672 - accuracy: 0.7750\n",
            "Epoch 4/10\n",
            "20/20 [==============================] - 0s 4ms/step - loss: 0.4511 - accuracy: 0.7922\n",
            "Epoch 5/10\n",
            "20/20 [==============================] - 0s 4ms/step - loss: 0.4517 - accuracy: 0.7891\n",
            "Epoch 6/10\n",
            "20/20 [==============================] - 0s 5ms/step - loss: 0.4275 - accuracy: 0.8000\n",
            "Epoch 7/10\n",
            "20/20 [==============================] - 0s 4ms/step - loss: 0.4182 - accuracy: 0.8016\n",
            "Epoch 8/10\n",
            "20/20 [==============================] - 0s 4ms/step - loss: 0.4125 - accuracy: 0.8234\n",
            "Epoch 9/10\n",
            "20/20 [==============================] - 0s 4ms/step - loss: 0.4160 - accuracy: 0.8031\n",
            "Epoch 10/10\n",
            "20/20 [==============================] - 0s 5ms/step - loss: 0.4018 - accuracy: 0.8172\n",
            "5/5 [==============================] - 0s 4ms/step\n",
            "Fold ROC AUC: 0.8834375000000001\n",
            "Epoch 1/10\n",
            "20/20 [==============================] - 1s 5ms/step - loss: 0.5566 - accuracy: 0.7203\n",
            "Epoch 2/10\n",
            "20/20 [==============================] - 0s 5ms/step - loss: 0.4922 - accuracy: 0.7531\n",
            "Epoch 3/10\n",
            "20/20 [==============================] - 0s 5ms/step - loss: 0.4726 - accuracy: 0.7594\n",
            "Epoch 4/10\n",
            "20/20 [==============================] - 0s 5ms/step - loss: 0.4558 - accuracy: 0.7703\n",
            "Epoch 5/10\n",
            "20/20 [==============================] - 0s 5ms/step - loss: 0.4482 - accuracy: 0.7844\n",
            "Epoch 6/10\n",
            "20/20 [==============================] - 0s 5ms/step - loss: 0.4423 - accuracy: 0.7828\n",
            "Epoch 7/10\n",
            "20/20 [==============================] - 0s 6ms/step - loss: 0.4188 - accuracy: 0.8062\n",
            "Epoch 8/10\n",
            "20/20 [==============================] - 0s 5ms/step - loss: 0.4212 - accuracy: 0.7953\n",
            "Epoch 9/10\n",
            "20/20 [==============================] - 0s 5ms/step - loss: 0.4185 - accuracy: 0.8109\n",
            "Epoch 10/10\n",
            "20/20 [==============================] - 0s 5ms/step - loss: 0.4007 - accuracy: 0.8156\n",
            "5/5 [==============================] - 0s 4ms/step\n",
            "Fold ROC AUC: 0.8635937500000002\n",
            "CNN with GRU CV AUC: 0.86\n"
          ]
        }
      ]
    },
    {
      "cell_type": "markdown",
      "source": [
        "# Transformer Model Implementation\n",
        "Implementing a Transformer model for a classification task for predicting cardiovascular disease (CVD) status. Using PyTorch and the Hugging Face transformers library."
      ],
      "metadata": {
        "id": "ZBN9VJEVBGAB"
      },
      "id": "ZBN9VJEVBGAB"
    },
    {
      "cell_type": "markdown",
      "source": [
        "### Step 1: Install Required Libraries\n",
        "First, make sure you have the required libraries installed:"
      ],
      "metadata": {
        "id": "0Ws7SHbVBlGF"
      },
      "id": "0Ws7SHbVBlGF"
    },
    {
      "cell_type": "code",
      "source": [
        "pip install torch transformers scikit-learn pandas numpy"
      ],
      "metadata": {
        "colab": {
          "base_uri": "https://localhost:8080/"
        },
        "collapsed": true,
        "id": "44EzHGxEBhQf",
        "outputId": "1fa4396b-a10c-4dbc-f124-aa56f040ada2"
      },
      "id": "44EzHGxEBhQf",
      "execution_count": 39,
      "outputs": [
        {
          "output_type": "stream",
          "name": "stdout",
          "text": [
            "Requirement already satisfied: torch in /usr/local/lib/python3.10/dist-packages (2.3.0+cu121)\n",
            "Requirement already satisfied: transformers in /usr/local/lib/python3.10/dist-packages (4.41.2)\n",
            "Requirement already satisfied: scikit-learn in /usr/local/lib/python3.10/dist-packages (1.2.2)\n",
            "Requirement already satisfied: pandas in /usr/local/lib/python3.10/dist-packages (2.0.3)\n",
            "Requirement already satisfied: numpy in /usr/local/lib/python3.10/dist-packages (1.25.2)\n",
            "Requirement already satisfied: filelock in /usr/local/lib/python3.10/dist-packages (from torch) (3.14.0)\n",
            "Requirement already satisfied: typing-extensions>=4.8.0 in /usr/local/lib/python3.10/dist-packages (from torch) (4.12.2)\n",
            "Requirement already satisfied: sympy in /usr/local/lib/python3.10/dist-packages (from torch) (1.12.1)\n",
            "Requirement already satisfied: networkx in /usr/local/lib/python3.10/dist-packages (from torch) (3.3)\n",
            "Requirement already satisfied: jinja2 in /usr/local/lib/python3.10/dist-packages (from torch) (3.1.4)\n",
            "Requirement already satisfied: fsspec in /usr/local/lib/python3.10/dist-packages (from torch) (2023.6.0)\n",
            "Collecting nvidia-cuda-nvrtc-cu12==12.1.105 (from torch)\n",
            "  Using cached nvidia_cuda_nvrtc_cu12-12.1.105-py3-none-manylinux1_x86_64.whl (23.7 MB)\n",
            "Collecting nvidia-cuda-runtime-cu12==12.1.105 (from torch)\n",
            "  Using cached nvidia_cuda_runtime_cu12-12.1.105-py3-none-manylinux1_x86_64.whl (823 kB)\n",
            "Collecting nvidia-cuda-cupti-cu12==12.1.105 (from torch)\n",
            "  Using cached nvidia_cuda_cupti_cu12-12.1.105-py3-none-manylinux1_x86_64.whl (14.1 MB)\n",
            "Collecting nvidia-cudnn-cu12==8.9.2.26 (from torch)\n",
            "  Using cached nvidia_cudnn_cu12-8.9.2.26-py3-none-manylinux1_x86_64.whl (731.7 MB)\n",
            "Collecting nvidia-cublas-cu12==12.1.3.1 (from torch)\n",
            "  Using cached nvidia_cublas_cu12-12.1.3.1-py3-none-manylinux1_x86_64.whl (410.6 MB)\n",
            "Collecting nvidia-cufft-cu12==11.0.2.54 (from torch)\n",
            "  Using cached nvidia_cufft_cu12-11.0.2.54-py3-none-manylinux1_x86_64.whl (121.6 MB)\n",
            "Collecting nvidia-curand-cu12==10.3.2.106 (from torch)\n",
            "  Using cached nvidia_curand_cu12-10.3.2.106-py3-none-manylinux1_x86_64.whl (56.5 MB)\n",
            "Collecting nvidia-cusolver-cu12==11.4.5.107 (from torch)\n",
            "  Using cached nvidia_cusolver_cu12-11.4.5.107-py3-none-manylinux1_x86_64.whl (124.2 MB)\n",
            "Collecting nvidia-cusparse-cu12==12.1.0.106 (from torch)\n",
            "  Using cached nvidia_cusparse_cu12-12.1.0.106-py3-none-manylinux1_x86_64.whl (196.0 MB)\n",
            "Collecting nvidia-nccl-cu12==2.20.5 (from torch)\n",
            "  Using cached nvidia_nccl_cu12-2.20.5-py3-none-manylinux2014_x86_64.whl (176.2 MB)\n",
            "Collecting nvidia-nvtx-cu12==12.1.105 (from torch)\n",
            "  Using cached nvidia_nvtx_cu12-12.1.105-py3-none-manylinux1_x86_64.whl (99 kB)\n",
            "Requirement already satisfied: triton==2.3.0 in /usr/local/lib/python3.10/dist-packages (from torch) (2.3.0)\n",
            "Collecting nvidia-nvjitlink-cu12 (from nvidia-cusolver-cu12==11.4.5.107->torch)\n",
            "  Downloading nvidia_nvjitlink_cu12-12.5.40-py3-none-manylinux2014_x86_64.whl (21.3 MB)\n",
            "\u001b[2K     \u001b[90m━━━━━━━━━━━━━━━━━━━━━━━━━━━━━━━━━━━━━━━━\u001b[0m \u001b[32m21.3/21.3 MB\u001b[0m \u001b[31m80.5 MB/s\u001b[0m eta \u001b[36m0:00:00\u001b[0m\n",
            "\u001b[?25hRequirement already satisfied: huggingface-hub<1.0,>=0.23.0 in /usr/local/lib/python3.10/dist-packages (from transformers) (0.23.3)\n",
            "Requirement already satisfied: packaging>=20.0 in /usr/local/lib/python3.10/dist-packages (from transformers) (24.1)\n",
            "Requirement already satisfied: pyyaml>=5.1 in /usr/local/lib/python3.10/dist-packages (from transformers) (6.0.1)\n",
            "Requirement already satisfied: regex!=2019.12.17 in /usr/local/lib/python3.10/dist-packages (from transformers) (2024.5.15)\n",
            "Requirement already satisfied: requests in /usr/local/lib/python3.10/dist-packages (from transformers) (2.31.0)\n",
            "Requirement already satisfied: tokenizers<0.20,>=0.19 in /usr/local/lib/python3.10/dist-packages (from transformers) (0.19.1)\n",
            "Requirement already satisfied: safetensors>=0.4.1 in /usr/local/lib/python3.10/dist-packages (from transformers) (0.4.3)\n",
            "Requirement already satisfied: tqdm>=4.27 in /usr/local/lib/python3.10/dist-packages (from transformers) (4.66.4)\n",
            "Requirement already satisfied: scipy>=1.3.2 in /usr/local/lib/python3.10/dist-packages (from scikit-learn) (1.11.4)\n",
            "Requirement already satisfied: joblib>=1.1.1 in /usr/local/lib/python3.10/dist-packages (from scikit-learn) (1.4.2)\n",
            "Requirement already satisfied: threadpoolctl>=2.0.0 in /usr/local/lib/python3.10/dist-packages (from scikit-learn) (3.5.0)\n",
            "Requirement already satisfied: python-dateutil>=2.8.2 in /usr/local/lib/python3.10/dist-packages (from pandas) (2.8.2)\n",
            "Requirement already satisfied: pytz>=2020.1 in /usr/local/lib/python3.10/dist-packages (from pandas) (2023.4)\n",
            "Requirement already satisfied: tzdata>=2022.1 in /usr/local/lib/python3.10/dist-packages (from pandas) (2024.1)\n",
            "Requirement already satisfied: six>=1.5 in /usr/local/lib/python3.10/dist-packages (from python-dateutil>=2.8.2->pandas) (1.16.0)\n",
            "Requirement already satisfied: MarkupSafe>=2.0 in /usr/local/lib/python3.10/dist-packages (from jinja2->torch) (2.1.5)\n",
            "Requirement already satisfied: charset-normalizer<4,>=2 in /usr/local/lib/python3.10/dist-packages (from requests->transformers) (3.3.2)\n",
            "Requirement already satisfied: idna<4,>=2.5 in /usr/local/lib/python3.10/dist-packages (from requests->transformers) (3.7)\n",
            "Requirement already satisfied: urllib3<3,>=1.21.1 in /usr/local/lib/python3.10/dist-packages (from requests->transformers) (2.0.7)\n",
            "Requirement already satisfied: certifi>=2017.4.17 in /usr/local/lib/python3.10/dist-packages (from requests->transformers) (2024.6.2)\n",
            "Requirement already satisfied: mpmath<1.4.0,>=1.1.0 in /usr/local/lib/python3.10/dist-packages (from sympy->torch) (1.3.0)\n",
            "Installing collected packages: nvidia-nvtx-cu12, nvidia-nvjitlink-cu12, nvidia-nccl-cu12, nvidia-curand-cu12, nvidia-cufft-cu12, nvidia-cuda-runtime-cu12, nvidia-cuda-nvrtc-cu12, nvidia-cuda-cupti-cu12, nvidia-cublas-cu12, nvidia-cusparse-cu12, nvidia-cudnn-cu12, nvidia-cusolver-cu12\n",
            "Successfully installed nvidia-cublas-cu12-12.1.3.1 nvidia-cuda-cupti-cu12-12.1.105 nvidia-cuda-nvrtc-cu12-12.1.105 nvidia-cuda-runtime-cu12-12.1.105 nvidia-cudnn-cu12-8.9.2.26 nvidia-cufft-cu12-11.0.2.54 nvidia-curand-cu12-10.3.2.106 nvidia-cusolver-cu12-11.4.5.107 nvidia-cusparse-cu12-12.1.0.106 nvidia-nccl-cu12-2.20.5 nvidia-nvjitlink-cu12-12.5.40 nvidia-nvtx-cu12-12.1.105\n"
          ]
        }
      ]
    },
    {
      "cell_type": "markdown",
      "source": [
        "### Step 2: Prepare the Data\n",
        "We will load the Framingham dataset for predicting CVD. We'll load this dataset and preprocess it.\n",
        "\n",
        "\n"
      ],
      "metadata": {
        "id": "SNDrdujjBsrA"
      },
      "id": "SNDrdujjBsrA"
    },
    {
      "cell_type": "code",
      "source": [
        "import pandas as pd\n",
        "from sklearn.model_selection import train_test_split\n",
        "from sklearn.preprocessing import StandardScaler\n",
        "\n",
        "# Load the dataset (loaded)\n",
        "\n",
        "# Preprocess the data\n",
        "#data.fillna(data.mean(), inplace=True)\n",
        "\n",
        "# Define feature columns and target\n",
        "feature_columns = ['Pregnancies', 'Glucose', 'BloodPressure', 'SkinThickness', 'Insulin', 'BMI','DiabetesPedigreeFunction','Age']\n",
        "X = data[feature_columns]\n",
        "y = data['Outcome']\n",
        "\n",
        "# Split the data\n",
        "X_train, X_test, y_train, y_test = train_test_split(X, y, test_size=0.2, random_state=42)\n",
        "\n",
        "# Scale the features\n",
        "scaler = StandardScaler()\n",
        "X_train = scaler.fit_transform(X_train)\n",
        "X_test = scaler.transform(X_test)"
      ],
      "metadata": {
        "id": "MhA-cz04BhLP"
      },
      "id": "MhA-cz04BhLP",
      "execution_count": 42,
      "outputs": []
    },
    {
      "cell_type": "markdown",
      "source": [
        "### Step3: Create a PyTorch Dataset and Dataloader"
      ],
      "metadata": {
        "id": "HxCv1PDBCTOB"
      },
      "id": "HxCv1PDBCTOB"
    },
    {
      "cell_type": "code",
      "source": [
        "import torch\n",
        "from torch.utils.data import Dataset\n",
        "\n",
        "class SequenceDataset(Dataset):\n",
        "    def __init__(self, sequences, labels):\n",
        "        self.sequences = sequences\n",
        "        self.labels = labels\n",
        "\n",
        "    def __len__(self):\n",
        "        return len(self.sequences)\n",
        "\n",
        "    def __getitem__(self, idx):\n",
        "        sequence = self.sequences[idx]\n",
        "        label = self.labels[idx]\n",
        "        return sequence, label\n",
        "\n",
        "# Example usage:\n",
        "train_dataset = SequenceDataset(torch.tensor(X_train_np, dtype=torch.float32), torch.tensor(y_train_np, dtype=torch.long))\n",
        "test_dataset = SequenceDataset(torch.tensor(X_test_np, dtype=torch.float32), torch.tensor(y_test_np, dtype=torch.long))\n"
      ],
      "metadata": {
        "id": "6FTvjA_xn7Fk"
      },
      "id": "6FTvjA_xn7Fk",
      "execution_count": 45,
      "outputs": []
    },
    {
      "cell_type": "code",
      "source": [
        "import torch\n",
        "import torch.nn as nn\n",
        "import torch.nn.functional as F\n",
        "import torch.optim as optim\n",
        "from sklearn.metrics import accuracy_score\n",
        "import numpy as np\n",
        "\n",
        "class TransformerModel(nn.Module):\n",
        "    def __init__(self, input_dim, num_classes, d_model=128, max_seq_length=1):\n",
        "        super(TransformerModel, self).__init__()\n",
        "        self.embedding = nn.Linear(input_dim, d_model)\n",
        "        self.pos_encoder = nn.Parameter(torch.zeros(1, max_seq_length, d_model), requires_grad=False)\n",
        "        self.transformer = nn.Transformer(d_model=d_model, nhead=8, num_encoder_layers=3)\n",
        "        self.fc1 = nn.Linear(d_model, 64)\n",
        "        self.fc2 = nn.Linear(64, num_classes)\n",
        "        self.max_seq_length = max_seq_length\n",
        "\n",
        "    def forward(self, x):\n",
        "        x = self.embedding(x)\n",
        "        batch_size, seq_length, _ = x.size()\n",
        "        if seq_length > self.max_seq_length:\n",
        "            raise ValueError(f\"Input sequence length ({seq_length}) exceeds the maximum sequence length ({self.max_seq_length}).\")\n",
        "        pos_encoding = self.pos_encoder[:, :seq_length, :].expand(batch_size, -1, -1).to(x.device)\n",
        "        x = x + pos_encoding\n",
        "        x = x.transpose(0, 1)\n",
        "        x = self.transformer(x, x)\n",
        "        x = x.mean(dim=0)\n",
        "        x = F.relu(self.fc1(x))\n",
        "        x = self.fc2(x)\n",
        "        return x\n",
        "\n",
        "class SequenceDataset(torch.utils.data.Dataset):\n",
        "    def __init__(self, features, labels):\n",
        "        self.features = features\n",
        "        self.labels = labels\n",
        "\n",
        "    def __len__(self):\n",
        "        return len(self.features)\n",
        "\n",
        "    def __getitem__(self, idx):\n",
        "        return self.features[idx].unsqueeze(0), self.labels[idx]\n",
        "\n",
        "# Assuming X_train, X_test, y_train, y_test are pandas Series\n",
        "X_train_np = np.array(X_train)\n",
        "X_test_np = np.array(X_test)\n",
        "y_train_np = np.array(y_train)\n",
        "y_test_np = np.array(y_test)\n",
        "\n",
        "train_dataset = SequenceDataset(torch.tensor(X_train_np, dtype=torch.float32), torch.tensor(y_train_np, dtype=torch.long))\n",
        "test_dataset = SequenceDataset(torch.tensor(X_test_np, dtype=torch.float32), torch.tensor(y_test_np, dtype=torch.long))\n",
        "\n",
        "train_loader = torch.utils.data.DataLoader(train_dataset, batch_size=32, shuffle=True)\n",
        "test_loader = torch.utils.data.DataLoader(test_dataset, batch_size=32, shuffle=False)\n",
        "\n",
        "# Device configuration\n",
        "device = torch.device('cuda' if torch.cuda.is_available() else 'cpu')\n",
        "model = TransformerModel(input_dim=len(feature_columns), num_classes=2, max_seq_length=1)\n",
        "model.to(device)\n",
        "\n",
        "# Optimizer and loss function\n",
        "optimizer = optim.Adam(model.parameters(), lr=0.001)\n",
        "criterion = nn.CrossEntropyLoss()\n",
        "\n",
        "# Training function\n",
        "def train(model, loader, optimizer, criterion, device):\n",
        "    model.train()\n",
        "    running_loss = 0.0\n",
        "    for features, labels in loader:\n",
        "        features, labels = features.to(device), labels.to(device)\n",
        "        optimizer.zero_grad()\n",
        "        outputs = model(features)  # No need to unsqueeze, already added\n",
        "        loss = criterion(outputs, labels)\n",
        "        loss.backward()\n",
        "        optimizer.step()\n",
        "        running_loss += loss.item()\n",
        "    return running_loss / len(loader)\n",
        "\n",
        "# Evaluation function\n",
        "def evaluate(model, loader, device):\n",
        "    model.eval()\n",
        "    all_preds = []\n",
        "    all_labels = []\n",
        "    with torch.no_grad():\n",
        "        for features, labels in loader:\n",
        "            features, labels = features.to(device), labels.to(device)\n",
        "            outputs = model(features)  # No need to unsqueeze, already added\n",
        "            _, preds = torch.max(outputs, 1)\n",
        "            all_preds.extend(preds.cpu().numpy())\n",
        "            all_labels.extend(labels.cpu().numpy())\n",
        "    accuracy = accuracy_score(all_labels, all_preds)\n",
        "    return accuracy\n",
        "\n",
        "# Training loop\n",
        "num_epochs = 20\n",
        "for epoch in range(num_epochs):\n",
        "    train_loss = train(model, train_loader, optimizer, criterion, device)\n",
        "    test_accuracy = evaluate(model, test_loader, device)\n",
        "    print(f'Epoch {epoch+1}/{num_epochs}, Loss: {train_loss:.4f}, Test Accuracy: {test_accuracy:.4f}')\n"
      ],
      "metadata": {
        "colab": {
          "base_uri": "https://localhost:8080/"
        },
        "id": "KvFgR7QgJLI6",
        "outputId": "8fe2ce32-09ff-47d6-8e89-eaba1c8cf2b1"
      },
      "id": "KvFgR7QgJLI6",
      "execution_count": 46,
      "outputs": [
        {
          "output_type": "stream",
          "name": "stdout",
          "text": [
            "Epoch 1/20, Loss: 0.5925, Test Accuracy: 0.7143\n",
            "Epoch 2/20, Loss: 0.5046, Test Accuracy: 0.7468\n",
            "Epoch 3/20, Loss: 0.5161, Test Accuracy: 0.7078\n",
            "Epoch 4/20, Loss: 0.5243, Test Accuracy: 0.6429\n",
            "Epoch 5/20, Loss: 0.5347, Test Accuracy: 0.6429\n",
            "Epoch 6/20, Loss: 0.5322, Test Accuracy: 0.7403\n",
            "Epoch 7/20, Loss: 0.5090, Test Accuracy: 0.7208\n",
            "Epoch 8/20, Loss: 0.5150, Test Accuracy: 0.7468\n",
            "Epoch 9/20, Loss: 0.4868, Test Accuracy: 0.7532\n",
            "Epoch 10/20, Loss: 0.4834, Test Accuracy: 0.7143\n",
            "Epoch 11/20, Loss: 0.5005, Test Accuracy: 0.7013\n",
            "Epoch 12/20, Loss: 0.4800, Test Accuracy: 0.7273\n",
            "Epoch 13/20, Loss: 0.4766, Test Accuracy: 0.7532\n",
            "Epoch 14/20, Loss: 0.4808, Test Accuracy: 0.7532\n",
            "Epoch 15/20, Loss: 0.4955, Test Accuracy: 0.7727\n",
            "Epoch 16/20, Loss: 0.5088, Test Accuracy: 0.7857\n",
            "Epoch 17/20, Loss: 0.4856, Test Accuracy: 0.7403\n",
            "Epoch 18/20, Loss: 0.5179, Test Accuracy: 0.6818\n",
            "Epoch 19/20, Loss: 0.4964, Test Accuracy: 0.7013\n",
            "Epoch 20/20, Loss: 0.5178, Test Accuracy: 0.7143\n"
          ]
        }
      ]
    },
    {
      "cell_type": "markdown",
      "source": [
        "### Improve another version:\n",
        "1. Increase Model Complexity: Increase the number of transformer layers or units in each layer to give the model more capacity to learn.\n",
        "2. Learning Rate Tuning: Adjust the learning rate. Sometimes a lower learning rate can help the model learn better.\n",
        "3. Data Preprocessing: Ensure that the input data is well preprocessed, normalized, and shuffled.\n",
        "4. Regularization: Add dropout layers to prevent overfitting.\n",
        "\n",
        "This modified model includes additional transformer layers, dropout for regularization, and a lower learning rate. These changes can help the model learn better and avoid overfitting."
      ],
      "metadata": {
        "id": "kdXQL66SQuAV"
      },
      "id": "kdXQL66SQuAV"
    },
    {
      "cell_type": "code",
      "source": [
        "import torch\n",
        "import torch.nn as nn\n",
        "import torch.nn.functional as F\n",
        "import torch.optim as optim\n",
        "from sklearn.metrics import accuracy_score\n",
        "import numpy as np\n",
        "\n",
        "class TransformerModel(nn.Module):\n",
        "    def __init__(self, input_dim, num_classes, d_model=128, max_seq_length=1, nhead=8, num_layers=3):\n",
        "        super(TransformerModel, self).__init__()\n",
        "        self.embedding = nn.Linear(input_dim, d_model)\n",
        "        self.pos_encoder = nn.Parameter(torch.zeros(1, max_seq_length, d_model), requires_grad=False)\n",
        "        encoder_layers = nn.TransformerEncoderLayer(d_model=d_model, nhead=nhead, dim_feedforward=512)\n",
        "        self.transformer_encoder = nn.TransformerEncoder(encoder_layers, num_layers=num_layers)\n",
        "        self.fc1 = nn.Linear(d_model, 64)\n",
        "        self.fc2 = nn.Linear(64, num_classes)\n",
        "        self.max_seq_length = max_seq_length\n",
        "        self.dropout = nn.Dropout(0.3)\n",
        "\n",
        "    def forward(self, x):\n",
        "        x = self.embedding(x)\n",
        "        batch_size, seq_length, _ = x.size()\n",
        "        if seq_length > self.max_seq_length:\n",
        "            raise ValueError(f\"Input sequence length ({seq_length}) exceeds the maximum sequence length ({self.max_seq_length}).\")\n",
        "        pos_encoding = self.pos_encoder[:, :seq_length, :].expand(batch_size, -1, -1).to(x.device)\n",
        "        x = x + pos_encoding\n",
        "        x = x.transpose(0, 1)\n",
        "        x = self.transformer_encoder(x)\n",
        "        x = x.mean(dim=0)\n",
        "        x = self.dropout(F.relu(self.fc1(x)))\n",
        "        x = self.fc2(x)\n",
        "        return x\n",
        "\n",
        "class SequenceDataset(torch.utils.data.Dataset):\n",
        "    def __init__(self, features, labels):\n",
        "        self.features = features\n",
        "        self.labels = labels\n",
        "\n",
        "    def __len__(self):\n",
        "        return len(self.features)\n",
        "\n",
        "    def __getitem__(self, idx):\n",
        "        return self.features[idx].unsqueeze(0), self.labels[idx]\n",
        "\n",
        "# Assuming X_train, X_test, y_train, y_test are pandas Series\n",
        "X_train_np = np.array(X_train)\n",
        "X_test_np = np.array(X_test)\n",
        "y_train_np = np.array(y_train)\n",
        "y_test_np = np.array(y_test)\n",
        "\n",
        "train_dataset = SequenceDataset(torch.tensor(X_train_np, dtype=torch.float32), torch.tensor(y_train_np, dtype=torch.long))\n",
        "test_dataset = SequenceDataset(torch.tensor(X_test_np, dtype=torch.float32), torch.tensor(y_test_np, dtype=torch.long))\n",
        "\n",
        "train_loader = torch.utils.data.DataLoader(train_dataset, batch_size=32, shuffle=True)\n",
        "test_loader = torch.utils.data.DataLoader(test_dataset, batch_size=32, shuffle=False)\n",
        "\n",
        "# Device configuration\n",
        "device = torch.device('cuda' if torch.cuda.is_available() else 'cpu')\n",
        "model = TransformerModel(input_dim=len(feature_columns), num_classes=2, max_seq_length=1, num_layers=4)\n",
        "model.to(device)\n",
        "\n",
        "# Optimizer and loss function\n",
        "optimizer = optim.Adam(model.parameters(), lr=0.0001)\n",
        "criterion = nn.CrossEntropyLoss()\n",
        "\n",
        "# Training function\n",
        "def train(model, loader, optimizer, criterion, device):\n",
        "    model.train()\n",
        "    running_loss = 0.0\n",
        "    for features, labels in loader:\n",
        "        features, labels = features.to(device), labels.to(device)\n",
        "        optimizer.zero_grad()\n",
        "        outputs = model(features)\n",
        "        loss = criterion(outputs, labels)\n",
        "        loss.backward()\n",
        "        optimizer.step()\n",
        "        running_loss += loss.item()\n",
        "    return running_loss / len(loader)\n",
        "\n",
        "# Evaluation function\n",
        "def evaluate(model, loader, device):\n",
        "    model.eval()\n",
        "    all_preds = []\n",
        "    all_labels = []\n",
        "    with torch.no_grad():\n",
        "        for features, labels in loader:\n",
        "            features, labels = features.to(device), labels.to(device)\n",
        "            outputs = model(features)\n",
        "            _, preds = torch.max(outputs, 1)\n",
        "            all_preds.extend(preds.cpu().numpy())\n",
        "            all_labels.extend(labels.cpu().numpy())\n",
        "    accuracy = accuracy_score(all_labels, all_preds)\n",
        "    return accuracy\n",
        "\n",
        "# Training loop\n",
        "num_epochs = 20\n",
        "for epoch in range(num_epochs):\n",
        "    train_loss = train(model, train_loader, optimizer, criterion, device)\n",
        "    test_accuracy = evaluate(model, test_loader, device)\n",
        "    print(f'Epoch {epoch+1}/{num_epochs}, Loss: {train_loss:.4f}, Test Accuracy: {test_accuracy:.4f}')\n"
      ],
      "metadata": {
        "colab": {
          "base_uri": "https://localhost:8080/"
        },
        "id": "yVslxTf5JLEW",
        "outputId": "9994f1b8-7bf2-4f83-8731-e29f36aec996"
      },
      "id": "yVslxTf5JLEW",
      "execution_count": 47,
      "outputs": [
        {
          "output_type": "stream",
          "name": "stdout",
          "text": [
            "Epoch 1/20, Loss: 0.5954, Test Accuracy: 0.7662\n",
            "Epoch 2/20, Loss: 0.5034, Test Accuracy: 0.7338\n",
            "Epoch 3/20, Loss: 0.4640, Test Accuracy: 0.7532\n",
            "Epoch 4/20, Loss: 0.4698, Test Accuracy: 0.7532\n",
            "Epoch 5/20, Loss: 0.4500, Test Accuracy: 0.7338\n",
            "Epoch 6/20, Loss: 0.4676, Test Accuracy: 0.7468\n",
            "Epoch 7/20, Loss: 0.4437, Test Accuracy: 0.7597\n",
            "Epoch 8/20, Loss: 0.4524, Test Accuracy: 0.7338\n",
            "Epoch 9/20, Loss: 0.4356, Test Accuracy: 0.7662\n",
            "Epoch 10/20, Loss: 0.4368, Test Accuracy: 0.7403\n",
            "Epoch 11/20, Loss: 0.4174, Test Accuracy: 0.7597\n",
            "Epoch 12/20, Loss: 0.4252, Test Accuracy: 0.7403\n",
            "Epoch 13/20, Loss: 0.4394, Test Accuracy: 0.7403\n",
            "Epoch 14/20, Loss: 0.4199, Test Accuracy: 0.7208\n",
            "Epoch 15/20, Loss: 0.4124, Test Accuracy: 0.7468\n",
            "Epoch 16/20, Loss: 0.4102, Test Accuracy: 0.7273\n",
            "Epoch 17/20, Loss: 0.4090, Test Accuracy: 0.7273\n",
            "Epoch 18/20, Loss: 0.4162, Test Accuracy: 0.7143\n",
            "Epoch 19/20, Loss: 0.4230, Test Accuracy: 0.7792\n",
            "Epoch 20/20, Loss: 0.4122, Test Accuracy: 0.7273\n"
          ]
        }
      ]
    },
    {
      "cell_type": "code",
      "source": [
        "import matplotlib.pyplot as plt\n",
        "\n",
        "# Data for Set One\n",
        "epochs = list(range(1, 21))\n",
        "loss_set_one = [0.5925, 0.5046, 0.5161, 0.5243, 0.5347, 0.5322, 0.5090, 0.5150, 0.4868, 0.4834, 0.5005, 0.4800, 0.4766, 0.4808, 0.4955, 0.5088, 0.4856, 0.5179, 0.4964, 0.5178]\n",
        "accuracy_set_one = [0.7143, 0.7468, 0.7078, 0.6429, 0.6429, 0.7403, 0.7208, 0.7468, 0.7532, 0.7143, 0.7013, 0.7273, 0.7532, 0.7532, 0.7727, 0.7857, 0.7403, 0.6818, 0.7013, 0.7143]\n",
        "\n",
        "# Data for Set Two\n",
        "loss_set_two = [0.5954, 0.5034, 0.4640, 0.4698, 0.4500, 0.4676, 0.4437, 0.4524, 0.4356, 0.4368, 0.4174, 0.4252, 0.4394, 0.4199, 0.4124, 0.4102, 0.4090, 0.4162, 0.4230, 0.4122]\n",
        "accuracy_set_two = [0.7662, 0.7338, 0.7532, 0.7532, 0.7338, 0.7468, 0.7597, 0.7338, 0.7662, 0.7403, 0.7597, 0.7403, 0.7403, 0.7208, 0.7468, 0.7273, 0.7273, 0.7143, 0.7792, 0.7273]\n",
        "\n",
        "# Plotting\n",
        "fig, ax1 = plt.subplots(figsize=(12, 6))\n",
        "\n",
        "ax2 = ax1.twinx()\n",
        "ax1.plot(epochs, loss_set_one, 'g-', label='Loss Set One')\n",
        "ax2.plot(epochs, accuracy_set_one, 'b-', label='Accuracy Set One')\n",
        "\n",
        "ax1.plot(epochs, loss_set_two, 'g--', label='Loss Set Two')\n",
        "ax2.plot(epochs, accuracy_set_two, 'b--', label='Accuracy Set Two')\n",
        "\n",
        "ax1.set_xlabel('Epoch')\n",
        "ax1.set_ylabel('Loss', color='g')\n",
        "ax2.set_ylabel('Accuracy', color='b')\n",
        "\n",
        "ax1.legend(loc='upper left')\n",
        "ax2.legend(loc='upper right')\n",
        "\n",
        "plt.title('Training Loss and Test Accuracy Over Epochs')\n",
        "plt.show()\n"
      ],
      "metadata": {
        "colab": {
          "base_uri": "https://localhost:8080/",
          "height": 517
        },
        "id": "lYWEzUgQJK-U",
        "outputId": "f1537ddf-1a62-494a-fcc0-350e6a9e5bc6"
      },
      "id": "lYWEzUgQJK-U",
      "execution_count": 49,
      "outputs": [
        {
          "output_type": "display_data",
          "data": {
            "text/plain": [
              "<Figure size 1200x600 with 2 Axes>"
            ],
            "image/png": "[encoded data removed]"
          },
          "metadata": {}
        }
      ]
    },
    {
      "cell_type": "markdown",
      "source": [
        "I need to optimize Transformer model"
      ],
      "metadata": {
        "id": "Ptq9FvHCqZjx"
      },
      "id": "Ptq9FvHCqZjx"
    },
    {
      "cell_type": "code",
      "source": [],
      "metadata": {
        "id": "IAcx7Ln7JK2k"
      },
      "id": "IAcx7Ln7JK2k",
      "execution_count": null,
      "outputs": []
    },
    {
      "cell_type": "code",
      "source": [],
      "metadata": {
        "id": "iQaLYZZpfYf3"
      },
      "id": "iQaLYZZpfYf3",
      "execution_count": null,
      "outputs": []
    },
    {
      "cell_type": "code",
      "source": [],
      "metadata": {
        "id": "30mdvuFnBfgj"
      },
      "id": "30mdvuFnBfgj",
      "execution_count": null,
      "outputs": []
    },
    {
      "cell_type": "markdown",
      "source": [
        "# Model Deployment to Public URL\n",
        "Deploying the top-performing models (Random Forest and Gradient Boosting Machine) using Streamlit:"
      ],
      "metadata": {
        "id": "u1ixwP2oQI2W"
      },
      "id": "u1ixwP2oQI2W"
    },
    {
      "cell_type": "markdown",
      "source": [
        "## Step 1: Install Streamlit\n",
        "First, ensure you have Streamlit installed. You can install it using pip:"
      ],
      "metadata": {
        "id": "yjT1y11gRnor"
      },
      "id": "yjT1y11gRnor"
    },
    {
      "cell_type": "code",
      "source": [
        "!pip install streamlit"
      ],
      "metadata": {
        "colab": {
          "base_uri": "https://localhost:8080/"
        },
        "collapsed": true,
        "id": "Pp63LSu3BHo1",
        "outputId": "393113f0-cd93-4f90-8e36-d318de72a35a"
      },
      "id": "Pp63LSu3BHo1",
      "execution_count": null,
      "outputs": [
        {
          "output_type": "stream",
          "name": "stdout",
          "text": [
            "Collecting streamlit\n",
            "  Downloading streamlit-1.35.0-py2.py3-none-any.whl (8.6 MB)\n",
            "\u001b[?25l     \u001b[90m━━━━━━━━━━━━━━━━━━━━━━━━━━━━━━━━━━━━━━━━\u001b[0m \u001b[32m0.0/8.6 MB\u001b[0m \u001b[31m?\u001b[0m eta \u001b[36m-:--:--\u001b[0m\r\u001b[2K     \u001b[91m━━━━━━\u001b[0m\u001b[90m╺\u001b[0m\u001b[90m━━━━━━━━━━━━━━━━━━━━━━━━━━━━━━━━━\u001b[0m \u001b[32m1.3/8.6 MB\u001b[0m \u001b[31m39.7 MB/s\u001b[0m eta \u001b[36m0:00:01\u001b[0m\r\u001b[2K     \u001b[91m━━━━━━━━━━━━━━━━━━━━━━━\u001b[0m\u001b[90m╺\u001b[0m\u001b[90m━━━━━━━━━━━━━━━━\u001b[0m \u001b[32m5.0/8.6 MB\u001b[0m \u001b[31m72.9 MB/s\u001b[0m eta \u001b[36m0:00:01\u001b[0m\r\u001b[2K     \u001b[91m━━━━━━━━━━━━━━━━━━━━━━━━━━━━━━━━━━━━━━━\u001b[0m\u001b[91m╸\u001b[0m \u001b[32m8.6/8.6 MB\u001b[0m \u001b[31m96.5 MB/s\u001b[0m eta \u001b[36m0:00:01\u001b[0m\r\u001b[2K     \u001b[90m━━━━━━━━━━━━━━━━━━━━━━━━━━━━━━━━━━━━━━━━\u001b[0m \u001b[32m8.6/8.6 MB\u001b[0m \u001b[31m71.4 MB/s\u001b[0m eta \u001b[36m0:00:00\u001b[0m\n",
            "\u001b[?25hRequirement already satisfied: altair<6,>=4.0 in /usr/local/lib/python3.10/dist-packages (from streamlit) (4.2.2)\n",
            "Requirement already satisfied: blinker<2,>=1.0.0 in /usr/lib/python3/dist-packages (from streamlit) (1.4)\n",
            "Requirement already satisfied: cachetools<6,>=4.0 in /usr/local/lib/python3.10/dist-packages (from streamlit) (5.3.3)\n",
            "Requirement already satisfied: click<9,>=7.0 in /usr/local/lib/python3.10/dist-packages (from streamlit) (8.1.7)\n",
            "Requirement already satisfied: numpy<2,>=1.19.3 in /usr/local/lib/python3.10/dist-packages (from streamlit) (1.25.2)\n",
            "Requirement already satisfied: packaging<25,>=16.8 in /usr/local/lib/python3.10/dist-packages (from streamlit) (24.1)\n",
            "Requirement already satisfied: pandas<3,>=1.3.0 in /usr/local/lib/python3.10/dist-packages (from streamlit) (2.0.3)\n",
            "Requirement already satisfied: pillow<11,>=7.1.0 in /usr/local/lib/python3.10/dist-packages (from streamlit) (9.4.0)\n",
            "Requirement already satisfied: protobuf<5,>=3.20 in /usr/local/lib/python3.10/dist-packages (from streamlit) (3.20.3)\n",
            "Requirement already satisfied: pyarrow>=7.0 in /usr/local/lib/python3.10/dist-packages (from streamlit) (14.0.2)\n",
            "Requirement already satisfied: requests<3,>=2.27 in /usr/local/lib/python3.10/dist-packages (from streamlit) (2.31.0)\n",
            "Requirement already satisfied: rich<14,>=10.14.0 in /usr/local/lib/python3.10/dist-packages (from streamlit) (13.7.1)\n",
            "Requirement already satisfied: tenacity<9,>=8.1.0 in /usr/local/lib/python3.10/dist-packages (from streamlit) (8.3.0)\n",
            "Requirement already satisfied: toml<2,>=0.10.1 in /usr/local/lib/python3.10/dist-packages (from streamlit) (0.10.2)\n",
            "Requirement already satisfied: typing-extensions<5,>=4.3.0 in /usr/local/lib/python3.10/dist-packages (from streamlit) (4.12.2)\n",
            "Collecting gitpython!=3.1.19,<4,>=3.0.7 (from streamlit)\n",
            "  Downloading GitPython-3.1.43-py3-none-any.whl (207 kB)\n",
            "\u001b[2K     \u001b[90m━━━━━━━━━━━━━━━━━━━━━━━━━━━━━━━━━━━━━━━━\u001b[0m \u001b[32m207.3/207.3 kB\u001b[0m \u001b[31m23.5 MB/s\u001b[0m eta \u001b[36m0:00:00\u001b[0m\n",
            "\u001b[?25hCollecting pydeck<1,>=0.8.0b4 (from streamlit)\n",
            "  Downloading pydeck-0.9.1-py2.py3-none-any.whl (6.9 MB)\n",
            "\u001b[2K     \u001b[90m━━━━━━━━━━━━━━━━━━━━━━━━━━━━━━━━━━━━━━━━\u001b[0m \u001b[32m6.9/6.9 MB\u001b[0m \u001b[31m122.5 MB/s\u001b[0m eta \u001b[36m0:00:00\u001b[0m\n",
            "\u001b[?25hRequirement already satisfied: tornado<7,>=6.0.3 in /usr/local/lib/python3.10/dist-packages (from streamlit) (6.3.3)\n",
            "Collecting watchdog>=2.1.5 (from streamlit)\n",
            "  Downloading watchdog-4.0.1-py3-none-manylinux2014_x86_64.whl (83 kB)\n",
            "\u001b[2K     \u001b[90m━━━━━━━━━━━━━━━━━━━━━━━━━━━━━━━━━━━━━━━━\u001b[0m \u001b[32m83.0/83.0 kB\u001b[0m \u001b[31m10.9 MB/s\u001b[0m eta \u001b[36m0:00:00\u001b[0m\n",
            "\u001b[?25hRequirement already satisfied: entrypoints in /usr/local/lib/python3.10/dist-packages (from altair<6,>=4.0->streamlit) (0.4)\n",
            "Requirement already satisfied: jinja2 in /usr/local/lib/python3.10/dist-packages (from altair<6,>=4.0->streamlit) (3.1.4)\n",
            "Requirement already satisfied: jsonschema>=3.0 in /usr/local/lib/python3.10/dist-packages (from altair<6,>=4.0->streamlit) (4.19.2)\n",
            "Requirement already satisfied: toolz in /usr/local/lib/python3.10/dist-packages (from altair<6,>=4.0->streamlit) (0.12.1)\n",
            "Collecting gitdb<5,>=4.0.1 (from gitpython!=3.1.19,<4,>=3.0.7->streamlit)\n",
            "  Downloading gitdb-4.0.11-py3-none-any.whl (62 kB)\n",
            "\u001b[2K     \u001b[90m━━━━━━━━━━━━━━━━━━━━━━━━━━━━━━━━━━━━━━━━\u001b[0m \u001b[32m62.7/62.7 kB\u001b[0m \u001b[31m8.4 MB/s\u001b[0m eta \u001b[36m0:00:00\u001b[0m\n",
            "\u001b[?25hRequirement already satisfied: python-dateutil>=2.8.2 in /usr/local/lib/python3.10/dist-packages (from pandas<3,>=1.3.0->streamlit) (2.8.2)\n",
            "Requirement already satisfied: pytz>=2020.1 in /usr/local/lib/python3.10/dist-packages (from pandas<3,>=1.3.0->streamlit) (2023.4)\n",
            "Requirement already satisfied: tzdata>=2022.1 in /usr/local/lib/python3.10/dist-packages (from pandas<3,>=1.3.0->streamlit) (2024.1)\n",
            "Requirement already satisfied: charset-normalizer<4,>=2 in /usr/local/lib/python3.10/dist-packages (from requests<3,>=2.27->streamlit) (3.3.2)\n",
            "Requirement already satisfied: idna<4,>=2.5 in /usr/local/lib/python3.10/dist-packages (from requests<3,>=2.27->streamlit) (3.7)\n",
            "Requirement already satisfied: urllib3<3,>=1.21.1 in /usr/local/lib/python3.10/dist-packages (from requests<3,>=2.27->streamlit) (2.0.7)\n",
            "Requirement already satisfied: certifi>=2017.4.17 in /usr/local/lib/python3.10/dist-packages (from requests<3,>=2.27->streamlit) (2024.6.2)\n",
            "Requirement already satisfied: markdown-it-py>=2.2.0 in /usr/local/lib/python3.10/dist-packages (from rich<14,>=10.14.0->streamlit) (3.0.0)\n",
            "Requirement already satisfied: pygments<3.0.0,>=2.13.0 in /usr/local/lib/python3.10/dist-packages (from rich<14,>=10.14.0->streamlit) (2.16.1)\n",
            "Collecting smmap<6,>=3.0.1 (from gitdb<5,>=4.0.1->gitpython!=3.1.19,<4,>=3.0.7->streamlit)\n",
            "  Downloading smmap-5.0.1-py3-none-any.whl (24 kB)\n",
            "Requirement already satisfied: MarkupSafe>=2.0 in /usr/local/lib/python3.10/dist-packages (from jinja2->altair<6,>=4.0->streamlit) (2.1.5)\n",
            "Requirement already satisfied: attrs>=22.2.0 in /usr/local/lib/python3.10/dist-packages (from jsonschema>=3.0->altair<6,>=4.0->streamlit) (23.2.0)\n",
            "Requirement already satisfied: jsonschema-specifications>=2023.03.6 in /usr/local/lib/python3.10/dist-packages (from jsonschema>=3.0->altair<6,>=4.0->streamlit) (2023.12.1)\n",
            "Requirement already satisfied: referencing>=0.28.4 in /usr/local/lib/python3.10/dist-packages (from jsonschema>=3.0->altair<6,>=4.0->streamlit) (0.35.1)\n",
            "Requirement already satisfied: rpds-py>=0.7.1 in /usr/local/lib/python3.10/dist-packages (from jsonschema>=3.0->altair<6,>=4.0->streamlit) (0.18.1)\n",
            "Requirement already satisfied: mdurl~=0.1 in /usr/local/lib/python3.10/dist-packages (from markdown-it-py>=2.2.0->rich<14,>=10.14.0->streamlit) (0.1.2)\n",
            "Requirement already satisfied: six>=1.5 in /usr/local/lib/python3.10/dist-packages (from python-dateutil>=2.8.2->pandas<3,>=1.3.0->streamlit) (1.16.0)\n",
            "Installing collected packages: watchdog, smmap, pydeck, gitdb, gitpython, streamlit\n",
            "Successfully installed gitdb-4.0.11 gitpython-3.1.43 pydeck-0.9.1 smmap-5.0.1 streamlit-1.35.0 watchdog-4.0.1\n"
          ]
        }
      ]
    },
    {
      "cell_type": "markdown",
      "source": [
        "## Step 2: Save the Trained Models\n",
        "Train the Random Forest and Gradient Boosting Machine models and save them using joblib or pickle.\n",
        "\n",
        "**Training and Saving the Models:**"
      ],
      "metadata": {
        "id": "QR233aEuRyhA"
      },
      "id": "QR233aEuRyhA"
    },
    {
      "cell_type": "code",
      "source": [
        "from sklearn.ensemble import RandomForestClassifier, GradientBoostingClassifier\n",
        "import joblib\n",
        "\n",
        "# Assuming X_train and y_train are your training data\n",
        "rf_model = RandomForestClassifier()\n",
        "gbm_model = GradientBoostingClassifier()\n",
        "\n",
        "rf_model.fit(X_train, y_train)\n",
        "gbm_model.fit(X_train, y_train)\n",
        "\n",
        "# Save the models\n",
        "joblib.dump(rf_model, 'rf_model.pkl')\n",
        "joblib.dump(gbm_model, 'gbm_model.pkl')"
      ],
      "metadata": {
        "colab": {
          "base_uri": "https://localhost:8080/"
        },
        "id": "pN3eYQxTBHk4",
        "outputId": "9a4b4e12-bb0d-4d60-8f6c-65886fc8ee1b"
      },
      "id": "pN3eYQxTBHk4",
      "execution_count": null,
      "outputs": [
        {
          "output_type": "execute_result",
          "data": {
            "text/plain": [
              "['gbm_model.pkl']"
            ]
          },
          "metadata": {},
          "execution_count": 59
        }
      ]
    },
    {
      "cell_type": "code",
      "source": [
        "import joblib\n",
        "from sklearn.ensemble import RandomForestClassifier, GradientBoostingClassifier\n",
        "\n",
        "# Assume X_train and y_train are your training data\n",
        "rf_model = RandomForestClassifier()\n",
        "gbm_model = GradientBoostingClassifier()\n",
        "\n",
        "# Train the models\n",
        "rf_model.fit(X_train, y_train)\n",
        "gbm_model.fit(X_train, y_train)\n",
        "\n",
        "# Save the models to disk\n",
        "joblib.dump(rf_model, 'rf_model.pkl')\n",
        "joblib.dump(gbm_model, 'gbm_model.pkl')\n",
        "\n",
        "print(\"Models saved successfully.\")"
      ],
      "metadata": {
        "colab": {
          "base_uri": "https://localhost:8080/"
        },
        "id": "Zc8pq7kNXpVk",
        "outputId": "a238b800-3caa-4966-e018-af910ce6d6b0"
      },
      "id": "Zc8pq7kNXpVk",
      "execution_count": null,
      "outputs": [
        {
          "output_type": "stream",
          "name": "stdout",
          "text": [
            "Models saved successfully.\n"
          ]
        }
      ]
    },
    {
      "cell_type": "markdown",
      "source": [
        "## Step 3: Create a Streamlit App\n",
        "Create a Python script (e.g., app.py) for your Streamlit app.\n",
        "\n",
        "**Streamlit App Script (app.py):**"
      ],
      "metadata": {
        "id": "gBWj1yXJSDwS"
      },
      "id": "gBWj1yXJSDwS"
    },
    {
      "cell_type": "code",
      "source": [
        "import streamlit as st\n",
        "import pandas as pd\n",
        "import joblib\n",
        "import numpy as np\n",
        "import matplotlib.pyplot as plt\n",
        "from sklearn.calibration import calibration_curve\n",
        "from sklearn.metrics import roc_curve, roc_auc_score\n",
        "import os\n",
        "import urllib.request\n",
        "\n",
        "# Function to download the file\n",
        "def download_file(url, dest):\n",
        "    try:\n",
        "        urllib.request.urlretrieve(url, dest)\n",
        "        return True\n",
        "    except Exception as e:\n",
        "        st.error(f\"Error downloading {url}: {e}\")\n",
        "        return False\n",
        "\n",
        "# URLs for the model files\n",
        "rf_model_url = 'https://raw.githubusercontent.com/HowardHNguyen/cvd/master/rf_model_calibrated.pkl'\n",
        "gbm_model_url = 'https://raw.githubusercontent.com/HowardHNguyen/cvd/master/gbm_model_calibrated.pkl'\n",
        "\n",
        "# Local paths for the model files\n",
        "rf_model_path = 'rf_model_calibrated.pkl'\n",
        "gbm_model_path = 'gbm_model_calibrated.pkl'\n",
        "\n",
        "# Download the models if not already present\n",
        "if not os.path.exists(rf_model_path):\n",
        "    st.info(f\"Downloading {rf_model_path}...\")\n",
        "    download_file(rf_model_url, rf_model_path)\n",
        "\n",
        "if not os.path.exists(gbm_model_path):\n",
        "    st.info(f\"Downloading {gbm_model_path}...\")\n",
        "    download_file(gbm_model_url, gbm_model_path)\n",
        "\n",
        "# Load the calibrated models\n",
        "try:\n",
        "    rf_model_calibrated = joblib.load(rf_model_path)\n",
        "    gbm_model_calibrated = joblib.load(gbm_model_path)\n",
        "except Exception as e:\n",
        "    st.error(f\"Error loading models: {e}\")\n",
        "\n",
        "# Load the dataset\n",
        "data_url = 'https://raw.githubusercontent.com/HowardHNguyen/cvd/master/frmgham2.csv'\n",
        "try:\n",
        "    data = pd.read_csv(data_url)\n",
        "except Exception as e:\n",
        "    st.error(f\"Error loading data: {e}\")\n",
        "\n",
        "# Handle missing values by replacing them with the mean of the respective columns\n",
        "if 'data' in locals():\n",
        "    data.fillna(data.mean(), inplace=True)\n",
        "\n",
        "# Define the feature columns\n",
        "feature_columns = ['AGE', 'TOTCHOL', 'SYSBP', 'DIABP', 'BMI', 'CURSMOKE',\n",
        "                   'GLUCOSE', 'DIABETES', 'HEARTRTE', 'CIGPDAY', 'BPMEDS',\n",
        "                   'STROKE', 'HYPERTEN']\n",
        "\n",
        "# Sidebar for input parameters\n",
        "st.sidebar.header('Enter your parameters')\n",
        "\n",
        "def user_input_features():\n",
        "    age = st.sidebar.slider('Enter your age:', 32, 81, 54)\n",
        "    totchol = st.sidebar.slider('Total Cholesterol:', 107, 696, 200)\n",
        "    sysbp = st.sidebar.slider('Systolic Blood Pressure:', 83, 295, 151)\n",
        "    diabp = st.sidebar.slider('Diastolic Blood Pressure:', 30, 150, 89)\n",
        "    bmi = st.sidebar.slider('BMI:', 14.43, 56.80, 26.77)\n",
        "    cursmoke = st.sidebar.selectbox('Current Smoker:', (0, 1))\n",
        "    glucose = st.sidebar.slider('Glucose:', 39, 478, 117)\n",
        "    diabetes = st.sidebar.selectbox('Diabetes:', (0, 1))\n",
        "    heartrate = st.sidebar.slider('Heart Rate:', 37, 220, 91)\n",
        "    cigpday = st.sidebar.slider('Cigarettes Per Day:', 0, 90, 20)\n",
        "    bpmeds = st.sidebar.selectbox('On BP Meds:', (0, 1))\n",
        "    stroke = st.sidebar.selectbox('Stroke:', (0, 1))\n",
        "    hyperten = st.sidebar.selectbox('Hypertension:', (0, 1))\n",
        "\n",
        "    data = {\n",
        "        'AGE': age,\n",
        "        'TOTCHOL': totchol,\n",
        "        'SYSBP': sysbp,\n",
        "        'DIABP': diabp,\n",
        "        'BMI': bmi,\n",
        "        'CURSMOKE': cursmoke,\n",
        "        'GLUCOSE': glucose,\n",
        "        'DIABETES': diabetes,\n",
        "        'HEARTRTE': heartrate,\n",
        "        'CIGPDAY': cigpday,\n",
        "        'BPMEDS': bpmeds,\n",
        "        'STROKE': stroke,\n",
        "        'HYPERTEN': hyperten\n",
        "    }\n",
        "    features = pd.DataFrame(data, index=[0])\n",
        "    return features\n",
        "\n",
        "input_df = user_input_features()\n",
        "\n",
        "# Apply the model to make predictions\n",
        "if st.sidebar.button('Predict'):\n",
        "    try:\n",
        "        rf_proba_calibrated = rf_model_calibrated.predict_proba(input_df)[:, 1]\n",
        "        gbm_proba_calibrated = gbm_model_calibrated.predict_proba(input_df)[:, 1]\n",
        "    except Exception as e:\n",
        "        st.error(f\"Error making predictions: {e}\")\n",
        "\n",
        "    st.write(\"\"\"\n",
        "    ## Your CVD Probability Prediction Results\n",
        "    This app predicts the probability of cardiovascular disease (CVD) using user inputs.\n",
        "    \"\"\")\n",
        "\n",
        "    st.subheader('Predictions')\n",
        "    try:\n",
        "        st.write(f\"- Random Forest model: Your CVD with probability prediction is {rf_proba_calibrated[0]:.2f}\")\n",
        "        st.write(f\"- Gradient Boosting Machine model: Your CVD with probability prediction is {gbm_proba_calibrated[0]:.2f}\")\n",
        "    except:\n",
        "        pass\n",
        "\n",
        "    # Plot the prediction probability distribution\n",
        "    st.subheader('Prediction Probability Distribution')\n",
        "    try:\n",
        "        fig, ax = plt.subplots()\n",
        "        bars = ax.bar(['Random Forest', 'Gradient Boosting Machine'], [rf_proba_calibrated[0], gbm_proba_calibrated[0]], color=['blue', 'orange'])\n",
        "        ax.set_ylim(0, 1)\n",
        "        ax.set_ylabel('Probability')\n",
        "        for bar in bars:\n",
        "            yval = bar.get_height()\n",
        "            ax.text(bar.get_x() + bar.get_width()/2.0, yval, f'{yval:.2f}', va='bottom')  # va: vertical alignment\n",
        "        st.pyplot(fig)\n",
        "    except:\n",
        "        pass\n",
        "\n",
        "    # Plot feature importances for Random Forest\n",
        "    st.subheader('Feature Importances (Random Forest)')\n",
        "    try:\n",
        "        rf_base_model = rf_model_calibrated.estimator  # Access the base estimator\n",
        "        fig, ax = plt.subplots()\n",
        "        importances = rf_base_model.feature_importances_\n",
        "        indices = np.argsort(importances)\n",
        "        ax.barh(range(len(indices)), importances[indices], color='blue', align='center')\n",
        "        ax.set_yticks(range(len(indices)))\n",
        "        ax.set_yticklabels([feature_columns[i] for i in indices])\n",
        "        ax.set_xlabel('Importance')\n",
        "        st.pyplot(fig)\n",
        "    except Exception as e:\n",
        "        st.error(f\"Error plotting feature importances: {e}\")\n",
        "\n",
        "    # Plot ROC curve for both models\n",
        "    st.subheader('Model Performance')\n",
        "    try:\n",
        "        fig, ax = plt.subplots()\n",
        "        fpr_rf, tpr_rf, _ = roc_curve(data['CVD'], rf_model_calibrated.predict_proba(data[feature_columns])[:, 1])\n",
        "        fpr_gbm, tpr_gbm, _ = roc_curve(data['CVD'], gbm_model_calibrated.predict_proba(data[feature_columns])[:, 1])\n",
        "        ax.plot(fpr_rf, tpr_rf, label=f'Random Forest (AUC = {roc_auc_score(data[\"CVD\"], rf_model_calibrated.predict_proba(data[feature_columns])[:, 1]):.2f})')\n",
        "        ax.plot(fpr_gbm, tpr_gbm, label=f'Gradient Boosting Machine (AUC = {roc_auc_score(data[\"CVD\"], gbm_model_calibrated.predict_proba(data[feature_columns])[:, 1]):.2f})')\n",
        "        ax.plot([0, 1], [0, 1], 'k--')\n",
        "        ax.set_xlabel('False Positive Rate')\n",
        "        ax.set_ylabel('True Positive Rate')\n",
        "        ax.set_title('ROC Curve')\n",
        "        ax.legend(loc='best')\n",
        "        st.pyplot(fig)\n",
        "    except Exception as e:\n",
        "        st.error(f\"Error plotting ROC curve: {e}\")\n",
        "else:\n",
        "    st.write(\"## CVD Prediction App by Howard Nguyen\")\n",
        "    st.write(\"#### Enter your parameters and click Predict to get the results.\")\n"
      ],
      "metadata": {
        "colab": {
          "base_uri": "https://localhost:8080/"
        },
        "collapsed": true,
        "id": "24ZJ0SUJ_ILx",
        "outputId": "4f877e29-8c73-4771-e6af-6cd69f49d4c5"
      },
      "id": "24ZJ0SUJ_ILx",
      "execution_count": null,
      "outputs": [
        {
          "output_type": "error",
          "ename": "ModuleNotFoundError",
          "evalue": "No module named 'streamlit'",
          "traceback": [
            "\u001b[0;31m---------------------------------------------------------------------------\u001b[0m",
            "\u001b[0;31mModuleNotFoundError\u001b[0m                       Traceback (most recent call last)",
            "\u001b[0;32m<ipython-input-57-b1623d455486>\u001b[0m in \u001b[0;36m<cell line: 1>\u001b[0;34m()\u001b[0m\n\u001b[0;32m----> 1\u001b[0;31m \u001b[0;32mimport\u001b[0m \u001b[0mstreamlit\u001b[0m \u001b[0;32mas\u001b[0m \u001b[0mst\u001b[0m\u001b[0;34m\u001b[0m\u001b[0;34m\u001b[0m\u001b[0m\n\u001b[0m\u001b[1;32m      2\u001b[0m \u001b[0;32mimport\u001b[0m \u001b[0mpandas\u001b[0m \u001b[0;32mas\u001b[0m \u001b[0mpd\u001b[0m\u001b[0;34m\u001b[0m\u001b[0;34m\u001b[0m\u001b[0m\n\u001b[1;32m      3\u001b[0m \u001b[0;32mimport\u001b[0m \u001b[0mjoblib\u001b[0m\u001b[0;34m\u001b[0m\u001b[0;34m\u001b[0m\u001b[0m\n\u001b[1;32m      4\u001b[0m \u001b[0;32mimport\u001b[0m \u001b[0mmatplotlib\u001b[0m\u001b[0;34m.\u001b[0m\u001b[0mpyplot\u001b[0m \u001b[0;32mas\u001b[0m \u001b[0mplt\u001b[0m\u001b[0;34m\u001b[0m\u001b[0;34m\u001b[0m\u001b[0m\n\u001b[1;32m      5\u001b[0m \u001b[0;32mimport\u001b[0m \u001b[0mnumpy\u001b[0m \u001b[0;32mas\u001b[0m \u001b[0mnp\u001b[0m\u001b[0;34m\u001b[0m\u001b[0;34m\u001b[0m\u001b[0m\n",
            "\u001b[0;31mModuleNotFoundError\u001b[0m: No module named 'streamlit'",
            "",
            "\u001b[0;31m---------------------------------------------------------------------------\u001b[0;32m\nNOTE: If your import is failing due to a missing package, you can\nmanually install dependencies using either !pip or !apt.\n\nTo view examples of installing some common dependencies, click the\n\"Open Examples\" button below.\n\u001b[0;31m---------------------------------------------------------------------------\u001b[0m\n"
          ],
          "errorDetails": {
            "actions": [
              {
                "action": "open_url",
                "actionText": "Open Examples",
                "url": "/notebooks/snippets/importing_libraries.ipynb"
              }
            ]
          }
        }
      ]
    },
    {
      "cell_type": "markdown",
      "source": [
        "## Step 4: Run the Streamlit App\n",
        "Run the Streamlit app using the following command:"
      ],
      "metadata": {
        "id": "eisS8pRNSUd0"
      },
      "id": "eisS8pRNSUd0"
    },
    {
      "cell_type": "code",
      "source": [
        "# scikit-learn==1.2.0  # or any specific version you used to save the model"
      ],
      "metadata": {
        "id": "Jd2Tm2rr_II0"
      },
      "id": "Jd2Tm2rr_II0",
      "execution_count": null,
      "outputs": []
    },
    {
      "cell_type": "code",
      "source": [
        "import joblib\n",
        "from sklearn.ensemble import RandomForestClassifier\n",
        "\n",
        "# Assuming rf_model is your trained model\n",
        "rf_model = RandomForestClassifier()\n",
        "# Train your model\n",
        "# rf_model.fit(X_train, y_train)\n",
        "\n",
        "# Save the model\n",
        "joblib.dump(rf_model, 'rf_model.pkl')"
      ],
      "metadata": {
        "colab": {
          "base_uri": "https://localhost:8080/"
        },
        "id": "B5Lf16lv_IFg",
        "outputId": "129fbfa0-e887-4aac-b172-4c6d40b4a033"
      },
      "id": "B5Lf16lv_IFg",
      "execution_count": null,
      "outputs": [
        {
          "output_type": "execute_result",
          "data": {
            "text/plain": [
              "['rf_model.pkl']"
            ]
          },
          "metadata": {},
          "execution_count": 85
        }
      ]
    },
    {
      "cell_type": "code",
      "source": [
        "import streamlit as st\n",
        "import joblib\n",
        "import numpy as np\n",
        "from sklearn.ensemble import RandomForestClassifier\n",
        "\n",
        "# Load the models\n",
        "rf_model = joblib.load('rf_model.pkl')\n",
        "gbm_model = joblib.load('gbm_model.pkl')\n",
        "\n",
        "# Streamlit app title\n",
        "st.title(\"Cardiovascular Disease Prediction\")\n",
        "\n",
        "# User input fields\n",
        "age = st.number_input('Age', min_value=0, max_value=120, value=30)\n",
        "totchol = st.number_input('Total Cholesterol', min_value=100, max_value=400, value=200)\n",
        "sysbp = st.number_input('Systolic Blood Pressure', min_value=80, max_value=200, value=120)\n",
        "diabp = st.number_input('Diastolic Blood Pressure', min_value=40, max_value=120, value=80)\n",
        "bmi = st.number_input('BMI', min_value=10.0, max_value=50.0, value=25.0)\n",
        "cursmoke = st.selectbox('Current Smoker', [0, 1])\n",
        "glucose = st.number_input('Glucose', min_value=50, max_value=200, value=100)\n",
        "diabetes = st.selectbox('Diabetes', [0, 1])\n",
        "heartrate = st.number_input('Heart Rate', min_value=40, max_value=200, value=70)\n",
        "cigpday = st.number_input('Cigarettes Per Day', min_value=0, max_value=100, value=0)\n",
        "bpmeds = st.selectbox('Blood Pressure Medications', [0, 1])\n",
        "stroke = st.selectbox('Stroke', [0, 1])\n",
        "hyperten = st.selectbox('Hypertension', [0, 1])\n",
        "\n",
        "# Prepare input data for prediction\n",
        "input_data = np.array([[age, totchol, sysbp, diabp, bmi, cursmoke, glucose, diabetes, heartrate, cigpday, bpmeds, stroke, hyperten]])\n",
        "\n",
        "# Display predictions\n",
        "if st.button('Predict'):\n",
        "    # Predict with Random Forest model\n",
        "    rf_pred = rf_model.predict(input_data)[0]\n",
        "    st.write(f\"Random Forest Prediction: {'Positive' if rf_pred == 1 else 'Negative'}\")\n",
        "\n",
        "    # Predict with Gradient Boosting Machine model\n",
        "    gbm_pred = gbm_model.predict(input_data)[0]\n",
        "    st.write(f\"Gradient Boosting Machine Prediction: {'Positive' if gbm_pred == 1 else 'Negative'}\")\n"
      ],
      "metadata": {
        "id": "JCDjnCERNO5h"
      },
      "id": "JCDjnCERNO5h",
      "execution_count": null,
      "outputs": []
    },
    {
      "cell_type": "code",
      "source": [
        "from sklearn.ensemble import RandomForestClassifier\n",
        "import joblib\n",
        "\n",
        "# Example: Training the model\n",
        "rf_model = RandomForestClassifier()\n",
        "rf_model.fit(X_train, y_train)\n",
        "\n",
        "# Save the trained model\n",
        "joblib.dump(rf_model, 'rf_model.pkl')"
      ],
      "metadata": {
        "colab": {
          "base_uri": "https://localhost:8080/"
        },
        "id": "5LAd6RHaNO2A",
        "outputId": "8360b385-c512-47f2-ffe0-3b17d639ff9a"
      },
      "id": "5LAd6RHaNO2A",
      "execution_count": null,
      "outputs": [
        {
          "output_type": "execute_result",
          "data": {
            "text/plain": [
              "['rf_model.pkl']"
            ]
          },
          "metadata": {},
          "execution_count": 87
        }
      ]
    },
    {
      "cell_type": "code",
      "source": [],
      "metadata": {
        "id": "Iz6BwY8pXgP1"
      },
      "id": "Iz6BwY8pXgP1",
      "execution_count": null,
      "outputs": []
    },
    {
      "cell_type": "markdown",
      "source": [
        "## Enhance Streamlit UI\n",
        "app.py"
      ],
      "metadata": {
        "id": "dwVs6Kw_j4Kf"
      },
      "id": "dwVs6Kw_j4Kf"
    },
    {
      "cell_type": "code",
      "source": [
        "import streamlit as st\n",
        "import numpy as np\n",
        "import pandas as pd\n",
        "import matplotlib.pyplot as plt\n",
        "from sklearn.metrics import roc_curve, roc_auc_score\n",
        "import joblib\n",
        "\n",
        "# Load the models\n",
        "rf_model = joblib.load('rf_model.pkl')\n",
        "gbm_model = joblib.load('gbm_model.pkl')\n",
        "\n",
        "# Function to predict using Random Forest\n",
        "def predict_rf(data):\n",
        "    prediction = rf_model.predict(data)\n",
        "    prediction_proba = rf_model.predict_proba(data)\n",
        "    return prediction, prediction_proba\n",
        "\n",
        "# Function to predict using Gradient Boosting Machine\n",
        "def predict_gbm(data):\n",
        "    prediction = gbm_model.predict(data)\n",
        "    prediction_proba = gbm_model.predict_proba(data)\n",
        "    return prediction, prediction_proba\n",
        "\n",
        "# Streamlit app\n",
        "st.title('Cardiovascular Disease Prediction by Howard Nguyen')\n",
        "st.write('Select normal values for ★ marked fields if you don\\'t know the exact values')\n",
        "\n",
        "# Input fields\n",
        "age = st.number_input('Enter your age:', min_value=0, max_value=120, value=25)\n",
        "totchol = st.number_input('Total Cholesterol:', min_value=0, max_value=700, value=200)\n",
        "sysbp = st.number_input('Systolic Blood Pressure:', min_value=0, max_value=300, value=120)\n",
        "diabp = st.number_input('Diastolic Blood Pressure:', min_value=0, max_value=200, value=80)\n",
        "bmi = st.number_input('BMI:', min_value=0.0, max_value=100.0, value=25.0)\n",
        "cursmoke = st.selectbox('Current Smoker:', options=[0, 1])\n",
        "glucose = st.number_input('Glucose:', min_value=0, max_value=500, value=100)\n",
        "diabetes = st.selectbox('Diabetes:', options=[0, 1])\n",
        "heartrate = st.number_input('Heart Rate:', min_value=0, max_value=300, value=70)\n",
        "cigpday = st.number_input('Cigarettes Per Day:', min_value=0, max_value=100, value=0)\n",
        "bpmeds = st.selectbox('On BP Meds:', options=[0, 1])\n",
        "stroke = st.selectbox('Stroke:', options=[0, 1])\n",
        "hypertension = st.selectbox('Hypertension:', options=[0, 1])\n",
        "\n",
        "# Prepare input data for prediction\n",
        "input_data = np.array([[\n",
        "    age, totchol, sysbp, diabp, bmi, cursmoke, glucose, diabetes,\n",
        "    heartrate, cigpday, bpmeds, stroke, hypertension\n",
        "]])\n",
        "input_df = pd.DataFrame(input_data, columns=[\n",
        "    'AGE', 'TOTCHOL', 'SYSBP', 'DIABP', 'BMI', 'CURSMOKE', 'GLUCOSE', 'DIABETES',\n",
        "    'HEARTRTE', 'CIGPDAY', 'BPMEDS', 'STROKE', 'HYPERTEN'\n",
        "])\n",
        "\n",
        "# Make predictions\n",
        "if st.button('Predict'):\n",
        "    rf_pred, rf_proba = predict_rf(input_df)\n",
        "    gbm_pred, gbm_proba = predict_gbm(input_df)\n",
        "\n",
        "    st.subheader('Predictions')\n",
        "    st.write(f'Random Forest Prediction: {\"CVD\" if rf_pred[0] else \"No CVD\"} with probability {rf_proba[0][1]:.2f}')\n",
        "    st.write(f'Gradient Boosting Machine Prediction: {\"CVD\" if gbm_pred[0] else \"No CVD\"} with probability {gbm_proba[0][1]:.2f}')\n",
        "\n",
        "    # Dummy labels and predictions for ROC curve\n",
        "    y_true = [0, 1]  # Example true labels (replace with actual data if available)\n",
        "    rf_probas = rf_proba[0][1]  # Example predicted probabilities for Random Forest\n",
        "    gbm_probas = gbm_proba[0][1]  # Example predicted probabilities for Gradient Boosting Machine\n",
        "\n",
        "    # Collect example data for ROC curve demonstration\n",
        "    y_true = np.random.randint(0, 2, 100)  # Replace with actual validation labels\n",
        "    rf_probas = np.random.rand(100)  # Replace with actual Random Forest predicted probabilities\n",
        "    gbm_probas = np.random.rand(100)  # Replace with actual Gradient Boosting Machine predicted probabilities\n",
        "\n",
        "    # Plot ROC curve\n",
        "    st.subheader('Model Performance')\n",
        "    fpr_rf, tpr_rf, _ = roc_curve(y_true, rf_probas)\n",
        "    fpr_gbm, tpr_gbm, _ = roc_curve(y_true, gbm_probas)\n",
        "\n",
        "    plt.figure(figsize=(10, 6))\n",
        "    plt.plot(fpr_rf, tpr_rf, label=f'Random Forest (AUC = {roc_auc_score(y_true, rf_probas):.2f})')\n",
        "    plt.plot(fpr_gbm, tpr_gbm, label=f'Gradient Boosting Machine (AUC = {roc_auc_score(y_true, gbm_probas):.2f})')\n",
        "    plt.plot([0, 1], [0, 1], 'k--')\n",
        "    plt.xlabel('False Positive Rate')\n",
        "    plt.ylabel('True Positive Rate')\n",
        "    plt.title('ROC Curve')\n",
        "    plt.legend(loc='best')\n",
        "    st.pyplot(plt).\n",
        "\n",
        "    # Feature importance plot for Random Forest\n",
        "    st.subheader('Feature Importances (Random Forest)')\n",
        "    feature_importances = rf_model.feature_importances_\n",
        "    features = input_df.columns\n",
        "    importance_df = pd.DataFrame({'Feature': features, 'Importance': feature_importances})\n",
        "    importance_df = importance_df.sort_values(by='Importance', ascending=False)\n",
        "\n",
        "    plt.figure(figsize=(10, 6))\n",
        "    plt.barh(importance_df['Feature'], importance_df['Importance'])\n",
        "    plt.xlabel('Importance')\n",
        "    plt.ylabel('Feature')\n",
        "    plt.title('Feature Importances')\n",
        "    plt.gca().invert_yaxis()\n",
        "    st.pyplot(plt)"
      ],
      "metadata": {
        "colab": {
          "base_uri": "https://localhost:8080/"
        },
        "collapsed": true,
        "id": "WZZH1EWENOys",
        "outputId": "14ef5a5c-83fc-4f56-9d39-a31d96041a8a"
      },
      "id": "WZZH1EWENOys",
      "execution_count": null,
      "outputs": [
        {
          "output_type": "error",
          "ename": "FileNotFoundError",
          "evalue": "[Errno 2] No such file or directory: 'rf_model.pkl'",
          "traceback": [
            "\u001b[0;31m---------------------------------------------------------------------------\u001b[0m",
            "\u001b[0;31mFileNotFoundError\u001b[0m                         Traceback (most recent call last)",
            "\u001b[0;32m<ipython-input-2-ad28a4ae92c5>\u001b[0m in \u001b[0;36m<cell line: 9>\u001b[0;34m()\u001b[0m\n\u001b[1;32m      7\u001b[0m \u001b[0;34m\u001b[0m\u001b[0m\n\u001b[1;32m      8\u001b[0m \u001b[0;31m# Load the models\u001b[0m\u001b[0;34m\u001b[0m\u001b[0;34m\u001b[0m\u001b[0m\n\u001b[0;32m----> 9\u001b[0;31m \u001b[0mrf_model\u001b[0m \u001b[0;34m=\u001b[0m \u001b[0mjoblib\u001b[0m\u001b[0;34m.\u001b[0m\u001b[0mload\u001b[0m\u001b[0;34m(\u001b[0m\u001b[0;34m'rf_model.pkl'\u001b[0m\u001b[0;34m)\u001b[0m\u001b[0;34m\u001b[0m\u001b[0;34m\u001b[0m\u001b[0m\n\u001b[0m\u001b[1;32m     10\u001b[0m \u001b[0mgbm_model\u001b[0m \u001b[0;34m=\u001b[0m \u001b[0mjoblib\u001b[0m\u001b[0;34m.\u001b[0m\u001b[0mload\u001b[0m\u001b[0;34m(\u001b[0m\u001b[0;34m'gbm_model.pkl'\u001b[0m\u001b[0;34m)\u001b[0m\u001b[0;34m\u001b[0m\u001b[0;34m\u001b[0m\u001b[0m\n\u001b[1;32m     11\u001b[0m \u001b[0;34m\u001b[0m\u001b[0m\n",
            "\u001b[0;32m/usr/local/lib/python3.10/dist-packages/joblib/numpy_pickle.py\u001b[0m in \u001b[0;36mload\u001b[0;34m(filename, mmap_mode)\u001b[0m\n\u001b[1;32m    648\u001b[0m             \u001b[0mobj\u001b[0m \u001b[0;34m=\u001b[0m \u001b[0m_unpickle\u001b[0m\u001b[0;34m(\u001b[0m\u001b[0mfobj\u001b[0m\u001b[0;34m)\u001b[0m\u001b[0;34m\u001b[0m\u001b[0;34m\u001b[0m\u001b[0m\n\u001b[1;32m    649\u001b[0m     \u001b[0;32melse\u001b[0m\u001b[0;34m:\u001b[0m\u001b[0;34m\u001b[0m\u001b[0;34m\u001b[0m\u001b[0m\n\u001b[0;32m--> 650\u001b[0;31m         \u001b[0;32mwith\u001b[0m \u001b[0mopen\u001b[0m\u001b[0;34m(\u001b[0m\u001b[0mfilename\u001b[0m\u001b[0;34m,\u001b[0m \u001b[0;34m'rb'\u001b[0m\u001b[0;34m)\u001b[0m \u001b[0;32mas\u001b[0m \u001b[0mf\u001b[0m\u001b[0;34m:\u001b[0m\u001b[0;34m\u001b[0m\u001b[0;34m\u001b[0m\u001b[0m\n\u001b[0m\u001b[1;32m    651\u001b[0m             \u001b[0;32mwith\u001b[0m \u001b[0m_read_fileobject\u001b[0m\u001b[0;34m(\u001b[0m\u001b[0mf\u001b[0m\u001b[0;34m,\u001b[0m \u001b[0mfilename\u001b[0m\u001b[0;34m,\u001b[0m \u001b[0mmmap_mode\u001b[0m\u001b[0;34m)\u001b[0m \u001b[0;32mas\u001b[0m \u001b[0mfobj\u001b[0m\u001b[0;34m:\u001b[0m\u001b[0;34m\u001b[0m\u001b[0;34m\u001b[0m\u001b[0m\n\u001b[1;32m    652\u001b[0m                 \u001b[0;32mif\u001b[0m \u001b[0misinstance\u001b[0m\u001b[0;34m(\u001b[0m\u001b[0mfobj\u001b[0m\u001b[0;34m,\u001b[0m \u001b[0mstr\u001b[0m\u001b[0;34m)\u001b[0m\u001b[0;34m:\u001b[0m\u001b[0;34m\u001b[0m\u001b[0;34m\u001b[0m\u001b[0m\n",
            "\u001b[0;31mFileNotFoundError\u001b[0m: [Errno 2] No such file or directory: 'rf_model.pkl'"
          ]
        }
      ]
    },
    {
      "cell_type": "code",
      "source": [],
      "metadata": {
        "id": "kAoz2UijXW9L"
      },
      "id": "kAoz2UijXW9L",
      "execution_count": null,
      "outputs": []
    },
    {
      "cell_type": "code",
      "source": [
        "import streamlit\n",
        "import numpy as np\n",
        "import pandas as pd\n",
        "import sklearn\n",
        "import matplotlib\n",
        "import joblib\n",
        "import tensorflow as tf\n",
        "\n",
        "print(\"streamlit:\", streamlit.__version__)\n",
        "print(\"numpy:\", np.__version__)\n",
        "print(\"pandas:\", pd.__version__)\n",
        "print(\"scikit-learn:\", sklearn.__version__)\n",
        "print(\"matplotlib:\", matplotlib.__version__)\n",
        "print(\"joblib:\", joblib.__version__)\n",
        "print(\"tensorflow:\", tf.__version__)"
      ],
      "metadata": {
        "colab": {
          "base_uri": "https://localhost:8080/"
        },
        "id": "Jj-bPj6g8m5_",
        "outputId": "b32cf6d2-dbdc-468b-a61d-20233a6af52b"
      },
      "id": "Jj-bPj6g8m5_",
      "execution_count": null,
      "outputs": [
        {
          "output_type": "stream",
          "name": "stdout",
          "text": [
            "streamlit: 1.35.0\n",
            "numpy: 1.25.2\n",
            "pandas: 2.0.3\n",
            "scikit-learn: 1.2.2\n",
            "matplotlib: 3.7.1\n",
            "joblib: 1.4.2\n",
            "tensorflow: 2.15.0\n"
          ]
        }
      ]
    },
    {
      "cell_type": "code",
      "source": [],
      "metadata": {
        "id": "P-8dRsFZkZBx"
      },
      "id": "P-8dRsFZkZBx",
      "execution_count": null,
      "outputs": []
    },
    {
      "cell_type": "markdown",
      "source": [
        "# Testing section"
      ],
      "metadata": {
        "id": "_kF3k_Ck3yUY"
      },
      "id": "_kF3k_Ck3yUY"
    },
    {
      "cell_type": "code",
      "source": [
        "data.hist(figsize=(20,20))\n",
        "plt.show()"
      ],
      "metadata": {
        "colab": {
          "base_uri": "https://localhost:8080/",
          "height": 998
        },
        "id": "V7evodbGHzw9",
        "outputId": "481099eb-2aa4-481b-fc11-73b8b761c7fb"
      },
      "id": "V7evodbGHzw9",
      "execution_count": 61,
      "outputs": [
        {
          "output_type": "display_data",
          "data": {
            "text/plain": [
              "<Figure size 2000x2000 with 9 Axes>"
            ],
            "image/png": "[encoded data removed]"
          },
          "metadata": {}
        }
      ]
    },
    {
      "cell_type": "code",
      "source": [
        "data['Outcome'].value_counts()"
      ],
      "metadata": {
        "collapsed": true,
        "colab": {
          "base_uri": "https://localhost:8080/"
        },
        "id": "3cCUzU6er0wT",
        "outputId": "2449850c-e484-4054-d171-292df3a1dc6b"
      },
      "id": "3cCUzU6er0wT",
      "execution_count": 57,
      "outputs": [
        {
          "output_type": "execute_result",
          "data": {
            "text/plain": [
              "Outcome\n",
              "0    500\n",
              "1    268\n",
              "Name: count, dtype: int64"
            ]
          },
          "metadata": {},
          "execution_count": 57
        }
      ]
    },
    {
      "cell_type": "markdown",
      "source": [
        "**Cross-Validation**\n",
        "\n",
        "Use Cross-Validation: Employ k-fold cross-validation to ensure the model's robustness and avoid overfitting. This helps in assessing the model's performance more reliably."
      ],
      "metadata": {
        "id": "PpSu5zVP1c9t"
      },
      "id": "PpSu5zVP1c9t"
    },
    {
      "cell_type": "code",
      "source": [
        "from sklearn.model_selection import cross_val_score\n",
        "\n",
        "scores = cross_val_score(lr_model, X, y, cv=5, scoring='accuracy')\n",
        "print(scores.mean())\n"
      ],
      "metadata": {
        "colab": {
          "base_uri": "https://localhost:8080/"
        },
        "id": "-MFC25Xpz6Cz",
        "outputId": "df26c5f1-bf4e-4279-bf6f-1fd4db12bd98"
      },
      "id": "-MFC25Xpz6Cz",
      "execution_count": 60,
      "outputs": [
        {
          "output_type": "stream",
          "name": "stdout",
          "text": [
            "0.7695696460402341\n"
          ]
        }
      ]
    }
  ],
  "metadata": {
    "kernelspec": {
      "display_name": "Python 3",
      "name": "python3"
    },
    "language_info": {
      "codemirror_mode": {
        "name": "ipython",
        "version": 3
      },
      "file_extension": ".py",
      "mimetype": "text/x-python",
      "name": "python",
      "nbconvert_exporter": "python",
      "pygments_lexer": "ipython3",
      "version": "3.9.13"
    },
    "colab": {
      "provenance": [],
      "machine_shape": "hm",
      "toc_visible": true,
      "include_colab_link": true
    }
  },
  "nbformat": 4,
  "nbformat_minor": 5
}